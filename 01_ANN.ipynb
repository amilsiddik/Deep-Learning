{
  "nbformat": 4,
  "nbformat_minor": 0,
  "metadata": {
    "colab": {
      "name": "01-ANN.ipynb",
      "provenance": [],
      "authorship_tag": "ABX9TyPDnfgqSZEg9bCV2OYbrtKn",
      "include_colab_link": true
    },
    "kernelspec": {
      "name": "python3",
      "display_name": "Python 3"
    },
    "language_info": {
      "name": "python"
    }
  },
  "cells": [
    {
      "cell_type": "markdown",
      "metadata": {
        "id": "view-in-github",
        "colab_type": "text"
      },
      "source": [
        "<a href=\"https://colab.research.google.com/github/amilsiddik/Deep-Learning/blob/main/01_ANN.ipynb\" target=\"_parent\"><img src=\"https://colab.research.google.com/assets/colab-badge.svg\" alt=\"Open In Colab\"/></a>"
      ]
    },
    {
      "cell_type": "markdown",
      "metadata": {
        "id": "KshmHxe96BBC"
      },
      "source": [
        "Untuk contoh kasusnya adalah kita akan melakukan regresi untuk data yang sebenarnya adalah sebuah fungsi linear sebagai berikut:\n",
        "f(x) = 3x + 2\n",
        "\n",
        "> f(x) = 3x + 2\n",
        "\n",
        "\n",
        "Sedangkan arsitektur neural networknya terdiri dari :\n",
        "> 1 node pada input layer => (x)\n",
        "\n",
        "> 1 node pada output layer => f(x)\n",
        "\n",
        "Neural network diatas sudah saya train dan nanti kita akan melakukan forward pass terhadap weight dan bias yang sudah didapat pada saat training."
      ]
    },
    {
      "cell_type": "code",
      "metadata": {
        "id": "HqK08hsv3XG-"
      },
      "source": [
        "import numpy as np"
      ],
      "execution_count": 1,
      "outputs": []
    },
    {
      "cell_type": "markdown",
      "metadata": {
        "id": "0lxR-O3_4OQ0"
      },
      "source": [
        "**Forward Propagation**"
      ]
    },
    {
      "cell_type": "markdown",
      "metadata": {
        "id": "2dZID2uH5Izq"
      },
      "source": [
        "Method forwardPass dibawah ini sangat simple sekali, operasi dot akan dilakukan pada setiap elemen pada input dan tiap weight yang terhubung dengan input dan ditambahkan dengan bias. Hasil dari operasi ini akan dimasukkan ke dalam activation function."
      ]
    },
    {
      "cell_type": "code",
      "metadata": {
        "id": "BLZdJ6CB5MRU"
      },
      "source": [
        "def forwardPass(inputs, weight, bias):\n",
        "\tw_sum = np.dot(inputs, weight) + bias\n",
        "\n",
        "\t# Linear Activation f(x) = x\n",
        "\tact = w_sum\n",
        "\n",
        "\treturn act"
      ],
      "execution_count": 2,
      "outputs": []
    },
    {
      "cell_type": "markdown",
      "metadata": {
        "id": "6Kmf8mh05Sr7"
      },
      "source": [
        "**Pre-Trained Weight**"
      ]
    },
    {
      "cell_type": "markdown",
      "metadata": {
        "id": "zaSMlirf5VQ8"
      },
      "source": [
        "Untuk weight dan bias yang akan kita coba, nilai keduanya sudah didapatkan pada proses training yang telah saya lakukan sebelumnya. Bagaimana cara mendapatkan kedua nilai tersebut akan dijelaskan pada part-part berikutnya."
      ]
    },
    {
      "cell_type": "code",
      "metadata": {
        "id": "z--ttl2F5XKF"
      },
      "source": [
        "W = np.array([[2.99999928]])\n",
        "b = np.array([1.99999976])"
      ],
      "execution_count": 3,
      "outputs": []
    },
    {
      "cell_type": "code",
      "metadata": {
        "colab": {
          "base_uri": "https://localhost:8080/"
        },
        "id": "rzbuUCI7-TYY",
        "outputId": "d6db71a6-d797-4d8d-ce38-341129889aac"
      },
      "source": [
        "# Initialize Input Data\n",
        "inputs = np.array([[7], [8], [9], [10]])\n",
        "\n",
        "# Output of Output Layer\n",
        "o_out = forwardPass(inputs, W, b)\n",
        "\n",
        "print('Output Layer Output (Linear)')\n",
        "print('================================')\n",
        "print(o_out, \"\\n\")\n",
        "\n"
      ],
      "execution_count": 5,
      "outputs": [
        {
          "output_type": "stream",
          "name": "stdout",
          "text": [
            "Output Layer Output (Linear)\n",
            "================================\n",
            "[[22.99999472]\n",
            " [25.999994  ]\n",
            " [28.99999328]\n",
            " [31.99999256]] \n",
            "\n"
          ]
        }
      ]
    }
  ]
}