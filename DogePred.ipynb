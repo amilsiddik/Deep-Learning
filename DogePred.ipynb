{
  "nbformat": 4,
  "nbformat_minor": 0,
  "metadata": {
    "colab": {
      "name": "DogePred.ipynb",
      "provenance": [],
      "authorship_tag": "ABX9TyOUtK8/dEDmfvzgvq34Y/U7",
      "include_colab_link": true
    },
    "kernelspec": {
      "name": "python3",
      "display_name": "Python 3"
    },
    "language_info": {
      "name": "python"
    },
    "accelerator": "GPU"
  },
  "cells": [
    {
      "cell_type": "markdown",
      "metadata": {
        "id": "view-in-github",
        "colab_type": "text"
      },
      "source": [
        "<a href=\"https://colab.research.google.com/github/amilsiddik/Deep-Learning/blob/main/DogePred.ipynb\" target=\"_parent\"><img src=\"https://colab.research.google.com/assets/colab-badge.svg\" alt=\"Open In Colab\"/></a>"
      ]
    },
    {
      "cell_type": "code",
      "metadata": {
        "id": "jpOFwGeJJo4p"
      },
      "source": [
        "import numpy as np\n",
        "import pandas as pd\n",
        "import matplotlib.pyplot as plt\n",
        "import seaborn as sns\n",
        "from sklearn.preprocessing import MinMaxScaler\n",
        "from tensorflow.keras.models import Sequential\n",
        "from tensorflow.keras.layers import Dense\n",
        "from tensorflow.keras.layers import LSTM\n",
        "from tensorflow.keras.layers import Dropout\n",
        "from tensorflow.keras.layers import Activation\n",
        "from sklearn.metrics import mean_squared_error, mean_absolute_error"
      ],
      "execution_count": 1,
      "outputs": []
    },
    {
      "cell_type": "code",
      "metadata": {
        "colab": {
          "base_uri": "https://localhost:8080/"
        },
        "id": "nEtp2Z8xKVUP",
        "outputId": "1450e72e-0d3c-423b-9002-679020c55f8e"
      },
      "source": [
        "doge=pd.read_csv(\"DOGE-USD.csv\")\n",
        "print(doge)\n",
        "doge.info()"
      ],
      "execution_count": 2,
      "outputs": [
        {
          "output_type": "stream",
          "name": "stdout",
          "text": [
            "            Date      Open      High       Low     Close        Volume\n",
            "0     2014-09-17  0.000293  0.000299  0.000260  0.000268  1.463600e+06\n",
            "1     2014-09-18  0.000268  0.000325  0.000267  0.000298  2.215910e+06\n",
            "2     2014-09-19  0.000298  0.000307  0.000275  0.000277  8.835630e+05\n",
            "3     2014-09-20  0.000276  0.000310  0.000267  0.000292  9.930040e+05\n",
            "4     2014-09-21  0.000293  0.000299  0.000284  0.000288  5.391400e+05\n",
            "...          ...       ...       ...       ...       ...           ...\n",
            "2591  2021-10-21  0.254793  0.258261  0.242273  0.242391  1.742571e+09\n",
            "2592  2021-10-22  0.242479  0.252772  0.236472  0.244221  1.829875e+09\n",
            "2593  2021-10-23  0.244514  0.253140  0.241589  0.251733  1.502685e+09\n",
            "2594  2021-10-24  0.251432  0.281935  0.246028  0.277048  5.278761e+09\n",
            "2595  2021-10-25  0.274789  0.278905  0.261085  0.264336  4.801954e+09\n",
            "\n",
            "[2596 rows x 6 columns]\n",
            "<class 'pandas.core.frame.DataFrame'>\n",
            "RangeIndex: 2596 entries, 0 to 2595\n",
            "Data columns (total 6 columns):\n",
            " #   Column  Non-Null Count  Dtype  \n",
            "---  ------  --------------  -----  \n",
            " 0   Date    2596 non-null   object \n",
            " 1   Open    2592 non-null   float64\n",
            " 2   High    2592 non-null   float64\n",
            " 3   Low     2592 non-null   float64\n",
            " 4   Close   2592 non-null   float64\n",
            " 5   Volume  2592 non-null   float64\n",
            "dtypes: float64(5), object(1)\n",
            "memory usage: 121.8+ KB\n"
          ]
        }
      ]
    },
    {
      "cell_type": "markdown",
      "metadata": {
        "id": "dtBiElwyX0as"
      },
      "source": [
        "Data Preparation"
      ]
    },
    {
      "cell_type": "code",
      "metadata": {
        "colab": {
          "base_uri": "https://localhost:8080/",
          "height": 175
        },
        "id": "MdF9ZUP8XGrN",
        "outputId": "d224d9d1-f5aa-4572-b834-8cadcff31187"
      },
      "source": [
        "doge[doge.isnull().any(axis=1)]"
      ],
      "execution_count": 3,
      "outputs": [
        {
          "output_type": "execute_result",
          "data": {
            "text/html": [
              "<div>\n",
              "<style scoped>\n",
              "    .dataframe tbody tr th:only-of-type {\n",
              "        vertical-align: middle;\n",
              "    }\n",
              "\n",
              "    .dataframe tbody tr th {\n",
              "        vertical-align: top;\n",
              "    }\n",
              "\n",
              "    .dataframe thead th {\n",
              "        text-align: right;\n",
              "    }\n",
              "</style>\n",
              "<table border=\"1\" class=\"dataframe\">\n",
              "  <thead>\n",
              "    <tr style=\"text-align: right;\">\n",
              "      <th></th>\n",
              "      <th>Date</th>\n",
              "      <th>Open</th>\n",
              "      <th>High</th>\n",
              "      <th>Low</th>\n",
              "      <th>Close</th>\n",
              "      <th>Volume</th>\n",
              "    </tr>\n",
              "  </thead>\n",
              "  <tbody>\n",
              "    <tr>\n",
              "      <th>2039</th>\n",
              "      <td>2020-04-17</td>\n",
              "      <td>NaN</td>\n",
              "      <td>NaN</td>\n",
              "      <td>NaN</td>\n",
              "      <td>NaN</td>\n",
              "      <td>NaN</td>\n",
              "    </tr>\n",
              "    <tr>\n",
              "      <th>2214</th>\n",
              "      <td>2020-10-09</td>\n",
              "      <td>NaN</td>\n",
              "      <td>NaN</td>\n",
              "      <td>NaN</td>\n",
              "      <td>NaN</td>\n",
              "      <td>NaN</td>\n",
              "    </tr>\n",
              "    <tr>\n",
              "      <th>2217</th>\n",
              "      <td>2020-10-12</td>\n",
              "      <td>NaN</td>\n",
              "      <td>NaN</td>\n",
              "      <td>NaN</td>\n",
              "      <td>NaN</td>\n",
              "      <td>NaN</td>\n",
              "    </tr>\n",
              "    <tr>\n",
              "      <th>2218</th>\n",
              "      <td>2020-10-13</td>\n",
              "      <td>NaN</td>\n",
              "      <td>NaN</td>\n",
              "      <td>NaN</td>\n",
              "      <td>NaN</td>\n",
              "      <td>NaN</td>\n",
              "    </tr>\n",
              "  </tbody>\n",
              "</table>\n",
              "</div>"
            ],
            "text/plain": [
              "            Date  Open  High  Low  Close  Volume\n",
              "2039  2020-04-17   NaN   NaN  NaN    NaN     NaN\n",
              "2214  2020-10-09   NaN   NaN  NaN    NaN     NaN\n",
              "2217  2020-10-12   NaN   NaN  NaN    NaN     NaN\n",
              "2218  2020-10-13   NaN   NaN  NaN    NaN     NaN"
            ]
          },
          "metadata": {},
          "execution_count": 3
        }
      ]
    },
    {
      "cell_type": "code",
      "metadata": {
        "colab": {
          "base_uri": "https://localhost:8080/"
        },
        "id": "iS2p3FWbXLTx",
        "outputId": "f7a3f0ee-d82d-4e89-c970-1c7889d29aae"
      },
      "source": [
        "doge = doge.dropna()\n",
        "doge.info()"
      ],
      "execution_count": 4,
      "outputs": [
        {
          "output_type": "stream",
          "name": "stdout",
          "text": [
            "<class 'pandas.core.frame.DataFrame'>\n",
            "Int64Index: 2592 entries, 0 to 2595\n",
            "Data columns (total 6 columns):\n",
            " #   Column  Non-Null Count  Dtype  \n",
            "---  ------  --------------  -----  \n",
            " 0   Date    2592 non-null   object \n",
            " 1   Open    2592 non-null   float64\n",
            " 2   High    2592 non-null   float64\n",
            " 3   Low     2592 non-null   float64\n",
            " 4   Close   2592 non-null   float64\n",
            " 5   Volume  2592 non-null   float64\n",
            "dtypes: float64(5), object(1)\n",
            "memory usage: 141.8+ KB\n"
          ]
        }
      ]
    },
    {
      "cell_type": "markdown",
      "metadata": {
        "id": "k53zs3I3X7XZ"
      },
      "source": [
        "Analisis Univariat"
      ]
    },
    {
      "cell_type": "code",
      "metadata": {
        "colab": {
          "base_uri": "https://localhost:8080/"
        },
        "id": "6t-1BZBRX4yE",
        "outputId": "993747b1-9d2d-4983-d7ec-b6576cea3863"
      },
      "source": [
        "# We'll take only one variable into consideration to Predict the Price of the DOGECOIN\n",
        "close = doge.Close.iloc[:].to_numpy()\n",
        "close"
      ],
      "execution_count": 5,
      "outputs": [
        {
          "output_type": "execute_result",
          "data": {
            "text/plain": [
              "array([2.68000e-04, 2.98000e-04, 2.77000e-04, ..., 2.51733e-01,\n",
              "       2.77048e-01, 2.64336e-01])"
            ]
          },
          "metadata": {},
          "execution_count": 5
        }
      ]
    },
    {
      "cell_type": "code",
      "metadata": {
        "colab": {
          "base_uri": "https://localhost:8080/"
        },
        "id": "6LlmOVb6YDG6",
        "outputId": "58153b41-16b0-432c-a2fb-57c541090e3f"
      },
      "source": [
        "scaler = MinMaxScaler(feature_range=(0,1))\n",
        "closeScaled = scaler.fit_transform(np.array(close).reshape(-1,1))\n",
        "closeScaled"
      ],
      "execution_count": 6,
      "outputs": [
        {
          "output_type": "execute_result",
          "data": {
            "text/plain": [
              "array([[2.64353211e-04],\n",
              "       [3.08168660e-04],\n",
              "       [2.77497846e-04],\n",
              "       ...,\n",
              "       [3.67532752e-01],\n",
              "       [4.04505689e-01],\n",
              "       [3.85939622e-01]])"
            ]
          },
          "metadata": {},
          "execution_count": 6
        }
      ]
    },
    {
      "cell_type": "code",
      "metadata": {
        "colab": {
          "base_uri": "https://localhost:8080/"
        },
        "id": "Gf7l4jg9YLjX",
        "outputId": "4f382c14-8d2d-43f4-e35b-cccaf2a1df59"
      },
      "source": [
        "closeLength = len(closeScaled)\n",
        "train, test = closeScaled[:(closeLength-150)], closeScaled[(closeLength-150):]\n",
        "len(train), len(test)"
      ],
      "execution_count": 7,
      "outputs": [
        {
          "output_type": "execute_result",
          "data": {
            "text/plain": [
              "(2442, 150)"
            ]
          },
          "metadata": {},
          "execution_count": 7
        }
      ]
    },
    {
      "cell_type": "code",
      "metadata": {
        "id": "5Pj4KR5VYPyx"
      },
      "source": [
        "from tensorflow.keras.preprocessing.sequence import TimeseriesGenerator\n",
        "\n",
        "# define generator\n",
        "inputs = 15\n",
        "features = 1 ## Univariate means only 1 independent variable\n",
        "generator = TimeseriesGenerator(train, train, length=inputs, batch_size=1)"
      ],
      "execution_count": 8,
      "outputs": []
    },
    {
      "cell_type": "code",
      "metadata": {
        "colab": {
          "base_uri": "https://localhost:8080/"
        },
        "id": "CJDLvUXEYS9f",
        "outputId": "371cec39-7608-4d1a-9517-65f3198b1d8d"
      },
      "source": [
        "# define model\n",
        "model = Sequential()\n",
        "model.add(LSTM(150, activation='relu', input_shape=(inputs, features)))\n",
        "model.add(Dense(1))\n",
        "model.compile(optimizer='adam', loss='mse')"
      ],
      "execution_count": 9,
      "outputs": [
        {
          "output_type": "stream",
          "name": "stdout",
          "text": [
            "WARNING:tensorflow:Layer lstm will not use cuDNN kernels since it doesn't meet the criteria. It will use a generic GPU kernel as fallback when running on GPU.\n"
          ]
        }
      ]
    },
    {
      "cell_type": "code",
      "metadata": {
        "colab": {
          "base_uri": "https://localhost:8080/"
        },
        "id": "s5fGZdPZYYIb",
        "outputId": "e24e9906-e8a9-4e80-93c0-246354704de1"
      },
      "source": [
        "model.summary()"
      ],
      "execution_count": 10,
      "outputs": [
        {
          "output_type": "stream",
          "name": "stdout",
          "text": [
            "Model: \"sequential\"\n",
            "_________________________________________________________________\n",
            " Layer (type)                Output Shape              Param #   \n",
            "=================================================================\n",
            " lstm (LSTM)                 (None, 150)               91200     \n",
            "                                                                 \n",
            " dense (Dense)               (None, 1)                 151       \n",
            "                                                                 \n",
            "=================================================================\n",
            "Total params: 91,351\n",
            "Trainable params: 91,351\n",
            "Non-trainable params: 0\n",
            "_________________________________________________________________\n"
          ]
        }
      ]
    },
    {
      "cell_type": "code",
      "metadata": {
        "colab": {
          "base_uri": "https://localhost:8080/"
        },
        "id": "QVJpU_i4YaeT",
        "outputId": "bd1b09cb-012d-4872-f6ff-b410a1e720b5"
      },
      "source": [
        "model.fit(generator, epochs=100)"
      ],
      "execution_count": null,
      "outputs": [
        {
          "output_type": "stream",
          "name": "stdout",
          "text": [
            "Epoch 1/100\n",
            "2427/2427 [==============================] - 119s 48ms/step - loss: 0.0166\n",
            "Epoch 2/100\n",
            "2427/2427 [==============================] - 116s 48ms/step - loss: 0.0012\n",
            "Epoch 3/100\n",
            "2427/2427 [==============================] - 119s 49ms/step - loss: 7.5772e-04\n",
            "Epoch 4/100\n",
            "2427/2427 [==============================] - 116s 48ms/step - loss: 5.6696e-04\n",
            "Epoch 5/100\n",
            "2427/2427 [==============================] - 115s 47ms/step - loss: 4.4918e-04\n",
            "Epoch 6/100\n",
            "2427/2427 [==============================] - 114s 47ms/step - loss: 5.0372e-04\n",
            "Epoch 7/100\n",
            "2427/2427 [==============================] - 113s 46ms/step - loss: 3.7981e-04\n",
            "Epoch 8/100\n",
            "2427/2427 [==============================] - 115s 47ms/step - loss: 3.0589e-04\n",
            "Epoch 9/100\n",
            "2427/2427 [==============================] - 116s 48ms/step - loss: 3.4277e-04\n",
            "Epoch 10/100\n",
            "2427/2427 [==============================] - 114s 47ms/step - loss: 2.5547e-04\n",
            "Epoch 11/100\n",
            "2176/2427 [=========================>....] - ETA: 11s - loss: 2.9636e-04"
          ]
        }
      ]
    },
    {
      "cell_type": "code",
      "metadata": {
        "id": "_HR1tXGhSIyX"
      },
      "source": [
        "test_predictions = []\n",
        "\n",
        "first_eval_batch = train[-inputs:]\n",
        "current_batch = first_eval_batch.reshape((1, inputs, features))\n",
        "\n",
        "for i in range(len(test)):\n",
        "    \n",
        "    # get the prediction value for the first batch\n",
        "    current_pred = model.predict(current_batch)[0]\n",
        "    \n",
        "    # append the prediction into the array\n",
        "    test_predictions.append(current_pred) \n",
        "    \n",
        "    # use the prediction to update the batch and remove the first value\n",
        "    current_batch = np.append(current_batch[:,1:,:],[[current_pred]],axis=1)"
      ],
      "execution_count": null,
      "outputs": []
    },
    {
      "cell_type": "code",
      "metadata": {
        "id": "rsUvxEIfSNZ5"
      },
      "source": [
        "test_predictions"
      ],
      "execution_count": null,
      "outputs": []
    },
    {
      "cell_type": "code",
      "metadata": {
        "id": "3JVaf6lQSO0y"
      },
      "source": [
        "true_predictions = scaler.inverse_transform(test_predictions)"
      ],
      "execution_count": null,
      "outputs": []
    },
    {
      "cell_type": "code",
      "metadata": {
        "id": "rhMCOoIMSQQu"
      },
      "source": [
        "plt.figure(figsize=(15, 8))\n",
        "plt.plot(test, label='original')\n",
        "plt.plot(true_predictions, label='predicted')\n",
        "plt.show()"
      ],
      "execution_count": null,
      "outputs": []
    },
    {
      "cell_type": "code",
      "metadata": {
        "id": "0-Ecr_PRSRm5"
      },
      "source": [
        "from sklearn.metrics import mean_squared_error\n",
        "from math import sqrt\n",
        "rmse=sqrt(mean_squared_error(test,true_predictions))\n",
        "print(rmse)"
      ],
      "execution_count": null,
      "outputs": []
    },
    {
      "cell_type": "code",
      "metadata": {
        "id": "mH-xWYJTSTA-"
      },
      "source": [
        "plt.plot(true_predictions)\n",
        "plt.plot(test)"
      ],
      "execution_count": null,
      "outputs": []
    }
  ]
}