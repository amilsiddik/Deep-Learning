{
  "nbformat": 4,
  "nbformat_minor": 0,
  "metadata": {
    "colab": {
      "name": "DogePred.ipynb",
      "provenance": [],
      "authorship_tag": "ABX9TyOFQbEOpIQDL0vqK3BW5jxc",
      "include_colab_link": true
    },
    "kernelspec": {
      "name": "python3",
      "display_name": "Python 3"
    },
    "language_info": {
      "name": "python"
    },
    "accelerator": "GPU"
  },
  "cells": [
    {
      "cell_type": "markdown",
      "metadata": {
        "id": "view-in-github",
        "colab_type": "text"
      },
      "source": [
        "<a href=\"https://colab.research.google.com/github/amilsiddik/Deep-Learning/blob/main/DogePred.ipynb\" target=\"_parent\"><img src=\"https://colab.research.google.com/assets/colab-badge.svg\" alt=\"Open In Colab\"/></a>"
      ]
    },
    {
      "cell_type": "code",
      "metadata": {
        "id": "jpOFwGeJJo4p"
      },
      "source": [
        "import numpy as np\n",
        "import pandas as pd\n",
        "import matplotlib.pyplot as plt\n",
        "import seaborn as sns\n",
        "from sklearn.preprocessing import MinMaxScaler\n",
        "from tensorflow.keras.models import Sequential\n",
        "from tensorflow.keras.layers import Dense\n",
        "from tensorflow.keras.layers import LSTM\n",
        "from tensorflow.keras.layers import Dropout\n",
        "from tensorflow.keras.layers import Activation\n",
        "from sklearn.metrics import mean_squared_error, mean_absolute_error"
      ],
      "execution_count": 1,
      "outputs": []
    },
    {
      "cell_type": "code",
      "metadata": {
        "colab": {
          "base_uri": "https://localhost:8080/"
        },
        "id": "nEtp2Z8xKVUP",
        "outputId": "0c190efb-dae2-489b-a8aa-f0132f5d0b41"
      },
      "source": [
        "doge=pd.read_csv(\"DOGE-USD.csv\")\n",
        "print(doge)\n",
        "doge.info()"
      ],
      "execution_count": 3,
      "outputs": [
        {
          "output_type": "stream",
          "name": "stdout",
          "text": [
            "            Date      Open      High       Low     Close        Volume\n",
            "0     2014-09-17  0.000293  0.000299  0.000260  0.000268  1.463600e+06\n",
            "1     2014-09-18  0.000268  0.000325  0.000267  0.000298  2.215910e+06\n",
            "2     2014-09-19  0.000298  0.000307  0.000275  0.000277  8.835630e+05\n",
            "3     2014-09-20  0.000276  0.000310  0.000267  0.000292  9.930040e+05\n",
            "4     2014-09-21  0.000293  0.000299  0.000284  0.000288  5.391400e+05\n",
            "...          ...       ...       ...       ...       ...           ...\n",
            "2591  2021-10-21  0.254793  0.258261  0.242273  0.242391  1.742571e+09\n",
            "2592  2021-10-22  0.242479  0.252772  0.236472  0.244221  1.829875e+09\n",
            "2593  2021-10-23  0.244514  0.253140  0.241589  0.251733  1.502685e+09\n",
            "2594  2021-10-24  0.251432  0.281935  0.246028  0.277048  5.278761e+09\n",
            "2595  2021-10-25  0.274789  0.278905  0.261085  0.264336  4.801954e+09\n",
            "\n",
            "[2596 rows x 6 columns]\n",
            "<class 'pandas.core.frame.DataFrame'>\n",
            "RangeIndex: 2596 entries, 0 to 2595\n",
            "Data columns (total 6 columns):\n",
            " #   Column  Non-Null Count  Dtype  \n",
            "---  ------  --------------  -----  \n",
            " 0   Date    2596 non-null   object \n",
            " 1   Open    2592 non-null   float64\n",
            " 2   High    2592 non-null   float64\n",
            " 3   Low     2592 non-null   float64\n",
            " 4   Close   2592 non-null   float64\n",
            " 5   Volume  2592 non-null   float64\n",
            "dtypes: float64(5), object(1)\n",
            "memory usage: 121.8+ KB\n"
          ]
        }
      ]
    },
    {
      "cell_type": "markdown",
      "metadata": {
        "id": "dtBiElwyX0as"
      },
      "source": [
        "Data Preparation"
      ]
    },
    {
      "cell_type": "code",
      "metadata": {
        "colab": {
          "base_uri": "https://localhost:8080/",
          "height": 175
        },
        "id": "MdF9ZUP8XGrN",
        "outputId": "d3532a8a-da89-4fc5-eba2-f7ea945df44a"
      },
      "source": [
        "doge[doge.isnull().any(axis=1)]"
      ],
      "execution_count": 4,
      "outputs": [
        {
          "output_type": "execute_result",
          "data": {
            "text/html": [
              "<div>\n",
              "<style scoped>\n",
              "    .dataframe tbody tr th:only-of-type {\n",
              "        vertical-align: middle;\n",
              "    }\n",
              "\n",
              "    .dataframe tbody tr th {\n",
              "        vertical-align: top;\n",
              "    }\n",
              "\n",
              "    .dataframe thead th {\n",
              "        text-align: right;\n",
              "    }\n",
              "</style>\n",
              "<table border=\"1\" class=\"dataframe\">\n",
              "  <thead>\n",
              "    <tr style=\"text-align: right;\">\n",
              "      <th></th>\n",
              "      <th>Date</th>\n",
              "      <th>Open</th>\n",
              "      <th>High</th>\n",
              "      <th>Low</th>\n",
              "      <th>Close</th>\n",
              "      <th>Volume</th>\n",
              "    </tr>\n",
              "  </thead>\n",
              "  <tbody>\n",
              "    <tr>\n",
              "      <th>2039</th>\n",
              "      <td>2020-04-17</td>\n",
              "      <td>NaN</td>\n",
              "      <td>NaN</td>\n",
              "      <td>NaN</td>\n",
              "      <td>NaN</td>\n",
              "      <td>NaN</td>\n",
              "    </tr>\n",
              "    <tr>\n",
              "      <th>2214</th>\n",
              "      <td>2020-10-09</td>\n",
              "      <td>NaN</td>\n",
              "      <td>NaN</td>\n",
              "      <td>NaN</td>\n",
              "      <td>NaN</td>\n",
              "      <td>NaN</td>\n",
              "    </tr>\n",
              "    <tr>\n",
              "      <th>2217</th>\n",
              "      <td>2020-10-12</td>\n",
              "      <td>NaN</td>\n",
              "      <td>NaN</td>\n",
              "      <td>NaN</td>\n",
              "      <td>NaN</td>\n",
              "      <td>NaN</td>\n",
              "    </tr>\n",
              "    <tr>\n",
              "      <th>2218</th>\n",
              "      <td>2020-10-13</td>\n",
              "      <td>NaN</td>\n",
              "      <td>NaN</td>\n",
              "      <td>NaN</td>\n",
              "      <td>NaN</td>\n",
              "      <td>NaN</td>\n",
              "    </tr>\n",
              "  </tbody>\n",
              "</table>\n",
              "</div>"
            ],
            "text/plain": [
              "            Date  Open  High  Low  Close  Volume\n",
              "2039  2020-04-17   NaN   NaN  NaN    NaN     NaN\n",
              "2214  2020-10-09   NaN   NaN  NaN    NaN     NaN\n",
              "2217  2020-10-12   NaN   NaN  NaN    NaN     NaN\n",
              "2218  2020-10-13   NaN   NaN  NaN    NaN     NaN"
            ]
          },
          "metadata": {},
          "execution_count": 4
        }
      ]
    },
    {
      "cell_type": "code",
      "metadata": {
        "colab": {
          "base_uri": "https://localhost:8080/"
        },
        "id": "iS2p3FWbXLTx",
        "outputId": "9035f25c-8ae0-4772-ab4e-8ac2a5931c04"
      },
      "source": [
        "doge = doge.dropna()\n",
        "doge.info()"
      ],
      "execution_count": 5,
      "outputs": [
        {
          "output_type": "stream",
          "name": "stdout",
          "text": [
            "<class 'pandas.core.frame.DataFrame'>\n",
            "Int64Index: 2592 entries, 0 to 2595\n",
            "Data columns (total 6 columns):\n",
            " #   Column  Non-Null Count  Dtype  \n",
            "---  ------  --------------  -----  \n",
            " 0   Date    2592 non-null   object \n",
            " 1   Open    2592 non-null   float64\n",
            " 2   High    2592 non-null   float64\n",
            " 3   Low     2592 non-null   float64\n",
            " 4   Close   2592 non-null   float64\n",
            " 5   Volume  2592 non-null   float64\n",
            "dtypes: float64(5), object(1)\n",
            "memory usage: 141.8+ KB\n"
          ]
        }
      ]
    },
    {
      "cell_type": "markdown",
      "metadata": {
        "id": "k53zs3I3X7XZ"
      },
      "source": [
        "Analisis Univariat"
      ]
    },
    {
      "cell_type": "code",
      "metadata": {
        "colab": {
          "base_uri": "https://localhost:8080/"
        },
        "id": "6t-1BZBRX4yE",
        "outputId": "0e7a1fbc-7d2c-453d-fbc4-d5c86ca5dc89"
      },
      "source": [
        "# We'll take only one variable into consideration to Predict the Price of the DOGECOIN\n",
        "close = doge.Close.iloc[:].to_numpy()\n",
        "close"
      ],
      "execution_count": 6,
      "outputs": [
        {
          "output_type": "execute_result",
          "data": {
            "text/plain": [
              "array([2.68000e-04, 2.98000e-04, 2.77000e-04, ..., 2.51733e-01,\n",
              "       2.77048e-01, 2.64336e-01])"
            ]
          },
          "metadata": {},
          "execution_count": 6
        }
      ]
    },
    {
      "cell_type": "code",
      "metadata": {
        "colab": {
          "base_uri": "https://localhost:8080/"
        },
        "id": "6LlmOVb6YDG6",
        "outputId": "52394c27-6e89-499f-8113-ba214cefa233"
      },
      "source": [
        "scaler = MinMaxScaler(feature_range=(0,1))\n",
        "closeScaled = scaler.fit_transform(np.array(close).reshape(-1,1))\n",
        "closeScaled"
      ],
      "execution_count": 7,
      "outputs": [
        {
          "output_type": "execute_result",
          "data": {
            "text/plain": [
              "array([[2.64353211e-04],\n",
              "       [3.08168660e-04],\n",
              "       [2.77497846e-04],\n",
              "       ...,\n",
              "       [3.67532752e-01],\n",
              "       [4.04505689e-01],\n",
              "       [3.85939622e-01]])"
            ]
          },
          "metadata": {},
          "execution_count": 7
        }
      ]
    },
    {
      "cell_type": "code",
      "metadata": {
        "colab": {
          "base_uri": "https://localhost:8080/"
        },
        "id": "Gf7l4jg9YLjX",
        "outputId": "936de751-8106-4c3b-936e-67c190e3d17d"
      },
      "source": [
        "closeLength = len(closeScaled)\n",
        "train, test = closeScaled[:(closeLength-150)], closeScaled[(closeLength-150):]\n",
        "len(train), len(test)"
      ],
      "execution_count": 8,
      "outputs": [
        {
          "output_type": "execute_result",
          "data": {
            "text/plain": [
              "(2442, 150)"
            ]
          },
          "metadata": {},
          "execution_count": 8
        }
      ]
    },
    {
      "cell_type": "code",
      "metadata": {
        "id": "5Pj4KR5VYPyx"
      },
      "source": [
        "from tensorflow.keras.preprocessing.sequence import TimeseriesGenerator\n",
        "\n",
        "# define generator\n",
        "inputs = 15\n",
        "features = 1 ## Univariate means only 1 independent variable\n",
        "generator = TimeseriesGenerator(train, train, length=inputs, batch_size=1)"
      ],
      "execution_count": 9,
      "outputs": []
    },
    {
      "cell_type": "code",
      "metadata": {
        "colab": {
          "base_uri": "https://localhost:8080/"
        },
        "id": "CJDLvUXEYS9f",
        "outputId": "e7a8458b-8ee9-4067-c4b6-d25810ac5c97"
      },
      "source": [
        "# define model\n",
        "model = Sequential()\n",
        "model.add(LSTM(150, activation='relu', input_shape=(inputs, features)))\n",
        "model.add(Dense(1))\n",
        "model.compile(optimizer='adam', loss='mse')"
      ],
      "execution_count": 10,
      "outputs": [
        {
          "output_type": "stream",
          "name": "stdout",
          "text": [
            "WARNING:tensorflow:Layer lstm will not use cuDNN kernels since it doesn't meet the criteria. It will use a generic GPU kernel as fallback when running on GPU.\n"
          ]
        }
      ]
    },
    {
      "cell_type": "code",
      "metadata": {
        "colab": {
          "base_uri": "https://localhost:8080/"
        },
        "id": "s5fGZdPZYYIb",
        "outputId": "b212d9f9-0111-4e71-b956-81c8d6c94554"
      },
      "source": [
        "model.summary()"
      ],
      "execution_count": 12,
      "outputs": [
        {
          "output_type": "stream",
          "name": "stdout",
          "text": [
            "Model: \"sequential\"\n",
            "_________________________________________________________________\n",
            " Layer (type)                Output Shape              Param #   \n",
            "=================================================================\n",
            " lstm (LSTM)                 (None, 150)               91200     \n",
            "                                                                 \n",
            " dense (Dense)               (None, 1)                 151       \n",
            "                                                                 \n",
            "=================================================================\n",
            "Total params: 91,351\n",
            "Trainable params: 91,351\n",
            "Non-trainable params: 0\n",
            "_________________________________________________________________\n"
          ]
        }
      ]
    },
    {
      "cell_type": "code",
      "metadata": {
        "colab": {
          "base_uri": "https://localhost:8080/"
        },
        "id": "QVJpU_i4YaeT",
        "outputId": "e6beaa2d-a6c1-4b59-b5b7-0790286843f8"
      },
      "source": [
        "model.fit(generator, epochs=100)"
      ],
      "execution_count": 13,
      "outputs": [
        {
          "output_type": "stream",
          "name": "stdout",
          "text": [
            "Epoch 1/100\n",
            "2427/2427 [==============================] - 122s 50ms/step - loss: 0.0026\n",
            "Epoch 2/100\n",
            "2427/2427 [==============================] - 123s 51ms/step - loss: 9.3399e-04\n",
            "Epoch 3/100\n",
            "2427/2427 [==============================] - 123s 50ms/step - loss: 4.7669e-04\n",
            "Epoch 4/100\n",
            "2427/2427 [==============================] - 122s 50ms/step - loss: 3.7174e-04\n",
            "Epoch 5/100\n",
            "2427/2427 [==============================] - 125s 51ms/step - loss: 3.1378e-04\n",
            "Epoch 6/100\n",
            "2427/2427 [==============================] - 123s 51ms/step - loss: 3.4893e-04\n",
            "Epoch 7/100\n",
            "2427/2427 [==============================] - 123s 51ms/step - loss: 3.1336e-04\n",
            "Epoch 8/100\n",
            "2427/2427 [==============================] - 122s 50ms/step - loss: 2.3036e-04\n",
            "Epoch 9/100\n",
            "2427/2427 [==============================] - 122s 50ms/step - loss: 2.7308e-04\n",
            "Epoch 10/100\n",
            "2427/2427 [==============================] - 121s 50ms/step - loss: 2.4313e-04\n",
            "Epoch 11/100\n",
            "2427/2427 [==============================] - 120s 50ms/step - loss: 2.5096e-04\n",
            "Epoch 12/100\n",
            "2427/2427 [==============================] - 120s 49ms/step - loss: 2.3665e-04\n",
            "Epoch 13/100\n",
            "2427/2427 [==============================] - 120s 49ms/step - loss: 2.4867e-04\n",
            "Epoch 14/100\n",
            "2427/2427 [==============================] - 121s 50ms/step - loss: 2.1979e-04\n",
            "Epoch 15/100\n",
            "2427/2427 [==============================] - 116s 48ms/step - loss: 1.9480e-04\n",
            "Epoch 16/100\n",
            "2427/2427 [==============================] - 116s 48ms/step - loss: 2.3985e-04\n",
            "Epoch 17/100\n",
            "2427/2427 [==============================] - 116s 48ms/step - loss: 2.5126e-04\n",
            "Epoch 18/100\n",
            "2427/2427 [==============================] - 115s 48ms/step - loss: 1.9225e-04\n",
            "Epoch 19/100\n",
            "2427/2427 [==============================] - 117s 48ms/step - loss: 2.1590e-04\n",
            "Epoch 20/100\n",
            "2427/2427 [==============================] - 116s 48ms/step - loss: 2.0846e-04\n",
            "Epoch 21/100\n",
            "2427/2427 [==============================] - 117s 48ms/step - loss: 2.2583e-04\n",
            "Epoch 22/100\n",
            "2427/2427 [==============================] - 115s 47ms/step - loss: 1.6741e-04\n",
            "Epoch 23/100\n",
            "2427/2427 [==============================] - 113s 47ms/step - loss: 2.2964e-04\n",
            "Epoch 24/100\n",
            "2427/2427 [==============================] - 113s 47ms/step - loss: 2.1769e-04\n",
            "Epoch 25/100\n",
            "2427/2427 [==============================] - 120s 49ms/step - loss: 1.9758e-04\n",
            "Epoch 26/100\n",
            "2427/2427 [==============================] - 118s 49ms/step - loss: 1.9107e-04\n",
            "Epoch 27/100\n",
            "2427/2427 [==============================] - 118s 49ms/step - loss: 1.5243e-04\n",
            "Epoch 28/100\n",
            "2427/2427 [==============================] - 120s 50ms/step - loss: 2.1838e-04\n",
            "Epoch 29/100\n",
            "2427/2427 [==============================] - 120s 50ms/step - loss: 2.0249e-04\n",
            "Epoch 30/100\n",
            "2427/2427 [==============================] - 120s 50ms/step - loss: 1.9356e-04\n",
            "Epoch 31/100\n",
            "2427/2427 [==============================] - 120s 49ms/step - loss: 2.0328e-04\n",
            "Epoch 32/100\n",
            "2427/2427 [==============================] - 120s 50ms/step - loss: 2.0026e-04\n",
            "Epoch 33/100\n",
            "2427/2427 [==============================] - 120s 50ms/step - loss: 1.9844e-04\n",
            "Epoch 34/100\n",
            "2427/2427 [==============================] - 119s 49ms/step - loss: 2.0181e-04\n",
            "Epoch 35/100\n",
            "2427/2427 [==============================] - 121s 50ms/step - loss: 1.9486e-04\n",
            "Epoch 36/100\n",
            "2427/2427 [==============================] - 120s 49ms/step - loss: 1.9114e-04\n",
            "Epoch 37/100\n",
            "2427/2427 [==============================] - 121s 50ms/step - loss: 2.0516e-04\n",
            "Epoch 38/100\n",
            "2427/2427 [==============================] - 121s 50ms/step - loss: 1.9154e-04\n",
            "Epoch 39/100\n",
            "2427/2427 [==============================] - 120s 49ms/step - loss: 1.7467e-04\n",
            "Epoch 40/100\n",
            "2427/2427 [==============================] - 122s 50ms/step - loss: 1.8851e-04\n",
            "Epoch 41/100\n",
            "2427/2427 [==============================] - 120s 49ms/step - loss: 1.9716e-04\n",
            "Epoch 42/100\n",
            "2427/2427 [==============================] - 120s 49ms/step - loss: 1.4827e-04\n",
            "Epoch 43/100\n",
            "2427/2427 [==============================] - 121s 50ms/step - loss: 1.5954e-04\n",
            "Epoch 44/100\n",
            "2427/2427 [==============================] - 119s 49ms/step - loss: 2.0004e-04\n",
            "Epoch 45/100\n",
            "2427/2427 [==============================] - 119s 49ms/step - loss: 1.6939e-04\n",
            "Epoch 46/100\n",
            "2427/2427 [==============================] - 119s 49ms/step - loss: 1.8285e-04\n",
            "Epoch 47/100\n",
            "2427/2427 [==============================] - 120s 49ms/step - loss: 1.7747e-04\n",
            "Epoch 48/100\n",
            "2427/2427 [==============================] - 120s 49ms/step - loss: 1.6992e-04\n",
            "Epoch 49/100\n",
            "2427/2427 [==============================] - 123s 51ms/step - loss: 1.6598e-04\n",
            "Epoch 50/100\n",
            "2427/2427 [==============================] - 124s 51ms/step - loss: 1.7580e-04\n",
            "Epoch 51/100\n",
            "2427/2427 [==============================] - 121s 50ms/step - loss: 1.9546e-04\n",
            "Epoch 52/100\n",
            "2427/2427 [==============================] - 119s 49ms/step - loss: 1.5843e-04\n",
            "Epoch 53/100\n",
            "2427/2427 [==============================] - 122s 50ms/step - loss: 1.8311e-04\n",
            "Epoch 54/100\n",
            "2427/2427 [==============================] - 123s 51ms/step - loss: 1.6982e-04\n",
            "Epoch 55/100\n",
            "2427/2427 [==============================] - 123s 51ms/step - loss: 1.9863e-04\n",
            "Epoch 56/100\n",
            "2427/2427 [==============================] - 123s 51ms/step - loss: 1.6984e-04\n",
            "Epoch 57/100\n",
            "2427/2427 [==============================] - 121s 50ms/step - loss: 1.7392e-04\n",
            "Epoch 58/100\n",
            "2427/2427 [==============================] - 122s 50ms/step - loss: 1.7823e-04\n",
            "Epoch 59/100\n",
            "2427/2427 [==============================] - 122s 50ms/step - loss: 1.7251e-04\n",
            "Epoch 60/100\n",
            "2427/2427 [==============================] - 124s 51ms/step - loss: 1.5696e-04\n",
            "Epoch 61/100\n",
            "2427/2427 [==============================] - 126s 52ms/step - loss: 1.5193e-04\n",
            "Epoch 62/100\n",
            "2427/2427 [==============================] - 126s 52ms/step - loss: 1.7188e-04\n",
            "Epoch 63/100\n",
            "2427/2427 [==============================] - 125s 51ms/step - loss: 1.4740e-04\n",
            "Epoch 64/100\n",
            "2427/2427 [==============================] - 124s 51ms/step - loss: 1.7402e-04\n",
            "Epoch 65/100\n",
            "2427/2427 [==============================] - 124s 51ms/step - loss: 1.8219e-04\n",
            "Epoch 66/100\n",
            "2427/2427 [==============================] - 123s 51ms/step - loss: 1.3755e-04\n",
            "Epoch 67/100\n",
            "2427/2427 [==============================] - 123s 51ms/step - loss: 1.6301e-04\n",
            "Epoch 68/100\n",
            "2427/2427 [==============================] - 124s 51ms/step - loss: 1.9622e-04\n",
            "Epoch 69/100\n",
            "2427/2427 [==============================] - 124s 51ms/step - loss: 1.3934e-04\n",
            "Epoch 70/100\n",
            "2427/2427 [==============================] - 126s 52ms/step - loss: 1.5822e-04\n",
            "Epoch 71/100\n",
            "2427/2427 [==============================] - 122s 50ms/step - loss: 1.7712e-04\n",
            "Epoch 72/100\n",
            "2427/2427 [==============================] - 122s 50ms/step - loss: 1.3630e-04\n",
            "Epoch 73/100\n",
            "2427/2427 [==============================] - 126s 52ms/step - loss: 1.3583e-04\n",
            "Epoch 74/100\n",
            "2427/2427 [==============================] - 125s 52ms/step - loss: 1.6038e-04\n",
            "Epoch 75/100\n",
            "2427/2427 [==============================] - 117s 48ms/step - loss: 1.5847e-04\n",
            "Epoch 76/100\n",
            "2427/2427 [==============================] - 121s 50ms/step - loss: 1.4168e-04\n",
            "Epoch 77/100\n",
            "2427/2427 [==============================] - 118s 49ms/step - loss: 1.5892e-04\n",
            "Epoch 78/100\n",
            "2427/2427 [==============================] - 116s 48ms/step - loss: 1.4019e-04\n",
            "Epoch 79/100\n",
            "2427/2427 [==============================] - 117s 48ms/step - loss: 1.4991e-04\n",
            "Epoch 80/100\n",
            "2427/2427 [==============================] - 117s 48ms/step - loss: 1.9038e-04\n",
            "Epoch 81/100\n",
            "2427/2427 [==============================] - 118s 49ms/step - loss: 1.5968e-04\n",
            "Epoch 82/100\n",
            "2427/2427 [==============================] - 120s 50ms/step - loss: 1.4899e-04\n",
            "Epoch 83/100\n",
            "2427/2427 [==============================] - 120s 49ms/step - loss: 1.3515e-04\n",
            "Epoch 84/100\n",
            "2427/2427 [==============================] - 121s 50ms/step - loss: 1.3478e-04\n",
            "Epoch 85/100\n",
            "2427/2427 [==============================] - 118s 49ms/step - loss: 1.6999e-04\n",
            "Epoch 86/100\n",
            "2427/2427 [==============================] - 120s 49ms/step - loss: 1.3105e-04\n",
            "Epoch 87/100\n",
            "2427/2427 [==============================] - 120s 50ms/step - loss: 1.5865e-04\n",
            "Epoch 88/100\n",
            "2427/2427 [==============================] - 119s 49ms/step - loss: 1.3397e-04\n",
            "Epoch 89/100\n",
            "2427/2427 [==============================] - 119s 49ms/step - loss: 1.3164e-04\n",
            "Epoch 90/100\n",
            "2427/2427 [==============================] - 118s 49ms/step - loss: 1.2549e-04\n",
            "Epoch 91/100\n",
            "2427/2427 [==============================] - 120s 49ms/step - loss: 1.5816e-04\n",
            "Epoch 92/100\n",
            "2427/2427 [==============================] - 118s 49ms/step - loss: 1.2626e-04\n",
            "Epoch 93/100\n",
            "2427/2427 [==============================] - 121s 50ms/step - loss: 1.1366e-04\n",
            "Epoch 94/100\n",
            "2427/2427 [==============================] - 120s 49ms/step - loss: 1.1691e-04\n",
            "Epoch 95/100\n",
            "2427/2427 [==============================] - 119s 49ms/step - loss: 1.3262e-04\n",
            "Epoch 96/100\n",
            "2427/2427 [==============================] - 118s 49ms/step - loss: 1.4864e-04\n",
            "Epoch 97/100\n",
            "2427/2427 [==============================] - 119s 49ms/step - loss: 1.2009e-04\n",
            "Epoch 98/100\n",
            "2427/2427 [==============================] - 119s 49ms/step - loss: 1.1499e-04\n",
            "Epoch 99/100\n",
            "2427/2427 [==============================] - 120s 49ms/step - loss: 1.2900e-04\n",
            "Epoch 100/100\n",
            "2427/2427 [==============================] - 119s 49ms/step - loss: 1.5928e-04\n"
          ]
        },
        {
          "output_type": "execute_result",
          "data": {
            "text/plain": [
              "<keras.callbacks.History at 0x7fda0046d610>"
            ]
          },
          "metadata": {},
          "execution_count": 13
        }
      ]
    },
    {
      "cell_type": "code",
      "metadata": {
        "id": "_HR1tXGhSIyX"
      },
      "source": [
        "test_predictions = []\n",
        "\n",
        "first_eval_batch = train[-inputs:]\n",
        "current_batch = first_eval_batch.reshape((1, inputs, features))\n",
        "\n",
        "for i in range(len(test)):\n",
        "    \n",
        "    # get the prediction value for the first batch\n",
        "    current_pred = model.predict(current_batch)[0]\n",
        "    \n",
        "    # append the prediction into the array\n",
        "    test_predictions.append(current_pred) \n",
        "    \n",
        "    # use the prediction to update the batch and remove the first value\n",
        "    current_batch = np.append(current_batch[:,1:,:],[[current_pred]],axis=1)"
      ],
      "execution_count": 14,
      "outputs": []
    },
    {
      "cell_type": "code",
      "metadata": {
        "id": "rsUvxEIfSNZ5",
        "colab": {
          "base_uri": "https://localhost:8080/"
        },
        "outputId": "561547d5-9e70-4b01-d8e5-82dd5a659910"
      },
      "source": [
        "test_predictions"
      ],
      "execution_count": 15,
      "outputs": [
        {
          "output_type": "execute_result",
          "data": {
            "text/plain": [
              "[array([0.4533481], dtype=float32),\n",
              " array([0.4458161], dtype=float32),\n",
              " array([0.4568001], dtype=float32),\n",
              " array([0.4722523], dtype=float32),\n",
              " array([0.50919974], dtype=float32),\n",
              " array([0.5550151], dtype=float32),\n",
              " array([0.6122252], dtype=float32),\n",
              " array([0.64741856], dtype=float32),\n",
              " array([0.6772803], dtype=float32),\n",
              " array([0.7093808], dtype=float32),\n",
              " array([0.7341762], dtype=float32),\n",
              " array([0.7521822], dtype=float32),\n",
              " array([0.7596961], dtype=float32),\n",
              " array([0.77587336], dtype=float32),\n",
              " array([0.79188436], dtype=float32),\n",
              " array([0.7930261], dtype=float32),\n",
              " array([0.7854655], dtype=float32),\n",
              " array([0.76915616], dtype=float32),\n",
              " array([0.75971913], dtype=float32),\n",
              " array([0.75129473], dtype=float32),\n",
              " array([0.74281573], dtype=float32),\n",
              " array([0.7279133], dtype=float32),\n",
              " array([0.72406024], dtype=float32),\n",
              " array([0.72131675], dtype=float32),\n",
              " array([0.7101267], dtype=float32),\n",
              " array([0.69195116], dtype=float32),\n",
              " array([0.67848724], dtype=float32),\n",
              " array([0.67100674], dtype=float32),\n",
              " array([0.65917325], dtype=float32),\n",
              " array([0.64720815], dtype=float32),\n",
              " array([0.6413652], dtype=float32),\n",
              " array([0.63840616], dtype=float32),\n",
              " array([0.6365331], dtype=float32),\n",
              " array([0.632045], dtype=float32),\n",
              " array([0.6282223], dtype=float32),\n",
              " array([0.6270869], dtype=float32),\n",
              " array([0.6297332], dtype=float32),\n",
              " array([0.63201493], dtype=float32),\n",
              " array([0.6347374], dtype=float32),\n",
              " array([0.64130664], dtype=float32),\n",
              " array([0.65317696], dtype=float32),\n",
              " array([0.66535926], dtype=float32),\n",
              " array([0.6735736], dtype=float32),\n",
              " array([0.6825309], dtype=float32),\n",
              " array([0.6930731], dtype=float32),\n",
              " array([0.7016898], dtype=float32),\n",
              " array([0.7062649], dtype=float32),\n",
              " array([0.70855707], dtype=float32),\n",
              " array([0.7132097], dtype=float32),\n",
              " array([0.7180673], dtype=float32),\n",
              " array([0.7205651], dtype=float32),\n",
              " array([0.7202498], dtype=float32),\n",
              " array([0.7209439], dtype=float32),\n",
              " array([0.7217481], dtype=float32),\n",
              " array([0.7198768], dtype=float32),\n",
              " array([0.7143544], dtype=float32),\n",
              " array([0.7082535], dtype=float32),\n",
              " array([0.7036553], dtype=float32),\n",
              " array([0.6992479], dtype=float32),\n",
              " array([0.69277745], dtype=float32),\n",
              " array([0.6863374], dtype=float32),\n",
              " array([0.6817257], dtype=float32),\n",
              " array([0.6779236], dtype=float32),\n",
              " array([0.6726115], dtype=float32),\n",
              " array([0.6661905], dtype=float32),\n",
              " array([0.66122967], dtype=float32),\n",
              " array([0.65824515], dtype=float32),\n",
              " array([0.65548056], dtype=float32),\n",
              " array([0.65278155], dtype=float32),\n",
              " array([0.6517035], dtype=float32),\n",
              " array([0.6529215], dtype=float32),\n",
              " array([0.65505373], dtype=float32),\n",
              " array([0.6569668], dtype=float32),\n",
              " array([0.6591287], dtype=float32),\n",
              " array([0.66265535], dtype=float32),\n",
              " array([0.6674612], dtype=float32),\n",
              " array([0.67225635], dtype=float32),\n",
              " array([0.6765825], dtype=float32),\n",
              " array([0.68161607], dtype=float32),\n",
              " array([0.687713], dtype=float32),\n",
              " array([0.6933524], dtype=float32),\n",
              " array([0.69747376], dtype=float32),\n",
              " array([0.7006262], dtype=float32),\n",
              " array([0.7037176], dtype=float32),\n",
              " array([0.7061205], dtype=float32),\n",
              " array([0.70717746], dtype=float32),\n",
              " array([0.70713335], dtype=float32),\n",
              " array([0.7069812], dtype=float32),\n",
              " array([0.7065577], dtype=float32),\n",
              " array([0.7054101], dtype=float32),\n",
              " array([0.703222], dtype=float32),\n",
              " array([0.7004907], dtype=float32),\n",
              " array([0.69783014], dtype=float32),\n",
              " array([0.6946965], dtype=float32),\n",
              " array([0.69068414], dtype=float32),\n",
              " array([0.68642855], dtype=float32),\n",
              " array([0.68267334], dtype=float32),\n",
              " array([0.67930967], dtype=float32),\n",
              " array([0.6758734], dtype=float32),\n",
              " array([0.6725979], dtype=float32),\n",
              " array([0.6700071], dtype=float32),\n",
              " array([0.6681128], dtype=float32),\n",
              " array([0.6664744], dtype=float32),\n",
              " array([0.6650584], dtype=float32),\n",
              " array([0.6642122], dtype=float32),\n",
              " array([0.6641999], dtype=float32),\n",
              " array([0.6648831], dtype=float32),\n",
              " array([0.66594064], dtype=float32),\n",
              " array([0.6675155], dtype=float32),\n",
              " array([0.6698816], dtype=float32),\n",
              " array([0.6728341], dtype=float32),\n",
              " array([0.67589736], dtype=float32),\n",
              " array([0.67899716], dtype=float32),\n",
              " array([0.6822652], dtype=float32),\n",
              " array([0.6856389], dtype=float32),\n",
              " array([0.68870705], dtype=float32),\n",
              " array([0.6913681], dtype=float32),\n",
              " array([0.69372404], dtype=float32),\n",
              " array([0.6957312], dtype=float32),\n",
              " array([0.6974313], dtype=float32),\n",
              " array([0.69855493], dtype=float32),\n",
              " array([0.6991298], dtype=float32),\n",
              " array([0.69925445], dtype=float32),\n",
              " array([0.6990122], dtype=float32),\n",
              " array([0.69826406], dtype=float32),\n",
              " array([0.697019], dtype=float32),\n",
              " array([0.6954398], dtype=float32),\n",
              " array([0.6936323], dtype=float32),\n",
              " array([0.6915442], dtype=float32),\n",
              " array([0.6891605], dtype=float32),\n",
              " array([0.6866311], dtype=float32),\n",
              " array([0.6841037], dtype=float32),\n",
              " array([0.681658], dtype=float32),\n",
              " array([0.67929953], dtype=float32),\n",
              " array([0.67708474], dtype=float32),\n",
              " array([0.6751636], dtype=float32),\n",
              " array([0.67358667], dtype=float32),\n",
              " array([0.6723172], dtype=float32),\n",
              " array([0.67133015], dtype=float32),\n",
              " array([0.6707084], dtype=float32),\n",
              " array([0.6705105], dtype=float32),\n",
              " array([0.67074287], dtype=float32),\n",
              " array([0.6713483], dtype=float32),\n",
              " array([0.6723579], dtype=float32),\n",
              " array([0.6737739], dtype=float32),\n",
              " array([0.6755356], dtype=float32),\n",
              " array([0.67752564], dtype=float32),\n",
              " array([0.67961836], dtype=float32),\n",
              " array([0.68178934], dtype=float32),\n",
              " array([0.6839891], dtype=float32)]"
            ]
          },
          "metadata": {},
          "execution_count": 15
        }
      ]
    },
    {
      "cell_type": "code",
      "metadata": {
        "id": "3JVaf6lQSO0y"
      },
      "source": [
        "true_predictions = scaler.inverse_transform(test_predictions)"
      ],
      "execution_count": 16,
      "outputs": []
    },
    {
      "cell_type": "code",
      "metadata": {
        "id": "rhMCOoIMSQQu",
        "colab": {
          "base_uri": "https://localhost:8080/",
          "height": 483
        },
        "outputId": "272192f5-672c-4626-c515-acd36ca77048"
      },
      "source": [
        "plt.figure(figsize=(15, 8))\n",
        "plt.plot(test, label='original')\n",
        "plt.plot(true_predictions, label='predicted')\n",
        "plt.legend(['test','true predictions'])\n",
        "plt.show()"
      ],
      "execution_count": 20,
      "outputs": [
        {
          "output_type": "display_data",
          "data": {
            "image/png": "[encoded data removed]",
            "text/plain": [
              "<Figure size 1080x576 with 1 Axes>"
            ]
          },
          "metadata": {
            "needs_background": "light"
          }
        }
      ]
    },
    {
      "cell_type": "code",
      "metadata": {
        "id": "0-Ecr_PRSRm5",
        "colab": {
          "base_uri": "https://localhost:8080/"
        },
        "outputId": "ad3b3cac-61cf-4dcd-866d-4944e76d0347"
      },
      "source": [
        "from sklearn.metrics import mean_squared_error\n",
        "from math import sqrt\n",
        "rmse=sqrt(mean_squared_error(test,true_predictions))\n",
        "print(rmse)"
      ],
      "execution_count": 18,
      "outputs": [
        {
          "output_type": "stream",
          "name": "stdout",
          "text": [
            "0.12749839127499255\n"
          ]
        }
      ]
    },
    {
      "cell_type": "code",
      "metadata": {
        "id": "mH-xWYJTSTA-",
        "colab": {
          "base_uri": "https://localhost:8080/",
          "height": 282
        },
        "outputId": "df831590-10df-44e8-e844-ddd7d0b7ace3"
      },
      "source": [
        "plt.plot(true_predictions)\n",
        "plt.plot(test)"
      ],
      "execution_count": 19,
      "outputs": [
        {
          "output_type": "execute_result",
          "data": {
            "text/plain": [
              "[<matplotlib.lines.Line2D at 0x7fd995f03890>]"
            ]
          },
          "metadata": {},
          "execution_count": 19
        },
        {
          "output_type": "display_data",
          "data": {
            "image/png": "[encoded data removed]",
            "text/plain": [
              "<Figure size 432x288 with 1 Axes>"
            ]
          },
          "metadata": {
            "needs_background": "light"
          }
        }
      ]
    }
  ]
}