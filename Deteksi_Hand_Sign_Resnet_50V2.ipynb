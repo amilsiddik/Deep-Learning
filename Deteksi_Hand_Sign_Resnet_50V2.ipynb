{
  "cells": [
    {
      "cell_type": "markdown",
      "metadata": {
        "id": "view-in-github",
        "colab_type": "text"
      },
      "source": [
        "<a href=\"https://colab.research.google.com/github/amilsiddik/Deep-Learning/blob/main/Deteksi_Hand_Sign_Resnet_50V2.ipynb\" target=\"_parent\"><img src=\"https://colab.research.google.com/assets/colab-badge.svg\" alt=\"Open In Colab\"/></a>"
      ]
    },
    {
      "cell_type": "code",
      "execution_count": 1,
      "metadata": {
        "id": "O9LHzlkEaWRC"
      },
      "outputs": [],
      "source": [
        "import pandas as pd\n",
        "import numpy as np\n",
        "import tensorflow as tf\n",
        "import os\n",
        "import cv2 as cv\n",
        "from tensorflow import keras\n",
        "from sklearn.model_selection import train_test_split\n",
        "from sklearn import preprocessing\n",
        "import matplotlib.pyplot as plt"
      ]
    },
    {
      "cell_type": "code",
      "execution_count": 2,
      "metadata": {
        "colab": {
          "base_uri": "https://localhost:8080/"
        },
        "id": "s9Pm1pJqahex",
        "outputId": "d3aedb52-5f72-40f4-83e4-7e7011f736b1"
      },
      "outputs": [
        {
          "output_type": "stream",
          "name": "stdout",
          "text": [
            "Mounted at /content/drive\n"
          ]
        }
      ],
      "source": [
        "from google.colab import drive\n",
        "drive.mount('/content/drive')"
      ]
    },
    {
      "cell_type": "code",
      "execution_count": 3,
      "metadata": {
        "id": "JKAKLwf_asR4"
      },
      "outputs": [],
      "source": [
        "path = \"/content/drive/MyDrive/Penelitian/Deteksi hand sign/Dataset\"\n",
        "key_value= dict()\n",
        "for i in os.listdir(path):\n",
        "    key_value[i] = os.listdir(path+'/'+i)"
      ]
    },
    {
      "cell_type": "code",
      "execution_count": 4,
      "metadata": {
        "colab": {
          "base_uri": "https://localhost:8080/",
          "height": 424
        },
        "id": "aVUmD6DCa3OH",
        "outputId": "5e2ef6eb-23b0-4d1c-d310-c023cdacee8a"
      },
      "outputs": [
        {
          "output_type": "execute_result",
          "data": {
            "text/plain": [
              "     label                                               path\n",
              "0        6  /content/drive/MyDrive/Penelitian/Deteksi hand...\n",
              "1        6  /content/drive/MyDrive/Penelitian/Deteksi hand...\n",
              "2        6  /content/drive/MyDrive/Penelitian/Deteksi hand...\n",
              "3        6  /content/drive/MyDrive/Penelitian/Deteksi hand...\n",
              "4        6  /content/drive/MyDrive/Penelitian/Deteksi hand...\n",
              "...    ...                                                ...\n",
              "2057     7  /content/drive/MyDrive/Penelitian/Deteksi hand...\n",
              "2058     7  /content/drive/MyDrive/Penelitian/Deteksi hand...\n",
              "2059     7  /content/drive/MyDrive/Penelitian/Deteksi hand...\n",
              "2060     7  /content/drive/MyDrive/Penelitian/Deteksi hand...\n",
              "2061     7  /content/drive/MyDrive/Penelitian/Deteksi hand...\n",
              "\n",
              "[2062 rows x 2 columns]"
            ],
            "text/html": [
              "\n",
              "  <div id=\"df-22b69b5b-f0dc-492d-a110-843990aa97ad\">\n",
              "    <div class=\"colab-df-container\">\n",
              "      <div>\n",
              "<style scoped>\n",
              "    .dataframe tbody tr th:only-of-type {\n",
              "        vertical-align: middle;\n",
              "    }\n",
              "\n",
              "    .dataframe tbody tr th {\n",
              "        vertical-align: top;\n",
              "    }\n",
              "\n",
              "    .dataframe thead th {\n",
              "        text-align: right;\n",
              "    }\n",
              "</style>\n",
              "<table border=\"1\" class=\"dataframe\">\n",
              "  <thead>\n",
              "    <tr style=\"text-align: right;\">\n",
              "      <th></th>\n",
              "      <th>label</th>\n",
              "      <th>path</th>\n",
              "    </tr>\n",
              "  </thead>\n",
              "  <tbody>\n",
              "    <tr>\n",
              "      <th>0</th>\n",
              "      <td>6</td>\n",
              "      <td>/content/drive/MyDrive/Penelitian/Deteksi hand...</td>\n",
              "    </tr>\n",
              "    <tr>\n",
              "      <th>1</th>\n",
              "      <td>6</td>\n",
              "      <td>/content/drive/MyDrive/Penelitian/Deteksi hand...</td>\n",
              "    </tr>\n",
              "    <tr>\n",
              "      <th>2</th>\n",
              "      <td>6</td>\n",
              "      <td>/content/drive/MyDrive/Penelitian/Deteksi hand...</td>\n",
              "    </tr>\n",
              "    <tr>\n",
              "      <th>3</th>\n",
              "      <td>6</td>\n",
              "      <td>/content/drive/MyDrive/Penelitian/Deteksi hand...</td>\n",
              "    </tr>\n",
              "    <tr>\n",
              "      <th>4</th>\n",
              "      <td>6</td>\n",
              "      <td>/content/drive/MyDrive/Penelitian/Deteksi hand...</td>\n",
              "    </tr>\n",
              "    <tr>\n",
              "      <th>...</th>\n",
              "      <td>...</td>\n",
              "      <td>...</td>\n",
              "    </tr>\n",
              "    <tr>\n",
              "      <th>2057</th>\n",
              "      <td>7</td>\n",
              "      <td>/content/drive/MyDrive/Penelitian/Deteksi hand...</td>\n",
              "    </tr>\n",
              "    <tr>\n",
              "      <th>2058</th>\n",
              "      <td>7</td>\n",
              "      <td>/content/drive/MyDrive/Penelitian/Deteksi hand...</td>\n",
              "    </tr>\n",
              "    <tr>\n",
              "      <th>2059</th>\n",
              "      <td>7</td>\n",
              "      <td>/content/drive/MyDrive/Penelitian/Deteksi hand...</td>\n",
              "    </tr>\n",
              "    <tr>\n",
              "      <th>2060</th>\n",
              "      <td>7</td>\n",
              "      <td>/content/drive/MyDrive/Penelitian/Deteksi hand...</td>\n",
              "    </tr>\n",
              "    <tr>\n",
              "      <th>2061</th>\n",
              "      <td>7</td>\n",
              "      <td>/content/drive/MyDrive/Penelitian/Deteksi hand...</td>\n",
              "    </tr>\n",
              "  </tbody>\n",
              "</table>\n",
              "<p>2062 rows × 2 columns</p>\n",
              "</div>\n",
              "      <button class=\"colab-df-convert\" onclick=\"convertToInteractive('df-22b69b5b-f0dc-492d-a110-843990aa97ad')\"\n",
              "              title=\"Convert this dataframe to an interactive table.\"\n",
              "              style=\"display:none;\">\n",
              "        \n",
              "  <svg xmlns=\"http://www.w3.org/2000/svg\" height=\"24px\"viewBox=\"0 0 24 24\"\n",
              "       width=\"24px\">\n",
              "    <path d=\"M0 0h24v24H0V0z\" fill=\"none\"/>\n",
              "    <path d=\"M18.56 5.44l.94 2.06.94-2.06 2.06-.94-2.06-.94-.94-2.06-.94 2.06-2.06.94zm-11 1L8.5 8.5l.94-2.06 2.06-.94-2.06-.94L8.5 2.5l-.94 2.06-2.06.94zm10 10l.94 2.06.94-2.06 2.06-.94-2.06-.94-.94-2.06-.94 2.06-2.06.94z\"/><path d=\"M17.41 7.96l-1.37-1.37c-.4-.4-.92-.59-1.43-.59-.52 0-1.04.2-1.43.59L10.3 9.45l-7.72 7.72c-.78.78-.78 2.05 0 2.83L4 21.41c.39.39.9.59 1.41.59.51 0 1.02-.2 1.41-.59l7.78-7.78 2.81-2.81c.8-.78.8-2.07 0-2.86zM5.41 20L4 18.59l7.72-7.72 1.47 1.35L5.41 20z\"/>\n",
              "  </svg>\n",
              "      </button>\n",
              "      \n",
              "  <style>\n",
              "    .colab-df-container {\n",
              "      display:flex;\n",
              "      flex-wrap:wrap;\n",
              "      gap: 12px;\n",
              "    }\n",
              "\n",
              "    .colab-df-convert {\n",
              "      background-color: #E8F0FE;\n",
              "      border: none;\n",
              "      border-radius: 50%;\n",
              "      cursor: pointer;\n",
              "      display: none;\n",
              "      fill: #1967D2;\n",
              "      height: 32px;\n",
              "      padding: 0 0 0 0;\n",
              "      width: 32px;\n",
              "    }\n",
              "\n",
              "    .colab-df-convert:hover {\n",
              "      background-color: #E2EBFA;\n",
              "      box-shadow: 0px 1px 2px rgba(60, 64, 67, 0.3), 0px 1px 3px 1px rgba(60, 64, 67, 0.15);\n",
              "      fill: #174EA6;\n",
              "    }\n",
              "\n",
              "    [theme=dark] .colab-df-convert {\n",
              "      background-color: #3B4455;\n",
              "      fill: #D2E3FC;\n",
              "    }\n",
              "\n",
              "    [theme=dark] .colab-df-convert:hover {\n",
              "      background-color: #434B5C;\n",
              "      box-shadow: 0px 1px 3px 1px rgba(0, 0, 0, 0.15);\n",
              "      filter: drop-shadow(0px 1px 2px rgba(0, 0, 0, 0.3));\n",
              "      fill: #FFFFFF;\n",
              "    }\n",
              "  </style>\n",
              "\n",
              "      <script>\n",
              "        const buttonEl =\n",
              "          document.querySelector('#df-22b69b5b-f0dc-492d-a110-843990aa97ad button.colab-df-convert');\n",
              "        buttonEl.style.display =\n",
              "          google.colab.kernel.accessAllowed ? 'block' : 'none';\n",
              "\n",
              "        async function convertToInteractive(key) {\n",
              "          const element = document.querySelector('#df-22b69b5b-f0dc-492d-a110-843990aa97ad');\n",
              "          const dataTable =\n",
              "            await google.colab.kernel.invokeFunction('convertToInteractive',\n",
              "                                                     [key], {});\n",
              "          if (!dataTable) return;\n",
              "\n",
              "          const docLinkHtml = 'Like what you see? Visit the ' +\n",
              "            '<a target=\"_blank\" href=https://colab.research.google.com/notebooks/data_table.ipynb>data table notebook</a>'\n",
              "            + ' to learn more about interactive tables.';\n",
              "          element.innerHTML = '';\n",
              "          dataTable['output_type'] = 'display_data';\n",
              "          await google.colab.output.renderOutput(dataTable, element);\n",
              "          const docLink = document.createElement('div');\n",
              "          docLink.innerHTML = docLinkHtml;\n",
              "          element.appendChild(docLink);\n",
              "        }\n",
              "      </script>\n",
              "    </div>\n",
              "  </div>\n",
              "  "
            ]
          },
          "metadata": {},
          "execution_count": 4
        }
      ],
      "source": [
        "df = []\n",
        "for key in key_value.keys():\n",
        "    for j in key_value[key]:\n",
        "        df.append([key,path+'/'+key+'/'+j])\n",
        "df1 = pd.DataFrame(df,columns=('label','path'))\n",
        "df1"
      ]
    },
    {
      "cell_type": "code",
      "execution_count": 5,
      "metadata": {
        "id": "nsQiZhhwa5iR"
      },
      "outputs": [],
      "source": [
        "def readimg(path):\n",
        "    img= cv.imread(path)\n",
        "    img = cv.resize(img,(224,224))\n",
        "    return img"
      ]
    },
    {
      "cell_type": "code",
      "execution_count": 6,
      "metadata": {
        "id": "q_XPQTjia7zJ"
      },
      "outputs": [],
      "source": [
        "import multiprocessing\n",
        "\n",
        "# Create a Pool with 4 worker processes\n",
        "with multiprocessing.Pool(4) as p:\n",
        "    # Read in all of the images in parallel\n",
        "    images = p.map(readimg, df1['path'])"
      ]
    },
    {
      "cell_type": "code",
      "execution_count": 7,
      "metadata": {
        "id": "7GpgNP2la-DM"
      },
      "outputs": [],
      "source": [
        "images=np.array(images, dtype='float')\n",
        "# label encoder from sklearn\n",
        "le = preprocessing.LabelEncoder()\n",
        "y_labels = le.fit_transform(df1['label'])"
      ]
    },
    {
      "cell_type": "code",
      "execution_count": 8,
      "metadata": {
        "id": "tgG7wEahbrIY"
      },
      "outputs": [],
      "source": [
        "# to split the data into training and testing data\n",
        "train_images,test_images,train_labels,test_labels = train_test_split(images,y_labels,test_size=0.25, random_state=42)"
      ]
    },
    {
      "cell_type": "code",
      "execution_count": 9,
      "metadata": {
        "id": "JASJ76AkbtWU",
        "colab": {
          "base_uri": "https://localhost:8080/"
        },
        "outputId": "991b1bff-cc3b-4658-c74b-43d5083705aa"
      },
      "outputs": [
        {
          "output_type": "stream",
          "name": "stdout",
          "text": [
            "Downloading data from https://storage.googleapis.com/tensorflow/keras-applications/resnet/resnet50v2_weights_tf_dim_ordering_tf_kernels_notop.h5\n",
            "94668760/94668760 [==============================] - 1s 0us/step\n"
          ]
        }
      ],
      "source": [
        "## implementing trensfer learning\n",
        "base_model = keras.applications.ResNet50V2(weights='imagenet', include_top=False)\n",
        "\n",
        "# freezing the base model so we donot have to train it again\n",
        "base_model.trainable = False\n",
        "\n",
        "\n",
        "model = keras.Sequential([\n",
        "  base_model,\n",
        "  keras.layers.GlobalAveragePooling2D(),\n",
        "  keras.layers.Dense(1024, activation='relu'),\n",
        "  keras.layers.Dense(10, activation='softmax')\n",
        "])\n",
        "model.compile(optimizer='adam', loss='SparseCategoricalCrossentropy', metrics=['accuracy'])"
      ]
    },
    {
      "cell_type": "code",
      "execution_count": 10,
      "metadata": {
        "colab": {
          "base_uri": "https://localhost:8080/"
        },
        "id": "wh52lAuSb5t8",
        "outputId": "2c7635bd-b0f3-4fd3-84d0-d87e14f07958"
      },
      "outputs": [
        {
          "output_type": "stream",
          "name": "stdout",
          "text": [
            "Epoch 1/50\n",
            "49/49 [==============================] - 22s 188ms/step - loss: 247.1750 - accuracy: 0.1119 - val_loss: 42.9583 - val_accuracy: 0.1647\n",
            "Epoch 2/50\n",
            "49/49 [==============================] - 7s 152ms/step - loss: 33.8103 - accuracy: 0.1604 - val_loss: 20.8057 - val_accuracy: 0.3120\n",
            "Epoch 3/50\n",
            "49/49 [==============================] - 6s 115ms/step - loss: 20.4066 - accuracy: 0.2063 - val_loss: 16.8379 - val_accuracy: 0.1996\n",
            "Epoch 4/50\n",
            "49/49 [==============================] - 7s 140ms/step - loss: 18.6500 - accuracy: 0.1940 - val_loss: 13.0645 - val_accuracy: 0.3178\n",
            "Epoch 5/50\n",
            "49/49 [==============================] - 7s 140ms/step - loss: 8.1855 - accuracy: 0.3053 - val_loss: 9.9881 - val_accuracy: 0.2287\n",
            "Epoch 6/50\n",
            "49/49 [==============================] - 7s 142ms/step - loss: 11.4659 - accuracy: 0.3053 - val_loss: 6.8221 - val_accuracy: 0.4186\n",
            "Epoch 7/50\n",
            "49/49 [==============================] - 7s 141ms/step - loss: 7.3604 - accuracy: 0.3499 - val_loss: 9.8866 - val_accuracy: 0.2946\n",
            "Epoch 8/50\n",
            "49/49 [==============================] - 6s 120ms/step - loss: 10.1698 - accuracy: 0.3383 - val_loss: 10.5179 - val_accuracy: 0.3023\n",
            "Epoch 9/50\n",
            "49/49 [==============================] - 7s 142ms/step - loss: 6.3730 - accuracy: 0.3907 - val_loss: 8.9326 - val_accuracy: 0.3953\n",
            "Epoch 10/50\n",
            "49/49 [==============================] - 6s 124ms/step - loss: 5.1901 - accuracy: 0.4159 - val_loss: 5.3948 - val_accuracy: 0.3663\n",
            "Epoch 11/50\n",
            "49/49 [==============================] - 6s 118ms/step - loss: 5.2570 - accuracy: 0.3829 - val_loss: 4.2319 - val_accuracy: 0.3857\n",
            "Epoch 12/50\n",
            "49/49 [==============================] - 7s 142ms/step - loss: 2.1483 - accuracy: 0.5071 - val_loss: 4.1608 - val_accuracy: 0.3934\n",
            "Epoch 13/50\n",
            "49/49 [==============================] - 7s 143ms/step - loss: 5.5122 - accuracy: 0.3687 - val_loss: 8.0075 - val_accuracy: 0.2558\n",
            "Epoch 14/50\n",
            "49/49 [==============================] - 7s 142ms/step - loss: 6.6808 - accuracy: 0.3680 - val_loss: 5.3646 - val_accuracy: 0.3295\n",
            "Epoch 15/50\n",
            "49/49 [==============================] - 7s 142ms/step - loss: 2.8511 - accuracy: 0.4450 - val_loss: 2.1791 - val_accuracy: 0.4341\n",
            "Epoch 16/50\n",
            "49/49 [==============================] - 7s 143ms/step - loss: 2.3935 - accuracy: 0.4774 - val_loss: 1.9264 - val_accuracy: 0.5058\n",
            "Epoch 17/50\n",
            "49/49 [==============================] - 6s 117ms/step - loss: 2.4668 - accuracy: 0.5045 - val_loss: 1.9163 - val_accuracy: 0.5194\n",
            "Epoch 18/50\n",
            "49/49 [==============================] - 6s 120ms/step - loss: 1.5225 - accuracy: 0.5906 - val_loss: 1.1529 - val_accuracy: 0.5969\n",
            "Epoch 19/50\n",
            "49/49 [==============================] - 6s 118ms/step - loss: 1.9958 - accuracy: 0.5310 - val_loss: 2.4005 - val_accuracy: 0.4903\n",
            "Epoch 20/50\n",
            "49/49 [==============================] - 7s 142ms/step - loss: 2.5867 - accuracy: 0.4657 - val_loss: 1.6201 - val_accuracy: 0.4981\n",
            "Epoch 21/50\n",
            "49/49 [==============================] - 7s 142ms/step - loss: 1.7162 - accuracy: 0.5479 - val_loss: 2.1912 - val_accuracy: 0.5174\n",
            "Epoch 22/50\n",
            "49/49 [==============================] - 6s 119ms/step - loss: 1.7763 - accuracy: 0.5123 - val_loss: 2.0491 - val_accuracy: 0.3973\n",
            "Epoch 23/50\n",
            "49/49 [==============================] - 7s 143ms/step - loss: 1.6923 - accuracy: 0.5446 - val_loss: 1.4575 - val_accuracy: 0.5039\n",
            "Epoch 24/50\n",
            "49/49 [==============================] - 6s 119ms/step - loss: 1.3040 - accuracy: 0.5886 - val_loss: 0.8877 - val_accuracy: 0.6957\n",
            "Epoch 25/50\n",
            "49/49 [==============================] - 6s 120ms/step - loss: 1.0107 - accuracy: 0.6507 - val_loss: 1.1600 - val_accuracy: 0.6202\n",
            "Epoch 26/50\n",
            "49/49 [==============================] - 6s 118ms/step - loss: 1.5798 - accuracy: 0.5362 - val_loss: 2.5813 - val_accuracy: 0.3353\n",
            "Epoch 27/50\n",
            "49/49 [==============================] - 6s 121ms/step - loss: 1.3967 - accuracy: 0.5880 - val_loss: 0.9834 - val_accuracy: 0.6667\n",
            "Epoch 28/50\n",
            "49/49 [==============================] - 6s 117ms/step - loss: 1.1992 - accuracy: 0.6035 - val_loss: 0.9755 - val_accuracy: 0.6240\n",
            "Epoch 29/50\n",
            "49/49 [==============================] - 6s 120ms/step - loss: 1.1929 - accuracy: 0.6145 - val_loss: 1.0491 - val_accuracy: 0.6318\n",
            "Epoch 30/50\n",
            "49/49 [==============================] - 7s 142ms/step - loss: 1.0488 - accuracy: 0.6494 - val_loss: 1.2352 - val_accuracy: 0.5543\n",
            "Epoch 31/50\n",
            "49/49 [==============================] - 7s 143ms/step - loss: 1.1372 - accuracy: 0.6164 - val_loss: 1.0127 - val_accuracy: 0.6337\n",
            "Epoch 32/50\n",
            "49/49 [==============================] - 6s 117ms/step - loss: 1.1653 - accuracy: 0.6177 - val_loss: 1.0804 - val_accuracy: 0.5853\n",
            "Epoch 33/50\n",
            "49/49 [==============================] - 6s 120ms/step - loss: 1.0082 - accuracy: 0.6585 - val_loss: 1.8167 - val_accuracy: 0.5174\n",
            "Epoch 34/50\n",
            "49/49 [==============================] - 6s 118ms/step - loss: 1.0240 - accuracy: 0.6404 - val_loss: 1.2023 - val_accuracy: 0.6415\n",
            "Epoch 35/50\n",
            "49/49 [==============================] - 6s 118ms/step - loss: 1.0057 - accuracy: 0.6598 - val_loss: 1.0627 - val_accuracy: 0.6085\n",
            "Epoch 36/50\n",
            "49/49 [==============================] - 7s 145ms/step - loss: 1.0187 - accuracy: 0.6546 - val_loss: 1.0519 - val_accuracy: 0.6705\n",
            "Epoch 37/50\n",
            "49/49 [==============================] - 7s 142ms/step - loss: 0.8479 - accuracy: 0.7031 - val_loss: 0.7970 - val_accuracy: 0.7171\n",
            "Epoch 38/50\n",
            "49/49 [==============================] - 6s 119ms/step - loss: 0.7578 - accuracy: 0.7283 - val_loss: 0.8169 - val_accuracy: 0.6919\n",
            "Epoch 39/50\n",
            "49/49 [==============================] - 7s 141ms/step - loss: 0.8200 - accuracy: 0.7141 - val_loss: 0.9071 - val_accuracy: 0.6957\n",
            "Epoch 40/50\n",
            "49/49 [==============================] - 7s 144ms/step - loss: 0.8120 - accuracy: 0.7322 - val_loss: 1.5112 - val_accuracy: 0.4593\n",
            "Epoch 41/50\n",
            "49/49 [==============================] - 7s 142ms/step - loss: 1.0467 - accuracy: 0.6520 - val_loss: 1.2661 - val_accuracy: 0.6376\n",
            "Epoch 42/50\n",
            "49/49 [==============================] - 7s 143ms/step - loss: 0.9370 - accuracy: 0.6785 - val_loss: 1.2486 - val_accuracy: 0.5678\n",
            "Epoch 43/50\n",
            "49/49 [==============================] - 7s 142ms/step - loss: 1.0917 - accuracy: 0.6481 - val_loss: 1.1304 - val_accuracy: 0.6240\n",
            "Epoch 44/50\n",
            "49/49 [==============================] - 7s 142ms/step - loss: 1.1436 - accuracy: 0.6404 - val_loss: 1.1418 - val_accuracy: 0.5678\n",
            "Epoch 45/50\n",
            "49/49 [==============================] - 7s 143ms/step - loss: 0.9367 - accuracy: 0.6617 - val_loss: 1.4778 - val_accuracy: 0.6163\n",
            "Epoch 46/50\n",
            "49/49 [==============================] - 7s 141ms/step - loss: 0.9550 - accuracy: 0.6805 - val_loss: 0.9208 - val_accuracy: 0.6957\n",
            "Epoch 47/50\n",
            "49/49 [==============================] - 6s 120ms/step - loss: 0.8751 - accuracy: 0.6895 - val_loss: 0.9717 - val_accuracy: 0.5930\n",
            "Epoch 48/50\n",
            "49/49 [==============================] - 7s 142ms/step - loss: 0.8985 - accuracy: 0.6779 - val_loss: 0.7839 - val_accuracy: 0.7151\n",
            "Epoch 49/50\n",
            "49/49 [==============================] - 7s 143ms/step - loss: 0.9052 - accuracy: 0.6837 - val_loss: 1.2326 - val_accuracy: 0.5484\n",
            "Epoch 50/50\n",
            "49/49 [==============================] - 7s 142ms/step - loss: 1.1261 - accuracy: 0.6352 - val_loss: 0.9873 - val_accuracy: 0.6260\n"
          ]
        }
      ],
      "source": [
        "history = model.fit(train_images,train_labels, epochs=50, batch_size=32,validation_data=(test_images, test_labels))"
      ]
    },
    {
      "cell_type": "code",
      "execution_count": 11,
      "metadata": {
        "colab": {
          "base_uri": "https://localhost:8080/"
        },
        "id": "kkN3XRxRcLTR",
        "outputId": "1c8594c8-0e43-4a37-d599-f8231ae29898"
      },
      "outputs": [
        {
          "output_type": "stream",
          "name": "stdout",
          "text": [
            "17/17 [==============================] - 2s 89ms/step\n",
            "Accuracy: 0.625968992248062\n"
          ]
        }
      ],
      "source": [
        "from sklearn.metrics import accuracy_score\n",
        "\n",
        "# Make predictions on the test data\n",
        "predictions = model.predict(test_images)\n",
        "\n",
        "# Convert the predictions to the class labels\n",
        "predicted_labels = np.argmax(predictions, axis=1)\n",
        "\n",
        "# Compute the accuracy score\n",
        "accuracy = accuracy_score(test_labels, predicted_labels)\n",
        "\n",
        "print('Accuracy:', accuracy)"
      ]
    },
    {
      "cell_type": "code",
      "execution_count": 12,
      "metadata": {
        "colab": {
          "base_uri": "https://localhost:8080/"
        },
        "id": "c_vdgbdHcM9x",
        "outputId": "6ce36226-6536-473e-ac9d-3a940391137c"
      },
      "outputs": [
        {
          "output_type": "stream",
          "name": "stdout",
          "text": [
            "Precision: 62.5968992248062\n"
          ]
        }
      ],
      "source": [
        "from sklearn.metrics import precision_score\n",
        "\n",
        "precision = precision_score(test_labels, predicted_labels, average='micro')\n",
        "\n",
        "print('Precision:', precision*100)"
      ]
    },
    {
      "cell_type": "code",
      "execution_count": 13,
      "metadata": {
        "colab": {
          "base_uri": "https://localhost:8080/"
        },
        "id": "uzfAO9F_hXb5",
        "outputId": "37b9951c-a941-45dd-b631-d5588664ad7c"
      },
      "outputs": [
        {
          "output_type": "stream",
          "name": "stderr",
          "text": [
            "WARNING:absl:Found untraced functions such as _jit_compiled_convolution_op, _jit_compiled_convolution_op, _jit_compiled_convolution_op, _jit_compiled_convolution_op, _jit_compiled_convolution_op while saving (showing 5 of 53). These functions will not be directly callable after loading.\n"
          ]
        }
      ],
      "source": [
        "converter = tf.lite.TFLiteConverter.from_keras_model(model)\n",
        "tflite_model = converter.convert()\n",
        "\n",
        "with open(\"model.tflite\", 'wb') as f:\n",
        "  f.write(tflite_model)"
      ]
    },
    {
      "cell_type": "code",
      "execution_count": 14,
      "metadata": {
        "colab": {
          "base_uri": "https://localhost:8080/",
          "height": 380
        },
        "id": "8Px1Yfh4h2nP",
        "outputId": "c6cd23a9-96de-47dd-9914-75c2949eb6d9"
      },
      "outputs": [
        {
          "output_type": "execute_result",
          "data": {
            "text/plain": [
              "Text(0.5, 1.0, 'Accuracy Vs Epoch')"
            ]
          },
          "metadata": {},
          "execution_count": 14
        },
        {
          "output_type": "display_data",
          "data": {
            "text/plain": [
              "<Figure size 1200x800 with 2 Axes>"
            ],
            "image/png": "[encoded data removed]"
          },
          "metadata": {}
        }
      ],
      "source": [
        "plt.figure(figsize=(12, 8))\n",
        "\n",
        "plt.subplot(2, 2, 1)\n",
        "plt.plot(history.history['loss'], label='train loss')\n",
        "plt.plot(history.history['val_loss'], label='val loss')\n",
        "plt.legend()\n",
        "plt.title('Loss Vs Epoch')\n",
        "\n",
        "plt.subplot(2, 2, 2)\n",
        "plt.plot(history.history['accuracy'], label='accuracy')\n",
        "plt.plot(history.history['val_accuracy'], label='val accuracy')\n",
        "plt.legend()\n",
        "plt.title('Accuracy Vs Epoch')"
      ]
    },
    {
      "cell_type": "code",
      "execution_count": 15,
      "metadata": {
        "id": "uEBJaJQOlMfr",
        "colab": {
          "base_uri": "https://localhost:8080/"
        },
        "outputId": "1f329a99-ace7-4b28-bfb0-70adda3c86fe"
      },
      "outputs": [
        {
          "output_type": "stream",
          "name": "stdout",
          "text": [
            "Model: \"sequential\"\n",
            "_________________________________________________________________\n",
            " Layer (type)                Output Shape              Param #   \n",
            "=================================================================\n",
            " resnet50v2 (Functional)     (None, None, None, 2048)  23564800  \n",
            "                                                                 \n",
            " global_average_pooling2d (G  (None, 2048)             0         \n",
            " lobalAveragePooling2D)                                          \n",
            "                                                                 \n",
            " dense (Dense)               (None, 1024)              2098176   \n",
            "                                                                 \n",
            " dense_1 (Dense)             (None, 10)                10250     \n",
            "                                                                 \n",
            "=================================================================\n",
            "Total params: 25,673,226\n",
            "Trainable params: 2,108,426\n",
            "Non-trainable params: 23,564,800\n",
            "_________________________________________________________________\n"
          ]
        }
      ],
      "source": [
        "model.summary()"
      ]
    }
  ],
  "metadata": {
    "accelerator": "GPU",
    "colab": {
      "provenance": [],
      "mount_file_id": "1obi7UmxgSC3TG1yUEw3QF0ozCzjdZnsJ",
      "authorship_tag": "ABX9TyOhUe36UJ17dRghYKCI67p7",
      "include_colab_link": true
    },
    "gpuClass": "standard",
    "kernelspec": {
      "display_name": "Python 3",
      "name": "python3"
    },
    "language_info": {
      "name": "python"
    }
  },
  "nbformat": 4,
  "nbformat_minor": 0
}