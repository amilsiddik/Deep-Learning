{
  "cells": [
    {
      "cell_type": "markdown",
      "metadata": {
        "id": "view-in-github",
        "colab_type": "text"
      },
      "source": [
        "<a href=\"https://colab.research.google.com/github/amilsiddik/Deep-Learning/blob/main/Deteksi_Hand_Sign%20ResNet50.ipynb\" target=\"_parent\"><img src=\"https://colab.research.google.com/assets/colab-badge.svg\" alt=\"Open In Colab\"/></a>"
      ]
    },
    {
      "cell_type": "code",
      "execution_count": 1,
      "metadata": {
        "id": "O9LHzlkEaWRC"
      },
      "outputs": [],
      "source": [
        "import pandas as pd\n",
        "import numpy as np\n",
        "import tensorflow as tf\n",
        "import os\n",
        "import cv2 as cv\n",
        "from tensorflow import keras\n",
        "from sklearn.model_selection import train_test_split\n",
        "from sklearn import preprocessing\n",
        "import matplotlib.pyplot as plt"
      ]
    },
    {
      "cell_type": "code",
      "execution_count": 2,
      "metadata": {
        "colab": {
          "base_uri": "https://localhost:8080/"
        },
        "id": "s9Pm1pJqahex",
        "outputId": "07df1509-5cd1-43b7-88d8-b87b5c4bfef2"
      },
      "outputs": [
        {
          "output_type": "stream",
          "name": "stdout",
          "text": [
            "Drive already mounted at /content/drive; to attempt to forcibly remount, call drive.mount(\"/content/drive\", force_remount=True).\n"
          ]
        }
      ],
      "source": [
        "from google.colab import drive\n",
        "drive.mount('/content/drive')"
      ]
    },
    {
      "cell_type": "code",
      "execution_count": 3,
      "metadata": {
        "id": "JKAKLwf_asR4"
      },
      "outputs": [],
      "source": [
        "path = \"/content/drive/MyDrive/Penelitian/Deteksi hand sign/Dataset\"\n",
        "key_value= dict()\n",
        "for i in os.listdir(path):\n",
        "    key_value[i] = os.listdir(path+'/'+i)"
      ]
    },
    {
      "cell_type": "code",
      "execution_count": 4,
      "metadata": {
        "colab": {
          "base_uri": "https://localhost:8080/",
          "height": 424
        },
        "id": "aVUmD6DCa3OH",
        "outputId": "ea021ece-6319-427a-93ed-f4f583abfb7b"
      },
      "outputs": [
        {
          "output_type": "execute_result",
          "data": {
            "text/plain": [
              "     label                                               path\n",
              "0        6  /content/drive/MyDrive/Penelitian/Deteksi hand...\n",
              "1        6  /content/drive/MyDrive/Penelitian/Deteksi hand...\n",
              "2        6  /content/drive/MyDrive/Penelitian/Deteksi hand...\n",
              "3        6  /content/drive/MyDrive/Penelitian/Deteksi hand...\n",
              "4        6  /content/drive/MyDrive/Penelitian/Deteksi hand...\n",
              "...    ...                                                ...\n",
              "2057     7  /content/drive/MyDrive/Penelitian/Deteksi hand...\n",
              "2058     7  /content/drive/MyDrive/Penelitian/Deteksi hand...\n",
              "2059     7  /content/drive/MyDrive/Penelitian/Deteksi hand...\n",
              "2060     7  /content/drive/MyDrive/Penelitian/Deteksi hand...\n",
              "2061     7  /content/drive/MyDrive/Penelitian/Deteksi hand...\n",
              "\n",
              "[2062 rows x 2 columns]"
            ],
            "text/html": [
              "\n",
              "  <div id=\"df-31a7bfd0-a21e-4cb2-abfd-e876f4e15f6d\">\n",
              "    <div class=\"colab-df-container\">\n",
              "      <div>\n",
              "<style scoped>\n",
              "    .dataframe tbody tr th:only-of-type {\n",
              "        vertical-align: middle;\n",
              "    }\n",
              "\n",
              "    .dataframe tbody tr th {\n",
              "        vertical-align: top;\n",
              "    }\n",
              "\n",
              "    .dataframe thead th {\n",
              "        text-align: right;\n",
              "    }\n",
              "</style>\n",
              "<table border=\"1\" class=\"dataframe\">\n",
              "  <thead>\n",
              "    <tr style=\"text-align: right;\">\n",
              "      <th></th>\n",
              "      <th>label</th>\n",
              "      <th>path</th>\n",
              "    </tr>\n",
              "  </thead>\n",
              "  <tbody>\n",
              "    <tr>\n",
              "      <th>0</th>\n",
              "      <td>6</td>\n",
              "      <td>/content/drive/MyDrive/Penelitian/Deteksi hand...</td>\n",
              "    </tr>\n",
              "    <tr>\n",
              "      <th>1</th>\n",
              "      <td>6</td>\n",
              "      <td>/content/drive/MyDrive/Penelitian/Deteksi hand...</td>\n",
              "    </tr>\n",
              "    <tr>\n",
              "      <th>2</th>\n",
              "      <td>6</td>\n",
              "      <td>/content/drive/MyDrive/Penelitian/Deteksi hand...</td>\n",
              "    </tr>\n",
              "    <tr>\n",
              "      <th>3</th>\n",
              "      <td>6</td>\n",
              "      <td>/content/drive/MyDrive/Penelitian/Deteksi hand...</td>\n",
              "    </tr>\n",
              "    <tr>\n",
              "      <th>4</th>\n",
              "      <td>6</td>\n",
              "      <td>/content/drive/MyDrive/Penelitian/Deteksi hand...</td>\n",
              "    </tr>\n",
              "    <tr>\n",
              "      <th>...</th>\n",
              "      <td>...</td>\n",
              "      <td>...</td>\n",
              "    </tr>\n",
              "    <tr>\n",
              "      <th>2057</th>\n",
              "      <td>7</td>\n",
              "      <td>/content/drive/MyDrive/Penelitian/Deteksi hand...</td>\n",
              "    </tr>\n",
              "    <tr>\n",
              "      <th>2058</th>\n",
              "      <td>7</td>\n",
              "      <td>/content/drive/MyDrive/Penelitian/Deteksi hand...</td>\n",
              "    </tr>\n",
              "    <tr>\n",
              "      <th>2059</th>\n",
              "      <td>7</td>\n",
              "      <td>/content/drive/MyDrive/Penelitian/Deteksi hand...</td>\n",
              "    </tr>\n",
              "    <tr>\n",
              "      <th>2060</th>\n",
              "      <td>7</td>\n",
              "      <td>/content/drive/MyDrive/Penelitian/Deteksi hand...</td>\n",
              "    </tr>\n",
              "    <tr>\n",
              "      <th>2061</th>\n",
              "      <td>7</td>\n",
              "      <td>/content/drive/MyDrive/Penelitian/Deteksi hand...</td>\n",
              "    </tr>\n",
              "  </tbody>\n",
              "</table>\n",
              "<p>2062 rows × 2 columns</p>\n",
              "</div>\n",
              "      <button class=\"colab-df-convert\" onclick=\"convertToInteractive('df-31a7bfd0-a21e-4cb2-abfd-e876f4e15f6d')\"\n",
              "              title=\"Convert this dataframe to an interactive table.\"\n",
              "              style=\"display:none;\">\n",
              "        \n",
              "  <svg xmlns=\"http://www.w3.org/2000/svg\" height=\"24px\"viewBox=\"0 0 24 24\"\n",
              "       width=\"24px\">\n",
              "    <path d=\"M0 0h24v24H0V0z\" fill=\"none\"/>\n",
              "    <path d=\"M18.56 5.44l.94 2.06.94-2.06 2.06-.94-2.06-.94-.94-2.06-.94 2.06-2.06.94zm-11 1L8.5 8.5l.94-2.06 2.06-.94-2.06-.94L8.5 2.5l-.94 2.06-2.06.94zm10 10l.94 2.06.94-2.06 2.06-.94-2.06-.94-.94-2.06-.94 2.06-2.06.94z\"/><path d=\"M17.41 7.96l-1.37-1.37c-.4-.4-.92-.59-1.43-.59-.52 0-1.04.2-1.43.59L10.3 9.45l-7.72 7.72c-.78.78-.78 2.05 0 2.83L4 21.41c.39.39.9.59 1.41.59.51 0 1.02-.2 1.41-.59l7.78-7.78 2.81-2.81c.8-.78.8-2.07 0-2.86zM5.41 20L4 18.59l7.72-7.72 1.47 1.35L5.41 20z\"/>\n",
              "  </svg>\n",
              "      </button>\n",
              "      \n",
              "  <style>\n",
              "    .colab-df-container {\n",
              "      display:flex;\n",
              "      flex-wrap:wrap;\n",
              "      gap: 12px;\n",
              "    }\n",
              "\n",
              "    .colab-df-convert {\n",
              "      background-color: #E8F0FE;\n",
              "      border: none;\n",
              "      border-radius: 50%;\n",
              "      cursor: pointer;\n",
              "      display: none;\n",
              "      fill: #1967D2;\n",
              "      height: 32px;\n",
              "      padding: 0 0 0 0;\n",
              "      width: 32px;\n",
              "    }\n",
              "\n",
              "    .colab-df-convert:hover {\n",
              "      background-color: #E2EBFA;\n",
              "      box-shadow: 0px 1px 2px rgba(60, 64, 67, 0.3), 0px 1px 3px 1px rgba(60, 64, 67, 0.15);\n",
              "      fill: #174EA6;\n",
              "    }\n",
              "\n",
              "    [theme=dark] .colab-df-convert {\n",
              "      background-color: #3B4455;\n",
              "      fill: #D2E3FC;\n",
              "    }\n",
              "\n",
              "    [theme=dark] .colab-df-convert:hover {\n",
              "      background-color: #434B5C;\n",
              "      box-shadow: 0px 1px 3px 1px rgba(0, 0, 0, 0.15);\n",
              "      filter: drop-shadow(0px 1px 2px rgba(0, 0, 0, 0.3));\n",
              "      fill: #FFFFFF;\n",
              "    }\n",
              "  </style>\n",
              "\n",
              "      <script>\n",
              "        const buttonEl =\n",
              "          document.querySelector('#df-31a7bfd0-a21e-4cb2-abfd-e876f4e15f6d button.colab-df-convert');\n",
              "        buttonEl.style.display =\n",
              "          google.colab.kernel.accessAllowed ? 'block' : 'none';\n",
              "\n",
              "        async function convertToInteractive(key) {\n",
              "          const element = document.querySelector('#df-31a7bfd0-a21e-4cb2-abfd-e876f4e15f6d');\n",
              "          const dataTable =\n",
              "            await google.colab.kernel.invokeFunction('convertToInteractive',\n",
              "                                                     [key], {});\n",
              "          if (!dataTable) return;\n",
              "\n",
              "          const docLinkHtml = 'Like what you see? Visit the ' +\n",
              "            '<a target=\"_blank\" href=https://colab.research.google.com/notebooks/data_table.ipynb>data table notebook</a>'\n",
              "            + ' to learn more about interactive tables.';\n",
              "          element.innerHTML = '';\n",
              "          dataTable['output_type'] = 'display_data';\n",
              "          await google.colab.output.renderOutput(dataTable, element);\n",
              "          const docLink = document.createElement('div');\n",
              "          docLink.innerHTML = docLinkHtml;\n",
              "          element.appendChild(docLink);\n",
              "        }\n",
              "      </script>\n",
              "    </div>\n",
              "  </div>\n",
              "  "
            ]
          },
          "metadata": {},
          "execution_count": 4
        }
      ],
      "source": [
        "df = []\n",
        "for key in key_value.keys():\n",
        "    for j in key_value[key]:\n",
        "        df.append([key,path+'/'+key+'/'+j])\n",
        "df1 = pd.DataFrame(df,columns=('label','path'))\n",
        "df1"
      ]
    },
    {
      "cell_type": "code",
      "execution_count": 5,
      "metadata": {
        "id": "nsQiZhhwa5iR"
      },
      "outputs": [],
      "source": [
        "def readimg(path):\n",
        "    img= cv.imread(path)\n",
        "    img = cv.resize(img,(224,224))\n",
        "    return img"
      ]
    },
    {
      "cell_type": "code",
      "execution_count": 6,
      "metadata": {
        "id": "q_XPQTjia7zJ"
      },
      "outputs": [],
      "source": [
        "import multiprocessing\n",
        "\n",
        "# Create a Pool with 4 worker processes\n",
        "with multiprocessing.Pool(4) as p:\n",
        "    # Read in all of the images in parallel\n",
        "    images = p.map(readimg, df1['path'])"
      ]
    },
    {
      "cell_type": "code",
      "execution_count": 7,
      "metadata": {
        "id": "7GpgNP2la-DM"
      },
      "outputs": [],
      "source": [
        "images=np.array(images, dtype='float')\n",
        "# label encoder from sklearn\n",
        "le = preprocessing.LabelEncoder()\n",
        "y_labels = le.fit_transform(df1['label'])"
      ]
    },
    {
      "cell_type": "code",
      "execution_count": 8,
      "metadata": {
        "id": "tgG7wEahbrIY"
      },
      "outputs": [],
      "source": [
        "# to split the data into training and testing data\n",
        "train_images,test_images,train_labels,test_labels = train_test_split(images,y_labels,test_size=0.25, random_state=42)"
      ]
    },
    {
      "cell_type": "code",
      "execution_count": 9,
      "metadata": {
        "id": "JASJ76AkbtWU",
        "colab": {
          "base_uri": "https://localhost:8080/"
        },
        "outputId": "6c98b939-4eac-491e-c915-110efbe907fc"
      },
      "outputs": [
        {
          "output_type": "stream",
          "name": "stdout",
          "text": [
            "Downloading data from https://storage.googleapis.com/tensorflow/keras-applications/resnet/resnet50_weights_tf_dim_ordering_tf_kernels_notop.h5\n",
            "94765736/94765736 [==============================] - 1s 0us/step\n"
          ]
        }
      ],
      "source": [
        "## implementing trensfer learning\n",
        "base_model = keras.applications.ResNet50(weights='imagenet', include_top=False)\n",
        "\n",
        "# freezing the base model so we donot have to train it again\n",
        "base_model.trainable = False\n",
        "\n",
        "\n",
        "model = keras.Sequential([\n",
        "  base_model,\n",
        "  keras.layers.GlobalAveragePooling2D(),\n",
        "  keras.layers.Dense(1024, activation='relu'),\n",
        "  keras.layers.Dense(10, activation='softmax')\n",
        "])\n",
        "model.compile(optimizer='adam', loss='SparseCategoricalCrossentropy', metrics=['accuracy'])"
      ]
    },
    {
      "cell_type": "code",
      "execution_count": 10,
      "metadata": {
        "colab": {
          "base_uri": "https://localhost:8080/"
        },
        "id": "wh52lAuSb5t8",
        "outputId": "062b6c13-1723-4846-9f34-b963abed4d7b"
      },
      "outputs": [
        {
          "output_type": "stream",
          "name": "stdout",
          "text": [
            "Epoch 1/50\n",
            "49/49 [==============================] - 23s 192ms/step - loss: 1.3819 - accuracy: 0.6235 - val_loss: 0.5211 - val_accuracy: 0.8411\n",
            "Epoch 2/50\n",
            "49/49 [==============================] - 6s 122ms/step - loss: 0.4419 - accuracy: 0.8583 - val_loss: 0.4254 - val_accuracy: 0.8353\n",
            "Epoch 3/50\n",
            "49/49 [==============================] - 6s 123ms/step - loss: 0.2510 - accuracy: 0.9237 - val_loss: 0.2690 - val_accuracy: 0.9109\n",
            "Epoch 4/50\n",
            "49/49 [==============================] - 6s 125ms/step - loss: 0.2399 - accuracy: 0.9288 - val_loss: 0.2475 - val_accuracy: 0.9167\n",
            "Epoch 5/50\n",
            "49/49 [==============================] - 6s 124ms/step - loss: 0.1508 - accuracy: 0.9573 - val_loss: 0.2634 - val_accuracy: 0.8895\n",
            "Epoch 6/50\n",
            "49/49 [==============================] - 6s 127ms/step - loss: 0.1116 - accuracy: 0.9722 - val_loss: 0.2208 - val_accuracy: 0.9186\n",
            "Epoch 7/50\n",
            "49/49 [==============================] - 7s 147ms/step - loss: 0.0820 - accuracy: 0.9845 - val_loss: 0.1983 - val_accuracy: 0.9283\n",
            "Epoch 8/50\n",
            "49/49 [==============================] - 7s 150ms/step - loss: 0.0674 - accuracy: 0.9877 - val_loss: 0.1943 - val_accuracy: 0.9360\n",
            "Epoch 9/50\n",
            "49/49 [==============================] - 6s 125ms/step - loss: 0.0636 - accuracy: 0.9851 - val_loss: 0.2008 - val_accuracy: 0.9380\n",
            "Epoch 10/50\n",
            "49/49 [==============================] - 7s 151ms/step - loss: 0.0577 - accuracy: 0.9871 - val_loss: 0.2038 - val_accuracy: 0.9283\n",
            "Epoch 11/50\n",
            "49/49 [==============================] - 6s 127ms/step - loss: 0.0333 - accuracy: 0.9968 - val_loss: 0.1706 - val_accuracy: 0.9419\n",
            "Epoch 12/50\n",
            "49/49 [==============================] - 7s 152ms/step - loss: 0.0269 - accuracy: 0.9981 - val_loss: 0.1669 - val_accuracy: 0.9380\n",
            "Epoch 13/50\n",
            "49/49 [==============================] - 7s 149ms/step - loss: 0.0270 - accuracy: 0.9968 - val_loss: 0.1915 - val_accuracy: 0.9438\n",
            "Epoch 14/50\n",
            "49/49 [==============================] - 6s 130ms/step - loss: 0.0204 - accuracy: 0.9987 - val_loss: 0.1814 - val_accuracy: 0.9302\n",
            "Epoch 15/50\n",
            "49/49 [==============================] - 7s 150ms/step - loss: 0.0294 - accuracy: 0.9922 - val_loss: 0.2016 - val_accuracy: 0.9399\n",
            "Epoch 16/50\n",
            "49/49 [==============================] - 6s 127ms/step - loss: 0.0195 - accuracy: 0.9961 - val_loss: 0.1764 - val_accuracy: 0.9438\n",
            "Epoch 17/50\n",
            "49/49 [==============================] - 7s 149ms/step - loss: 0.0165 - accuracy: 0.9987 - val_loss: 0.2102 - val_accuracy: 0.9205\n",
            "Epoch 18/50\n",
            "49/49 [==============================] - 6s 126ms/step - loss: 0.0089 - accuracy: 1.0000 - val_loss: 0.1781 - val_accuracy: 0.9457\n",
            "Epoch 19/50\n",
            "49/49 [==============================] - 6s 128ms/step - loss: 0.0071 - accuracy: 0.9994 - val_loss: 0.1752 - val_accuracy: 0.9341\n",
            "Epoch 20/50\n",
            "49/49 [==============================] - 7s 149ms/step - loss: 0.0058 - accuracy: 1.0000 - val_loss: 0.1675 - val_accuracy: 0.9496\n",
            "Epoch 21/50\n",
            "49/49 [==============================] - 7s 150ms/step - loss: 0.0045 - accuracy: 1.0000 - val_loss: 0.1728 - val_accuracy: 0.9438\n",
            "Epoch 22/50\n",
            "49/49 [==============================] - 6s 126ms/step - loss: 0.0042 - accuracy: 1.0000 - val_loss: 0.1689 - val_accuracy: 0.9477\n",
            "Epoch 23/50\n",
            "49/49 [==============================] - 7s 150ms/step - loss: 0.0038 - accuracy: 1.0000 - val_loss: 0.1654 - val_accuracy: 0.9535\n",
            "Epoch 24/50\n",
            "49/49 [==============================] - 6s 127ms/step - loss: 0.0035 - accuracy: 1.0000 - val_loss: 0.1682 - val_accuracy: 0.9438\n",
            "Epoch 25/50\n",
            "49/49 [==============================] - 6s 130ms/step - loss: 0.0032 - accuracy: 1.0000 - val_loss: 0.1703 - val_accuracy: 0.9419\n",
            "Epoch 26/50\n",
            "49/49 [==============================] - 6s 127ms/step - loss: 0.0034 - accuracy: 1.0000 - val_loss: 0.1722 - val_accuracy: 0.9419\n",
            "Epoch 27/50\n",
            "49/49 [==============================] - 6s 129ms/step - loss: 0.0027 - accuracy: 1.0000 - val_loss: 0.1620 - val_accuracy: 0.9496\n",
            "Epoch 28/50\n",
            "49/49 [==============================] - 6s 128ms/step - loss: 0.0025 - accuracy: 1.0000 - val_loss: 0.1694 - val_accuracy: 0.9457\n",
            "Epoch 29/50\n",
            "49/49 [==============================] - 7s 149ms/step - loss: 0.0023 - accuracy: 1.0000 - val_loss: 0.1652 - val_accuracy: 0.9516\n",
            "Epoch 30/50\n",
            "49/49 [==============================] - 6s 127ms/step - loss: 0.0022 - accuracy: 1.0000 - val_loss: 0.1655 - val_accuracy: 0.9496\n",
            "Epoch 31/50\n",
            "49/49 [==============================] - 7s 149ms/step - loss: 0.0020 - accuracy: 1.0000 - val_loss: 0.1713 - val_accuracy: 0.9380\n",
            "Epoch 32/50\n",
            "49/49 [==============================] - 7s 148ms/step - loss: 0.0020 - accuracy: 1.0000 - val_loss: 0.1727 - val_accuracy: 0.9419\n",
            "Epoch 33/50\n",
            "49/49 [==============================] - 7s 150ms/step - loss: 0.0018 - accuracy: 1.0000 - val_loss: 0.1726 - val_accuracy: 0.9477\n",
            "Epoch 34/50\n",
            "49/49 [==============================] - 7s 149ms/step - loss: 0.0017 - accuracy: 1.0000 - val_loss: 0.1647 - val_accuracy: 0.9516\n",
            "Epoch 35/50\n",
            "49/49 [==============================] - 6s 130ms/step - loss: 0.0017 - accuracy: 1.0000 - val_loss: 0.1855 - val_accuracy: 0.9438\n",
            "Epoch 36/50\n",
            "49/49 [==============================] - 6s 127ms/step - loss: 0.0016 - accuracy: 1.0000 - val_loss: 0.1707 - val_accuracy: 0.9438\n",
            "Epoch 37/50\n",
            "49/49 [==============================] - 6s 130ms/step - loss: 0.0014 - accuracy: 1.0000 - val_loss: 0.1633 - val_accuracy: 0.9516\n",
            "Epoch 38/50\n",
            "49/49 [==============================] - 6s 128ms/step - loss: 0.0013 - accuracy: 1.0000 - val_loss: 0.1654 - val_accuracy: 0.9496\n",
            "Epoch 39/50\n",
            "49/49 [==============================] - 6s 131ms/step - loss: 0.0012 - accuracy: 1.0000 - val_loss: 0.1705 - val_accuracy: 0.9535\n",
            "Epoch 40/50\n",
            "49/49 [==============================] - 7s 150ms/step - loss: 0.0012 - accuracy: 1.0000 - val_loss: 0.1665 - val_accuracy: 0.9516\n",
            "Epoch 41/50\n",
            "49/49 [==============================] - 7s 151ms/step - loss: 0.0011 - accuracy: 1.0000 - val_loss: 0.1758 - val_accuracy: 0.9419\n",
            "Epoch 42/50\n",
            "49/49 [==============================] - 6s 127ms/step - loss: 0.0010 - accuracy: 1.0000 - val_loss: 0.1701 - val_accuracy: 0.9438\n",
            "Epoch 43/50\n",
            "49/49 [==============================] - 6s 130ms/step - loss: 0.0010 - accuracy: 1.0000 - val_loss: 0.1721 - val_accuracy: 0.9496\n",
            "Epoch 44/50\n",
            "49/49 [==============================] - 6s 126ms/step - loss: 9.4060e-04 - accuracy: 1.0000 - val_loss: 0.1733 - val_accuracy: 0.9477\n",
            "Epoch 45/50\n",
            "49/49 [==============================] - 6s 129ms/step - loss: 8.9058e-04 - accuracy: 1.0000 - val_loss: 0.1701 - val_accuracy: 0.9496\n",
            "Epoch 46/50\n",
            "49/49 [==============================] - 7s 149ms/step - loss: 8.5197e-04 - accuracy: 1.0000 - val_loss: 0.1719 - val_accuracy: 0.9477\n",
            "Epoch 47/50\n",
            "49/49 [==============================] - 7s 150ms/step - loss: 8.2003e-04 - accuracy: 1.0000 - val_loss: 0.1678 - val_accuracy: 0.9477\n",
            "Epoch 48/50\n",
            "49/49 [==============================] - 7s 149ms/step - loss: 7.7669e-04 - accuracy: 1.0000 - val_loss: 0.1714 - val_accuracy: 0.9477\n",
            "Epoch 49/50\n",
            "49/49 [==============================] - 7s 151ms/step - loss: 7.5461e-04 - accuracy: 1.0000 - val_loss: 0.1673 - val_accuracy: 0.9496\n",
            "Epoch 50/50\n",
            "49/49 [==============================] - 6s 128ms/step - loss: 7.1206e-04 - accuracy: 1.0000 - val_loss: 0.1717 - val_accuracy: 0.9477\n"
          ]
        }
      ],
      "source": [
        "history = model.fit(train_images,train_labels, epochs=50, batch_size=32,validation_data=(test_images, test_labels))"
      ]
    },
    {
      "cell_type": "code",
      "execution_count": 11,
      "metadata": {
        "colab": {
          "base_uri": "https://localhost:8080/"
        },
        "id": "kkN3XRxRcLTR",
        "outputId": "6a866fae-7c79-493d-ab2e-ea03fe077b6c"
      },
      "outputs": [
        {
          "output_type": "stream",
          "name": "stdout",
          "text": [
            "17/17 [==============================] - 2s 92ms/step\n",
            "Accuracy: 0.9476744186046512\n"
          ]
        }
      ],
      "source": [
        "from sklearn.metrics import accuracy_score\n",
        "\n",
        "# Make predictions on the test data\n",
        "predictions = model.predict(test_images)\n",
        "\n",
        "# Convert the predictions to the class labels\n",
        "predicted_labels = np.argmax(predictions, axis=1)\n",
        "\n",
        "# Compute the accuracy score\n",
        "accuracy = accuracy_score(test_labels, predicted_labels)\n",
        "\n",
        "print('Accuracy:', accuracy)"
      ]
    },
    {
      "cell_type": "code",
      "execution_count": 12,
      "metadata": {
        "colab": {
          "base_uri": "https://localhost:8080/"
        },
        "id": "c_vdgbdHcM9x",
        "outputId": "37981a80-9e19-4e3a-eb72-790e45a69791"
      },
      "outputs": [
        {
          "output_type": "stream",
          "name": "stdout",
          "text": [
            "Precision: 94.76744186046511\n"
          ]
        }
      ],
      "source": [
        "from sklearn.metrics import precision_score\n",
        "\n",
        "precision = precision_score(test_labels, predicted_labels, average='micro')\n",
        "\n",
        "print('Precision:', precision*100)"
      ]
    },
    {
      "cell_type": "code",
      "execution_count": 13,
      "metadata": {
        "colab": {
          "base_uri": "https://localhost:8080/"
        },
        "id": "uzfAO9F_hXb5",
        "outputId": "e5c75335-f63e-4910-c03e-e98f1b946538"
      },
      "outputs": [
        {
          "output_type": "stream",
          "name": "stderr",
          "text": [
            "WARNING:absl:Found untraced functions such as _jit_compiled_convolution_op, _jit_compiled_convolution_op, _jit_compiled_convolution_op, _jit_compiled_convolution_op, _jit_compiled_convolution_op while saving (showing 5 of 53). These functions will not be directly callable after loading.\n"
          ]
        }
      ],
      "source": [
        "converter = tf.lite.TFLiteConverter.from_keras_model(model)\n",
        "tflite_model = converter.convert()\n",
        "\n",
        "with open(\"model.tflite\", 'wb') as f:\n",
        "  f.write(tflite_model)"
      ]
    },
    {
      "cell_type": "code",
      "execution_count": 14,
      "metadata": {
        "colab": {
          "base_uri": "https://localhost:8080/",
          "height": 380
        },
        "id": "8Px1Yfh4h2nP",
        "outputId": "8a3c2360-e433-4f5a-ba1b-1ff73543f737"
      },
      "outputs": [
        {
          "output_type": "execute_result",
          "data": {
            "text/plain": [
              "Text(0.5, 1.0, 'Accuracy Vs Epoch')"
            ]
          },
          "metadata": {},
          "execution_count": 14
        },
        {
          "output_type": "display_data",
          "data": {
            "text/plain": [
              "<Figure size 1200x800 with 2 Axes>"
            ],
            "image/png": "[encoded data removed]"
          },
          "metadata": {}
        }
      ],
      "source": [
        "plt.figure(figsize=(12, 8))\n",
        "\n",
        "plt.subplot(2, 2, 1)\n",
        "plt.plot(history.history['loss'], label='train loss')\n",
        "plt.plot(history.history['val_loss'], label='val loss')\n",
        "plt.legend()\n",
        "plt.title('Loss Vs Epoch')\n",
        "\n",
        "plt.subplot(2, 2, 2)\n",
        "plt.plot(history.history['accuracy'], label='accuracy')\n",
        "plt.plot(history.history['val_accuracy'], label='val accuracy')\n",
        "plt.legend()\n",
        "plt.title('Accuracy Vs Epoch')"
      ]
    },
    {
      "cell_type": "code",
      "source": [
        "plt.plot(history.history['loss'], label='train loss')\n",
        "plt.plot(history.history['val_loss'], label='val loss')\n",
        "plt.legend()\n",
        "plt.title('Loss Vs Epoch')\n",
        "plt.xlabel('Epoch')\n",
        "plt.ylabel('Loss')\n",
        "plt.show()"
      ],
      "metadata": {
        "colab": {
          "base_uri": "https://localhost:8080/",
          "height": 472
        },
        "id": "UhpM_PkcOmVS",
        "outputId": "23911047-b285-46a4-cb3d-19787d4e8da5"
      },
      "execution_count": 28,
      "outputs": [
        {
          "output_type": "display_data",
          "data": {
            "text/plain": [
              "<Figure size 640x480 with 1 Axes>"
            ],
            "image/png": "[encoded data removed]"
          },
          "metadata": {}
        }
      ]
    },
    {
      "cell_type": "code",
      "source": [
        "plt.xlabel('Epoch')\n",
        "plt.ylabel('Accuracy')\n",
        "plt.plot(history.history['accuracy'], label='accuracy')\n",
        "plt.plot(history.history['val_accuracy'], label='val accuracy')\n",
        "plt.legend()\n",
        "plt.title('Accuracy Vs Epoch')\n",
        "plt.show()"
      ],
      "metadata": {
        "colab": {
          "base_uri": "https://localhost:8080/",
          "height": 472
        },
        "id": "oKSCM2mYOQPG",
        "outputId": "ebc247f0-5603-4fbb-a531-496a3ad5645c"
      },
      "execution_count": 27,
      "outputs": [
        {
          "output_type": "display_data",
          "data": {
            "text/plain": [
              "<Figure size 640x480 with 1 Axes>"
            ],
            "image/png": "[encoded data removed]"
          },
          "metadata": {}
        }
      ]
    },
    {
      "cell_type": "code",
      "execution_count": 15,
      "metadata": {
        "id": "uEBJaJQOlMfr",
        "colab": {
          "base_uri": "https://localhost:8080/"
        },
        "outputId": "f718c1b7-a042-4b3d-ee6f-68685a852523"
      },
      "outputs": [
        {
          "output_type": "stream",
          "name": "stdout",
          "text": [
            "Model: \"sequential\"\n",
            "_________________________________________________________________\n",
            " Layer (type)                Output Shape              Param #   \n",
            "=================================================================\n",
            " resnet50 (Functional)       (None, None, None, 2048)  23587712  \n",
            "                                                                 \n",
            " global_average_pooling2d (G  (None, 2048)             0         \n",
            " lobalAveragePooling2D)                                          \n",
            "                                                                 \n",
            " dense (Dense)               (None, 1024)              2098176   \n",
            "                                                                 \n",
            " dense_1 (Dense)             (None, 10)                10250     \n",
            "                                                                 \n",
            "=================================================================\n",
            "Total params: 25,696,138\n",
            "Trainable params: 2,108,426\n",
            "Non-trainable params: 23,587,712\n",
            "_________________________________________________________________\n"
          ]
        }
      ],
      "source": [
        "model.summary()"
      ]
    },
    {
      "cell_type": "code",
      "source": [
        "from sklearn.metrics import classification_report\n",
        "pred = model.predict(test_images, verbose=1)\n",
        "model_predicted = np.argmax(pred, axis = 1)\n",
        "\n",
        "File=[]\n",
        "for file in os.listdir(path):\n",
        "    File+=[file]\n",
        "print(File)\n",
        "#print(classification_report(test_labels.argmax(axis=1), model_predicted, target_names=File))"
      ],
      "metadata": {
        "colab": {
          "base_uri": "https://localhost:8080/"
        },
        "id": "2FimY2gZKNhV",
        "outputId": "b5d55fce-d733-4de0-8525-07daafb2c1c5"
      },
      "execution_count": 20,
      "outputs": [
        {
          "output_type": "stream",
          "name": "stdout",
          "text": [
            "17/17 [==============================] - 2s 95ms/step\n",
            "['6', '8', '3', '4', '0', '5', '1', '9', '2', '7']\n"
          ]
        }
      ]
    },
    {
      "cell_type": "code",
      "source": [
        "test_images[1]\n",
        "#Y_pred = model.predict(test_images[1])"
      ],
      "metadata": {
        "colab": {
          "base_uri": "https://localhost:8080/"
        },
        "id": "NBybZxLQLvFY",
        "outputId": "0dca2c18-0207-4e5e-8936-801c68d9a25d"
      },
      "execution_count": 24,
      "outputs": [
        {
          "output_type": "execute_result",
          "data": {
            "text/plain": [
              "array([[[122., 123., 127.],\n",
              "        [121., 122., 126.],\n",
              "        [121., 122., 126.],\n",
              "        ...,\n",
              "        [123., 121., 121.],\n",
              "        [126., 123., 125.],\n",
              "        [125., 123., 123.]],\n",
              "\n",
              "       [[121., 122., 126.],\n",
              "        [123., 124., 128.],\n",
              "        [123., 124., 128.],\n",
              "        ...,\n",
              "        [125., 121., 122.],\n",
              "        [123., 120., 122.],\n",
              "        [123., 121., 121.]],\n",
              "\n",
              "       [[120., 121., 125.],\n",
              "        [114., 115., 119.],\n",
              "        [124., 125., 129.],\n",
              "        ...,\n",
              "        [128., 123., 124.],\n",
              "        [124., 122., 122.],\n",
              "        [130., 125., 126.]],\n",
              "\n",
              "       ...,\n",
              "\n",
              "       [[125., 126., 130.],\n",
              "        [124., 127., 131.],\n",
              "        [123., 126., 130.],\n",
              "        ...,\n",
              "        [122., 123., 127.],\n",
              "        [119., 121., 122.],\n",
              "        [119., 121., 122.]],\n",
              "\n",
              "       [[124., 127., 131.],\n",
              "        [124., 128., 129.],\n",
              "        [126., 129., 133.],\n",
              "        ...,\n",
              "        [122., 124., 125.],\n",
              "        [123., 125., 126.],\n",
              "        [122., 124., 125.]],\n",
              "\n",
              "       [[122., 125., 129.],\n",
              "        [122., 127., 130.],\n",
              "        [125., 130., 133.],\n",
              "        ...,\n",
              "        [123., 125., 126.],\n",
              "        [122., 124., 125.],\n",
              "        [122., 124., 125.]]])"
            ]
          },
          "metadata": {},
          "execution_count": 24
        }
      ]
    },
    {
      "cell_type": "code",
      "source": [
        "test_images"
      ],
      "metadata": {
        "colab": {
          "base_uri": "https://localhost:8080/"
        },
        "id": "0bA0Y4gXLyib",
        "outputId": "d93092d8-bd23-4fd9-f075-887d38cfa7ca"
      },
      "execution_count": 22,
      "outputs": [
        {
          "output_type": "execute_result",
          "data": {
            "text/plain": [
              "array([[[[128., 123., 124.],\n",
              "         [128., 123., 124.],\n",
              "         [129., 123., 124.],\n",
              "         ...,\n",
              "         [114., 107., 107.],\n",
              "         [114., 106., 106.],\n",
              "         [114., 106., 106.]],\n",
              "\n",
              "        [[128., 123., 124.],\n",
              "         [128., 123., 124.],\n",
              "         [129., 124., 125.],\n",
              "         ...,\n",
              "         [115., 107., 107.],\n",
              "         [114., 106., 106.],\n",
              "         [114., 106., 106.]],\n",
              "\n",
              "        [[128., 123., 125.],\n",
              "         [129., 124., 125.],\n",
              "         [129., 124., 126.],\n",
              "         ...,\n",
              "         [115., 107., 107.],\n",
              "         [115., 107., 107.],\n",
              "         [115., 106., 106.]],\n",
              "\n",
              "        ...,\n",
              "\n",
              "        [[112., 110., 110.],\n",
              "         [112., 110., 110.],\n",
              "         [113., 111., 111.],\n",
              "         ...,\n",
              "         [ 92.,  90.,  90.],\n",
              "         [ 92.,  90.,  90.],\n",
              "         [ 92.,  90.,  90.]],\n",
              "\n",
              "        [[111., 109., 109.],\n",
              "         [111., 109., 109.],\n",
              "         [112., 110., 110.],\n",
              "         ...,\n",
              "         [ 91.,  88.,  88.],\n",
              "         [ 91.,  88.,  88.],\n",
              "         [ 91.,  88.,  88.]],\n",
              "\n",
              "        [[111., 109., 109.],\n",
              "         [111., 109., 109.],\n",
              "         [112., 110., 110.],\n",
              "         ...,\n",
              "         [ 90.,  88.,  88.],\n",
              "         [ 90.,  88.,  88.],\n",
              "         [ 90.,  88.,  88.]]],\n",
              "\n",
              "\n",
              "       [[[122., 123., 127.],\n",
              "         [121., 122., 126.],\n",
              "         [121., 122., 126.],\n",
              "         ...,\n",
              "         [123., 121., 121.],\n",
              "         [126., 123., 125.],\n",
              "         [125., 123., 123.]],\n",
              "\n",
              "        [[121., 122., 126.],\n",
              "         [123., 124., 128.],\n",
              "         [123., 124., 128.],\n",
              "         ...,\n",
              "         [125., 121., 122.],\n",
              "         [123., 120., 122.],\n",
              "         [123., 121., 121.]],\n",
              "\n",
              "        [[120., 121., 125.],\n",
              "         [114., 115., 119.],\n",
              "         [124., 125., 129.],\n",
              "         ...,\n",
              "         [128., 123., 124.],\n",
              "         [124., 122., 122.],\n",
              "         [130., 125., 126.]],\n",
              "\n",
              "        ...,\n",
              "\n",
              "        [[125., 126., 130.],\n",
              "         [124., 127., 131.],\n",
              "         [123., 126., 130.],\n",
              "         ...,\n",
              "         [122., 123., 127.],\n",
              "         [119., 121., 122.],\n",
              "         [119., 121., 122.]],\n",
              "\n",
              "        [[124., 127., 131.],\n",
              "         [124., 128., 129.],\n",
              "         [126., 129., 133.],\n",
              "         ...,\n",
              "         [122., 124., 125.],\n",
              "         [123., 125., 126.],\n",
              "         [122., 124., 125.]],\n",
              "\n",
              "        [[122., 125., 129.],\n",
              "         [122., 127., 130.],\n",
              "         [125., 130., 133.],\n",
              "         ...,\n",
              "         [123., 125., 126.],\n",
              "         [122., 124., 125.],\n",
              "         [122., 124., 125.]]],\n",
              "\n",
              "\n",
              "       [[[150., 137., 135.],\n",
              "         [150., 137., 135.],\n",
              "         [151., 138., 136.],\n",
              "         ...,\n",
              "         [119., 114., 115.],\n",
              "         [118., 113., 114.],\n",
              "         [118., 113., 114.]],\n",
              "\n",
              "        [[150., 137., 135.],\n",
              "         [150., 137., 135.],\n",
              "         [151., 138., 136.],\n",
              "         ...,\n",
              "         [119., 114., 115.],\n",
              "         [118., 113., 114.],\n",
              "         [118., 113., 114.]],\n",
              "\n",
              "        [[151., 138., 136.],\n",
              "         [151., 138., 136.],\n",
              "         [151., 138., 136.],\n",
              "         ...,\n",
              "         [119., 114., 115.],\n",
              "         [119., 114., 115.],\n",
              "         [119., 113., 115.]],\n",
              "\n",
              "        ...,\n",
              "\n",
              "        [[128., 123., 122.],\n",
              "         [128., 123., 122.],\n",
              "         [128., 123., 122.],\n",
              "         ...,\n",
              "         [108., 106., 108.],\n",
              "         [108., 106., 108.],\n",
              "         [108., 106., 108.]],\n",
              "\n",
              "        [[126., 121., 120.],\n",
              "         [127., 122., 121.],\n",
              "         [127., 122., 121.],\n",
              "         ...,\n",
              "         [107., 106., 108.],\n",
              "         [107., 106., 108.],\n",
              "         [107., 106., 108.]],\n",
              "\n",
              "        [[126., 121., 120.],\n",
              "         [126., 121., 120.],\n",
              "         [127., 121., 120.],\n",
              "         ...,\n",
              "         [107., 106., 108.],\n",
              "         [107., 106., 108.],\n",
              "         [107., 106., 108.]]],\n",
              "\n",
              "\n",
              "       ...,\n",
              "\n",
              "\n",
              "       [[[137., 134., 136.],\n",
              "         [138., 135., 137.],\n",
              "         [139., 136., 138.],\n",
              "         ...,\n",
              "         [123., 122., 124.],\n",
              "         [122., 121., 123.],\n",
              "         [122., 121., 123.]],\n",
              "\n",
              "        [[137., 134., 136.],\n",
              "         [137., 134., 137.],\n",
              "         [139., 136., 138.],\n",
              "         ...,\n",
              "         [123., 122., 124.],\n",
              "         [123., 122., 123.],\n",
              "         [122., 121., 123.]],\n",
              "\n",
              "        [[136., 133., 135.],\n",
              "         [137., 134., 136.],\n",
              "         [139., 136., 138.],\n",
              "         ...,\n",
              "         [124., 123., 125.],\n",
              "         [123., 122., 124.],\n",
              "         [123., 122., 124.]],\n",
              "\n",
              "        ...,\n",
              "\n",
              "        [[125., 127., 130.],\n",
              "         [126., 127., 131.],\n",
              "         [127., 128., 132.],\n",
              "         ...,\n",
              "         [113., 115., 116.],\n",
              "         [112., 114., 115.],\n",
              "         [112., 114., 115.]],\n",
              "\n",
              "        [[125., 126., 130.],\n",
              "         [125., 126., 131.],\n",
              "         [126., 127., 131.],\n",
              "         ...,\n",
              "         [112., 114., 115.],\n",
              "         [111., 114., 114.],\n",
              "         [111., 113., 114.]],\n",
              "\n",
              "        [[125., 126., 130.],\n",
              "         [125., 126., 130.],\n",
              "         [126., 127., 131.],\n",
              "         ...,\n",
              "         [112., 114., 115.],\n",
              "         [111., 113., 114.],\n",
              "         [111., 113., 114.]]],\n",
              "\n",
              "\n",
              "       [[[ 97.,  98., 102.],\n",
              "         [ 97.,  98., 102.],\n",
              "         [ 97.,  98., 102.],\n",
              "         ...,\n",
              "         [129., 116., 117.],\n",
              "         [129., 115., 116.],\n",
              "         [129., 115., 116.]],\n",
              "\n",
              "        [[ 97.,  98., 102.],\n",
              "         [ 97.,  98., 102.],\n",
              "         [ 97.,  98., 102.],\n",
              "         ...,\n",
              "         [130., 116., 117.],\n",
              "         [129., 115., 116.],\n",
              "         [129., 115., 116.]],\n",
              "\n",
              "        [[ 97.,  98., 102.],\n",
              "         [ 97.,  98., 102.],\n",
              "         [ 97.,  98., 102.],\n",
              "         ...,\n",
              "         [131., 117., 118.],\n",
              "         [130., 116., 117.],\n",
              "         [130., 116., 117.]],\n",
              "\n",
              "        ...,\n",
              "\n",
              "        [[110., 112., 112.],\n",
              "         [110., 112., 113.],\n",
              "         [110., 112., 113.],\n",
              "         ...,\n",
              "         [133., 128., 129.],\n",
              "         [133., 128., 129.],\n",
              "         [132., 127., 128.]],\n",
              "\n",
              "        [[109., 111., 112.],\n",
              "         [109., 111., 112.],\n",
              "         [110., 112., 113.],\n",
              "         ...,\n",
              "         [133., 128., 129.],\n",
              "         [132., 127., 128.],\n",
              "         [132., 127., 128.]],\n",
              "\n",
              "        [[109., 111., 112.],\n",
              "         [109., 111., 112.],\n",
              "         [110., 111., 112.],\n",
              "         ...,\n",
              "         [133., 128., 129.],\n",
              "         [132., 127., 128.],\n",
              "         [132., 127., 128.]]],\n",
              "\n",
              "\n",
              "       [[[160., 171., 169.],\n",
              "         [160., 171., 169.],\n",
              "         [160., 171., 169.],\n",
              "         ...,\n",
              "         [171., 164., 161.],\n",
              "         [170., 163., 160.],\n",
              "         [170., 163., 160.]],\n",
              "\n",
              "        [[161., 171., 169.],\n",
              "         [161., 171., 169.],\n",
              "         [161., 171., 169.],\n",
              "         ...,\n",
              "         [171., 164., 162.],\n",
              "         [170., 163., 161.],\n",
              "         [170., 163., 161.]],\n",
              "\n",
              "        [[162., 170., 170.],\n",
              "         [163., 170., 170.],\n",
              "         [163., 170., 170.],\n",
              "         ...,\n",
              "         [172., 164., 163.],\n",
              "         [171., 164., 163.],\n",
              "         [171., 164., 162.]],\n",
              "\n",
              "        ...,\n",
              "\n",
              "        [[126., 134., 138.],\n",
              "         [128., 135., 140.],\n",
              "         [131., 138., 142.],\n",
              "         ...,\n",
              "         [140., 139., 141.],\n",
              "         [140., 139., 141.],\n",
              "         [140., 139., 141.]],\n",
              "\n",
              "        [[127., 133., 138.],\n",
              "         [128., 134., 139.],\n",
              "         [132., 137., 142.],\n",
              "         ...,\n",
              "         [141., 137., 141.],\n",
              "         [141., 137., 141.],\n",
              "         [141., 137., 141.]],\n",
              "\n",
              "        [[127., 133., 138.],\n",
              "         [128., 134., 139.],\n",
              "         [132., 137., 142.],\n",
              "         ...,\n",
              "         [141., 137., 142.],\n",
              "         [141., 137., 142.],\n",
              "         [141., 137., 142.]]]])"
            ]
          },
          "metadata": {},
          "execution_count": 22
        }
      ]
    },
    {
      "cell_type": "code",
      "source": [
        "from sklearn.metrics import confusion_matrix\n",
        "import seaborn as sns\n",
        "# Menampilkan Confusion Matrix\n",
        "numer_type = [\"0\", \"1\", \"2\", \"3\", \"4\", \"5\", \"6\", \"7\", \"8\", \"9\"]\n",
        "Y_pred = model.predict(test_images)\n",
        "\n",
        "Y_pred = np.argmax(Y_pred, axis=1)\n",
        "Y_true = test_labels\n",
        "\n",
        "fig, ax = plt.subplots(figsize=(7,7))\n",
        "cm = confusion_matrix(Y_true, Y_pred)\n",
        "#plt.figure(figsize=(12, 12))\n",
        "ax = sns.heatmap(cm, cmap=plt.cm.Blues, annot=True, \n",
        "                 square=True, xticklabels=numer_type, \n",
        "                 yticklabels=numer_type, ax=ax)\n",
        "ax.set_ylabel('Actual', fontsize=15)\n",
        "ax.set_xlabel('Predicted', fontsize=15)\n",
        "ax.set_title('Confusion Matrix', fontsize=20, pad=20)"
      ],
      "metadata": {
        "colab": {
          "base_uri": "https://localhost:8080/",
          "height": 625
        },
        "id": "7REIBGWIIvDo",
        "outputId": "f6031c8e-7f26-4d30-9dbd-ac313abd23ec"
      },
      "execution_count": 26,
      "outputs": [
        {
          "output_type": "stream",
          "name": "stdout",
          "text": [
            "17/17 [==============================] - 2s 95ms/step\n"
          ]
        },
        {
          "output_type": "execute_result",
          "data": {
            "text/plain": [
              "Text(0.5, 1.0, 'Confusion Matrix')"
            ]
          },
          "metadata": {},
          "execution_count": 26
        },
        {
          "output_type": "display_data",
          "data": {
            "text/plain": [
              "<Figure size 700x700 with 2 Axes>"
            ],
            "image/png": "[encoded data removed]"
          },
          "metadata": {}
        }
      ]
    }
  ],
  "metadata": {
    "accelerator": "GPU",
    "colab": {
      "provenance": [],
      "mount_file_id": "1obi7UmxgSC3TG1yUEw3QF0ozCzjdZnsJ",
      "authorship_tag": "ABX9TyMHGfYiCFqP62JcBSuTFcy6",
      "include_colab_link": true
    },
    "gpuClass": "standard",
    "kernelspec": {
      "display_name": "Python 3",
      "name": "python3"
    },
    "language_info": {
      "name": "python"
    }
  },
  "nbformat": 4,
  "nbformat_minor": 0
}