{
  "nbformat": 4,
  "nbformat_minor": 0,
  "metadata": {
    "colab": {
      "name": "02-Multilayer Perceptron.ipynb",
      "provenance": [],
      "authorship_tag": "ABX9TyPLJwdU+cnshTpwVKdydS73",
      "include_colab_link": true
    },
    "kernelspec": {
      "name": "python3",
      "display_name": "Python 3"
    },
    "language_info": {
      "name": "python"
    }
  },
  "cells": [
    {
      "cell_type": "markdown",
      "metadata": {
        "id": "view-in-github",
        "colab_type": "text"
      },
      "source": [
        "<a href=\"https://colab.research.google.com/github/amilsiddik/Deep-Learning/blob/main/02_Multilayer_Perceptron.ipynb\" target=\"_parent\"><img src=\"https://colab.research.google.com/assets/colab-badge.svg\" alt=\"Open In Colab\"/></a>"
      ]
    },
    {
      "cell_type": "markdown",
      "metadata": {
        "id": "74JgGPzR_Z9T"
      },
      "source": [
        ">Pada Part 1 kita sudah mengenal apa itu neural network, activation function dan sudah mencoba implementasi forward propagation untuk melakukan regresi terhadap fungsi linear f(x) = 3x + 2\n",
        "\n",
        ">Fungsi linear diatas adalah fungsi yang sangat simple sehingga dengan menggunakan 2 layer (Input dan Output) saja kita sudah bisa menyelesaikan permasalahan tersebut. Lalu bagaimana dengan fungsi non-linear? Tentu saja kita tidak bisa menggunakan arsitektur 2 layer tersebut.\n",
        "\n",
        ">Sehingga untuk non-linear regression kita membutuhkan setidaknya 3 layer neural network atau yang biasa disebut Multilayer Perceptron (MLP) atau Fully-Connected Layer dengan menggunakan non-linear activation function pada seluruh neuron di hidden layer."
      ]
    },
    {
      "cell_type": "markdown",
      "metadata": {
        "id": "hFZIBJQX_j3x"
      },
      "source": [
        "Kita akan mencoba melakukan forward pass pada MLP masih dengan Numpy saja. Untuk contoh kasusnya adalah kita akan melakukan regresi untuk data yang sebenarnya adalah sebuah fungsi non-linear sebagai berikut:\n",
        "> f(x)=\\sqrt(2x^2 +1)"
      ]
    },
    {
      "cell_type": "markdown",
      "metadata": {
        "id": "UtU3LDPhAe-I"
      },
      "source": [
        "Sedangkan arsitektur neural networknya terdiri dari :\n",
        "> 1 node pada input layer\n",
        "\n",
        "> 8 node pada hidden layer pertama (ReLU)\n",
        "\n",
        "> 1 node pada output layer (Linear)"
      ]
    },
    {
      "cell_type": "markdown",
      "metadata": {
        "id": "aRyUunW5AlHp"
      },
      "source": [
        "**Forward Propagation**"
      ]
    },
    {
      "cell_type": "code",
      "metadata": {
        "id": "evycMtX6_IPD"
      },
      "source": [
        "def forwardPass(inputs, weight, bias, activation = 'linear'):\n",
        "\tw_sum = np.dot(inputs, weight) + bias\n",
        "\n",
        "\tif activation is 'relu' :\n",
        "\t\t# ReLU Activation f(x) = max(0, x)\n",
        "\t\tact = np.maximum(w_sum, 0)\n",
        "\telse :\n",
        "\t\t# Linear Activation f(x) = x\n",
        "\t\tact = w_sum\n",
        "\n",
        "\treturn act"
      ],
      "execution_count": 1,
      "outputs": []
    },
    {
      "cell_type": "code",
      "metadata": {
        "colab": {
          "base_uri": "https://localhost:8080/"
        },
        "id": "DuEkXQTCA2r5",
        "outputId": "c6546836-7e6d-49f6-9d27-d330131e2556"
      },
      "source": [
        "import numpy as np\n",
        "\n",
        "def forwardPass(inputs, weight, bias, activation = 'linear'):\n",
        "\tw_sum = np.dot(inputs, weight) + bias\n",
        "\n",
        "\tif activation is 'relu' :\n",
        "\t\t# ReLU Activation f(x) = max(0, x)\n",
        "\t\tact = np.maximum(w_sum, 0)\n",
        "\telse :\n",
        "\t\t# Linear Activation f(x) = x\n",
        "\t\tact = w_sum\n",
        "\n",
        "\treturn act\n",
        "\n",
        "# Pre-Trained Weights & Biases after Training\n",
        "W_H = np.array([[0.00192761, -0.78845304, 0.30310717, 0.44131625, 0.32792646, -0.02451803, 1.43445349, -1.12972116]])\n",
        "b_H = np.array([-0.02657719, -1.15885878, -0.79183501, -0.33550513, -0.23438406, -0.25078532, 0.22305705, 0.80253315])\n",
        "\n",
        "W_o = np.array([[-0.77540326], [ 0.5030424 ], [ 0.37374797], [-0.20287184], [-0.35956827], [-0.54576212], [ 1.04326093], [ 0.8857621 ]])\n",
        "b_o = np.array([ 0.04351173])\n",
        "\n",
        "# Initialize Input Data\n",
        "inputs = np.array([[-2], [0], [2]])\n",
        "\n",
        "#Output of Hidden Layer\n",
        "h_out = forwardPass(inputs, W_H, b_H, 'relu')\n",
        "\n",
        "print('Hidden Layer Output (ReLU)')\n",
        "print('================================')\n",
        "print(h_out, \"\\n\")\n",
        "\n",
        "# Output of Output Layer\n",
        "o_out = forwardPass(h_out, W_o, b_o, 'linear')\n",
        "\n",
        "print('Output Layer Output (Linear)')\n",
        "print('================================')\n",
        "print(o_out, \"\\n\")\n"
      ],
      "execution_count": 2,
      "outputs": [
        {
          "output_type": "stream",
          "name": "stdout",
          "text": [
            "Hidden Layer Output (ReLU)\n",
            "================================\n",
            "[[0.         0.4180473  0.         0.         0.         0.\n",
            "  0.         3.06197547]\n",
            " [0.         0.         0.         0.         0.         0.\n",
            "  0.22305705 0.80253315]\n",
            " [0.         0.         0.         0.54712737 0.42146886 0.\n",
            "  3.09196403 0.        ]] \n",
            "\n",
            "Output Layer Output (Linear)\n",
            "================================\n",
            "[[2.96598907]\n",
            " [0.98707188]\n",
            " [3.00669343]] \n",
            "\n"
          ]
        }
      ]
    },
    {
      "cell_type": "markdown",
      "metadata": {
        "id": "yz_8X3swCAFD"
      },
      "source": [
        "Pada percobaan non-linear regression kali ini kita akan melakukan perdiksi nilai dari -2, 0 dan 2. Output yang dihasilkan seharusnya adalah 3, 1, 3 dan hasil prediksi adalah 2.96598907, 0.98707188 dan 3.00669343. Masih ada sedikit error tapi paling tidak hasil diatas menunjukkan bahwa MLP dapat melakukan regresi terhadap fungsi non-linear dengan cukup baik."
      ]
    }
  ]
}