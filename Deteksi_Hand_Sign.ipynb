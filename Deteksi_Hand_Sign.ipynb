{
  "cells": [
    {
      "cell_type": "markdown",
      "metadata": {
        "id": "view-in-github",
        "colab_type": "text"
      },
      "source": [
        "<a href=\"https://colab.research.google.com/github/amilsiddik/Deep-Learning/blob/main/Deteksi_Hand_Sign.ipynb\" target=\"_parent\"><img src=\"https://colab.research.google.com/assets/colab-badge.svg\" alt=\"Open In Colab\"/></a>"
      ]
    },
    {
      "cell_type": "code",
      "execution_count": 1,
      "metadata": {
        "id": "O9LHzlkEaWRC"
      },
      "outputs": [],
      "source": [
        "import pandas as pd\n",
        "import numpy as np\n",
        "import tensorflow as tf\n",
        "import os\n",
        "import cv2 as cv\n",
        "from tensorflow import keras\n",
        "from sklearn.model_selection import train_test_split\n",
        "from sklearn import preprocessing\n",
        "import matplotlib.pyplot as plt"
      ]
    },
    {
      "cell_type": "code",
      "execution_count": 2,
      "metadata": {
        "colab": {
          "base_uri": "https://localhost:8080/"
        },
        "id": "s9Pm1pJqahex",
        "outputId": "4252a990-c1a4-41ca-a2d7-bea6027a7150"
      },
      "outputs": [
        {
          "output_type": "stream",
          "name": "stdout",
          "text": [
            "Drive already mounted at /content/drive; to attempt to forcibly remount, call drive.mount(\"/content/drive\", force_remount=True).\n"
          ]
        }
      ],
      "source": [
        "from google.colab import drive\n",
        "drive.mount('/content/drive')"
      ]
    },
    {
      "cell_type": "code",
      "execution_count": 3,
      "metadata": {
        "id": "JKAKLwf_asR4"
      },
      "outputs": [],
      "source": [
        "path = \"/content/drive/MyDrive/Penelitian/Deteksi hand sign/Dataset\"\n",
        "key_value= dict()\n",
        "for i in os.listdir(path):\n",
        "    key_value[i] = os.listdir(path+'/'+i)"
      ]
    },
    {
      "cell_type": "code",
      "execution_count": 4,
      "metadata": {
        "colab": {
          "base_uri": "https://localhost:8080/",
          "height": 424
        },
        "id": "aVUmD6DCa3OH",
        "outputId": "450c5a9c-e52f-4b56-a5b8-791422c3fc3e"
      },
      "outputs": [
        {
          "output_type": "execute_result",
          "data": {
            "text/plain": [
              "     label                                               path\n",
              "0        6  /content/drive/MyDrive/Penelitian/Deteksi hand...\n",
              "1        6  /content/drive/MyDrive/Penelitian/Deteksi hand...\n",
              "2        6  /content/drive/MyDrive/Penelitian/Deteksi hand...\n",
              "3        6  /content/drive/MyDrive/Penelitian/Deteksi hand...\n",
              "4        6  /content/drive/MyDrive/Penelitian/Deteksi hand...\n",
              "...    ...                                                ...\n",
              "2057     7  /content/drive/MyDrive/Penelitian/Deteksi hand...\n",
              "2058     7  /content/drive/MyDrive/Penelitian/Deteksi hand...\n",
              "2059     7  /content/drive/MyDrive/Penelitian/Deteksi hand...\n",
              "2060     7  /content/drive/MyDrive/Penelitian/Deteksi hand...\n",
              "2061     7  /content/drive/MyDrive/Penelitian/Deteksi hand...\n",
              "\n",
              "[2062 rows x 2 columns]"
            ],
            "text/html": [
              "\n",
              "  <div id=\"df-6834ca6f-5f8d-4a94-93f6-74eebf2e740f\">\n",
              "    <div class=\"colab-df-container\">\n",
              "      <div>\n",
              "<style scoped>\n",
              "    .dataframe tbody tr th:only-of-type {\n",
              "        vertical-align: middle;\n",
              "    }\n",
              "\n",
              "    .dataframe tbody tr th {\n",
              "        vertical-align: top;\n",
              "    }\n",
              "\n",
              "    .dataframe thead th {\n",
              "        text-align: right;\n",
              "    }\n",
              "</style>\n",
              "<table border=\"1\" class=\"dataframe\">\n",
              "  <thead>\n",
              "    <tr style=\"text-align: right;\">\n",
              "      <th></th>\n",
              "      <th>label</th>\n",
              "      <th>path</th>\n",
              "    </tr>\n",
              "  </thead>\n",
              "  <tbody>\n",
              "    <tr>\n",
              "      <th>0</th>\n",
              "      <td>6</td>\n",
              "      <td>/content/drive/MyDrive/Penelitian/Deteksi hand...</td>\n",
              "    </tr>\n",
              "    <tr>\n",
              "      <th>1</th>\n",
              "      <td>6</td>\n",
              "      <td>/content/drive/MyDrive/Penelitian/Deteksi hand...</td>\n",
              "    </tr>\n",
              "    <tr>\n",
              "      <th>2</th>\n",
              "      <td>6</td>\n",
              "      <td>/content/drive/MyDrive/Penelitian/Deteksi hand...</td>\n",
              "    </tr>\n",
              "    <tr>\n",
              "      <th>3</th>\n",
              "      <td>6</td>\n",
              "      <td>/content/drive/MyDrive/Penelitian/Deteksi hand...</td>\n",
              "    </tr>\n",
              "    <tr>\n",
              "      <th>4</th>\n",
              "      <td>6</td>\n",
              "      <td>/content/drive/MyDrive/Penelitian/Deteksi hand...</td>\n",
              "    </tr>\n",
              "    <tr>\n",
              "      <th>...</th>\n",
              "      <td>...</td>\n",
              "      <td>...</td>\n",
              "    </tr>\n",
              "    <tr>\n",
              "      <th>2057</th>\n",
              "      <td>7</td>\n",
              "      <td>/content/drive/MyDrive/Penelitian/Deteksi hand...</td>\n",
              "    </tr>\n",
              "    <tr>\n",
              "      <th>2058</th>\n",
              "      <td>7</td>\n",
              "      <td>/content/drive/MyDrive/Penelitian/Deteksi hand...</td>\n",
              "    </tr>\n",
              "    <tr>\n",
              "      <th>2059</th>\n",
              "      <td>7</td>\n",
              "      <td>/content/drive/MyDrive/Penelitian/Deteksi hand...</td>\n",
              "    </tr>\n",
              "    <tr>\n",
              "      <th>2060</th>\n",
              "      <td>7</td>\n",
              "      <td>/content/drive/MyDrive/Penelitian/Deteksi hand...</td>\n",
              "    </tr>\n",
              "    <tr>\n",
              "      <th>2061</th>\n",
              "      <td>7</td>\n",
              "      <td>/content/drive/MyDrive/Penelitian/Deteksi hand...</td>\n",
              "    </tr>\n",
              "  </tbody>\n",
              "</table>\n",
              "<p>2062 rows × 2 columns</p>\n",
              "</div>\n",
              "      <button class=\"colab-df-convert\" onclick=\"convertToInteractive('df-6834ca6f-5f8d-4a94-93f6-74eebf2e740f')\"\n",
              "              title=\"Convert this dataframe to an interactive table.\"\n",
              "              style=\"display:none;\">\n",
              "        \n",
              "  <svg xmlns=\"http://www.w3.org/2000/svg\" height=\"24px\"viewBox=\"0 0 24 24\"\n",
              "       width=\"24px\">\n",
              "    <path d=\"M0 0h24v24H0V0z\" fill=\"none\"/>\n",
              "    <path d=\"M18.56 5.44l.94 2.06.94-2.06 2.06-.94-2.06-.94-.94-2.06-.94 2.06-2.06.94zm-11 1L8.5 8.5l.94-2.06 2.06-.94-2.06-.94L8.5 2.5l-.94 2.06-2.06.94zm10 10l.94 2.06.94-2.06 2.06-.94-2.06-.94-.94-2.06-.94 2.06-2.06.94z\"/><path d=\"M17.41 7.96l-1.37-1.37c-.4-.4-.92-.59-1.43-.59-.52 0-1.04.2-1.43.59L10.3 9.45l-7.72 7.72c-.78.78-.78 2.05 0 2.83L4 21.41c.39.39.9.59 1.41.59.51 0 1.02-.2 1.41-.59l7.78-7.78 2.81-2.81c.8-.78.8-2.07 0-2.86zM5.41 20L4 18.59l7.72-7.72 1.47 1.35L5.41 20z\"/>\n",
              "  </svg>\n",
              "      </button>\n",
              "      \n",
              "  <style>\n",
              "    .colab-df-container {\n",
              "      display:flex;\n",
              "      flex-wrap:wrap;\n",
              "      gap: 12px;\n",
              "    }\n",
              "\n",
              "    .colab-df-convert {\n",
              "      background-color: #E8F0FE;\n",
              "      border: none;\n",
              "      border-radius: 50%;\n",
              "      cursor: pointer;\n",
              "      display: none;\n",
              "      fill: #1967D2;\n",
              "      height: 32px;\n",
              "      padding: 0 0 0 0;\n",
              "      width: 32px;\n",
              "    }\n",
              "\n",
              "    .colab-df-convert:hover {\n",
              "      background-color: #E2EBFA;\n",
              "      box-shadow: 0px 1px 2px rgba(60, 64, 67, 0.3), 0px 1px 3px 1px rgba(60, 64, 67, 0.15);\n",
              "      fill: #174EA6;\n",
              "    }\n",
              "\n",
              "    [theme=dark] .colab-df-convert {\n",
              "      background-color: #3B4455;\n",
              "      fill: #D2E3FC;\n",
              "    }\n",
              "\n",
              "    [theme=dark] .colab-df-convert:hover {\n",
              "      background-color: #434B5C;\n",
              "      box-shadow: 0px 1px 3px 1px rgba(0, 0, 0, 0.15);\n",
              "      filter: drop-shadow(0px 1px 2px rgba(0, 0, 0, 0.3));\n",
              "      fill: #FFFFFF;\n",
              "    }\n",
              "  </style>\n",
              "\n",
              "      <script>\n",
              "        const buttonEl =\n",
              "          document.querySelector('#df-6834ca6f-5f8d-4a94-93f6-74eebf2e740f button.colab-df-convert');\n",
              "        buttonEl.style.display =\n",
              "          google.colab.kernel.accessAllowed ? 'block' : 'none';\n",
              "\n",
              "        async function convertToInteractive(key) {\n",
              "          const element = document.querySelector('#df-6834ca6f-5f8d-4a94-93f6-74eebf2e740f');\n",
              "          const dataTable =\n",
              "            await google.colab.kernel.invokeFunction('convertToInteractive',\n",
              "                                                     [key], {});\n",
              "          if (!dataTable) return;\n",
              "\n",
              "          const docLinkHtml = 'Like what you see? Visit the ' +\n",
              "            '<a target=\"_blank\" href=https://colab.research.google.com/notebooks/data_table.ipynb>data table notebook</a>'\n",
              "            + ' to learn more about interactive tables.';\n",
              "          element.innerHTML = '';\n",
              "          dataTable['output_type'] = 'display_data';\n",
              "          await google.colab.output.renderOutput(dataTable, element);\n",
              "          const docLink = document.createElement('div');\n",
              "          docLink.innerHTML = docLinkHtml;\n",
              "          element.appendChild(docLink);\n",
              "        }\n",
              "      </script>\n",
              "    </div>\n",
              "  </div>\n",
              "  "
            ]
          },
          "metadata": {},
          "execution_count": 4
        }
      ],
      "source": [
        "df = []\n",
        "for key in key_value.keys():\n",
        "    for j in key_value[key]:\n",
        "        df.append([key,path+'/'+key+'/'+j])\n",
        "df1 = pd.DataFrame(df,columns=('label','path'))\n",
        "df1"
      ]
    },
    {
      "cell_type": "code",
      "execution_count": 5,
      "metadata": {
        "id": "nsQiZhhwa5iR"
      },
      "outputs": [],
      "source": [
        "def readimg(path):\n",
        "    img= cv.imread(path)\n",
        "    img = cv.resize(img,(224,224))\n",
        "    return img"
      ]
    },
    {
      "cell_type": "code",
      "execution_count": 6,
      "metadata": {
        "id": "q_XPQTjia7zJ"
      },
      "outputs": [],
      "source": [
        "import multiprocessing\n",
        "\n",
        "# Create a Pool with 4 worker processes\n",
        "with multiprocessing.Pool(4) as p:\n",
        "    # Read in all of the images in parallel\n",
        "    images = p.map(readimg, df1['path'])"
      ]
    },
    {
      "cell_type": "code",
      "execution_count": 7,
      "metadata": {
        "id": "7GpgNP2la-DM"
      },
      "outputs": [],
      "source": [
        "images=np.array(images, dtype='float')\n",
        "# label encoder from sklearn\n",
        "le = preprocessing.LabelEncoder()\n",
        "y_labels = le.fit_transform(df1['label'])"
      ]
    },
    {
      "cell_type": "code",
      "execution_count": 8,
      "metadata": {
        "id": "tgG7wEahbrIY"
      },
      "outputs": [],
      "source": [
        "# to split the data into training and testing data\n",
        "train_images,test_images,train_labels,test_labels = train_test_split(images,y_labels,test_size=0.25, random_state=42)"
      ]
    },
    {
      "cell_type": "code",
      "execution_count": 9,
      "metadata": {
        "id": "JASJ76AkbtWU",
        "colab": {
          "base_uri": "https://localhost:8080/"
        },
        "outputId": "1953de80-6fba-4c7d-9250-91b49c65de0e"
      },
      "outputs": [
        {
          "output_type": "stream",
          "name": "stdout",
          "text": [
            "Downloading data from https://storage.googleapis.com/tensorflow/keras-applications/resnet/resnet50_weights_tf_dim_ordering_tf_kernels_notop.h5\n",
            "94765736/94765736 [==============================] - 3s 0us/step\n"
          ]
        }
      ],
      "source": [
        "## implementing trensfer learning\n",
        "base_model = keras.applications.ResNet50(weights='imagenet', include_top=False)\n",
        "\n",
        "# freezing the base model so we donot have to train it again\n",
        "base_model.trainable = False\n",
        "\n",
        "\n",
        "model = keras.Sequential([\n",
        "  base_model,\n",
        "  keras.layers.GlobalAveragePooling2D(),\n",
        "  keras.layers.Dense(1024, activation='relu'),\n",
        "  keras.layers.Dense(10, activation='softmax')\n",
        "])\n",
        "model.compile(optimizer='adam', loss='SparseCategoricalCrossentropy', metrics=['accuracy'])"
      ]
    },
    {
      "cell_type": "code",
      "execution_count": 10,
      "metadata": {
        "colab": {
          "base_uri": "https://localhost:8080/"
        },
        "id": "wh52lAuSb5t8",
        "outputId": "482c39af-f135-4233-9971-c0aec9c4c46b"
      },
      "outputs": [
        {
          "output_type": "stream",
          "name": "stdout",
          "text": [
            "Epoch 1/50\n",
            "49/49 [==============================] - 22s 190ms/step - loss: 1.4549 - accuracy: 0.6281 - val_loss: 0.4685 - val_accuracy: 0.8585\n",
            "Epoch 2/50\n",
            "49/49 [==============================] - 7s 146ms/step - loss: 0.3794 - accuracy: 0.8777 - val_loss: 0.3725 - val_accuracy: 0.8702\n",
            "Epoch 3/50\n",
            "49/49 [==============================] - 7s 145ms/step - loss: 0.2334 - accuracy: 0.9321 - val_loss: 0.2922 - val_accuracy: 0.9031\n",
            "Epoch 4/50\n",
            "49/49 [==============================] - 6s 122ms/step - loss: 0.2190 - accuracy: 0.9366 - val_loss: 0.2639 - val_accuracy: 0.9089\n",
            "Epoch 5/50\n",
            "49/49 [==============================] - 7s 146ms/step - loss: 0.1712 - accuracy: 0.9457 - val_loss: 0.2869 - val_accuracy: 0.9031\n",
            "Epoch 6/50\n",
            "49/49 [==============================] - 7s 146ms/step - loss: 0.1158 - accuracy: 0.9651 - val_loss: 0.2199 - val_accuracy: 0.9264\n",
            "Epoch 7/50\n",
            "49/49 [==============================] - 7s 148ms/step - loss: 0.0801 - accuracy: 0.9851 - val_loss: 0.2199 - val_accuracy: 0.9283\n",
            "Epoch 8/50\n",
            "49/49 [==============================] - 6s 124ms/step - loss: 0.0682 - accuracy: 0.9838 - val_loss: 0.1819 - val_accuracy: 0.9399\n",
            "Epoch 9/50\n",
            "49/49 [==============================] - 7s 148ms/step - loss: 0.0453 - accuracy: 0.9929 - val_loss: 0.2090 - val_accuracy: 0.9244\n",
            "Epoch 10/50\n",
            "49/49 [==============================] - 7s 147ms/step - loss: 0.0488 - accuracy: 0.9909 - val_loss: 0.2039 - val_accuracy: 0.9283\n",
            "Epoch 11/50\n",
            "49/49 [==============================] - 7s 150ms/step - loss: 0.0389 - accuracy: 0.9955 - val_loss: 0.2296 - val_accuracy: 0.9186\n",
            "Epoch 12/50\n",
            "49/49 [==============================] - 6s 126ms/step - loss: 0.0285 - accuracy: 0.9968 - val_loss: 0.1976 - val_accuracy: 0.9322\n",
            "Epoch 13/50\n",
            "49/49 [==============================] - 6s 130ms/step - loss: 0.0435 - accuracy: 0.9877 - val_loss: 0.2541 - val_accuracy: 0.9109\n",
            "Epoch 14/50\n",
            "49/49 [==============================] - 7s 149ms/step - loss: 0.0307 - accuracy: 0.9922 - val_loss: 0.1989 - val_accuracy: 0.9283\n",
            "Epoch 15/50\n",
            "49/49 [==============================] - 6s 131ms/step - loss: 0.0294 - accuracy: 0.9948 - val_loss: 0.1977 - val_accuracy: 0.9322\n",
            "Epoch 16/50\n",
            "49/49 [==============================] - 6s 128ms/step - loss: 0.0134 - accuracy: 0.9994 - val_loss: 0.2357 - val_accuracy: 0.9283\n",
            "Epoch 17/50\n",
            "49/49 [==============================] - 6s 130ms/step - loss: 0.0106 - accuracy: 0.9994 - val_loss: 0.1743 - val_accuracy: 0.9360\n",
            "Epoch 18/50\n",
            "49/49 [==============================] - 6s 130ms/step - loss: 0.0073 - accuracy: 0.9994 - val_loss: 0.1644 - val_accuracy: 0.9399\n",
            "Epoch 19/50\n",
            "49/49 [==============================] - 6s 130ms/step - loss: 0.0079 - accuracy: 1.0000 - val_loss: 0.1888 - val_accuracy: 0.9380\n",
            "Epoch 20/50\n",
            "49/49 [==============================] - 6s 132ms/step - loss: 0.0056 - accuracy: 1.0000 - val_loss: 0.1702 - val_accuracy: 0.9380\n",
            "Epoch 21/50\n",
            "49/49 [==============================] - 7s 151ms/step - loss: 0.0050 - accuracy: 1.0000 - val_loss: 0.1718 - val_accuracy: 0.9341\n",
            "Epoch 22/50\n",
            "49/49 [==============================] - 6s 132ms/step - loss: 0.0044 - accuracy: 1.0000 - val_loss: 0.1679 - val_accuracy: 0.9380\n",
            "Epoch 23/50\n",
            "49/49 [==============================] - 7s 152ms/step - loss: 0.0039 - accuracy: 1.0000 - val_loss: 0.1687 - val_accuracy: 0.9399\n",
            "Epoch 24/50\n",
            "49/49 [==============================] - 6s 132ms/step - loss: 0.0035 - accuracy: 1.0000 - val_loss: 0.1660 - val_accuracy: 0.9380\n",
            "Epoch 25/50\n",
            "49/49 [==============================] - 7s 153ms/step - loss: 0.0034 - accuracy: 1.0000 - val_loss: 0.1684 - val_accuracy: 0.9380\n",
            "Epoch 26/50\n",
            "49/49 [==============================] - 7s 152ms/step - loss: 0.0030 - accuracy: 1.0000 - val_loss: 0.1732 - val_accuracy: 0.9380\n",
            "Epoch 27/50\n",
            "49/49 [==============================] - 7s 135ms/step - loss: 0.0029 - accuracy: 1.0000 - val_loss: 0.1657 - val_accuracy: 0.9399\n",
            "Epoch 28/50\n",
            "49/49 [==============================] - 7s 152ms/step - loss: 0.0027 - accuracy: 1.0000 - val_loss: 0.1707 - val_accuracy: 0.9380\n",
            "Epoch 29/50\n",
            "49/49 [==============================] - 6s 133ms/step - loss: 0.0026 - accuracy: 1.0000 - val_loss: 0.1704 - val_accuracy: 0.9419\n",
            "Epoch 30/50\n",
            "49/49 [==============================] - 6s 130ms/step - loss: 0.0024 - accuracy: 1.0000 - val_loss: 0.1741 - val_accuracy: 0.9380\n",
            "Epoch 31/50\n",
            "49/49 [==============================] - 7s 152ms/step - loss: 0.0021 - accuracy: 1.0000 - val_loss: 0.1749 - val_accuracy: 0.9380\n",
            "Epoch 32/50\n",
            "49/49 [==============================] - 7s 151ms/step - loss: 0.0021 - accuracy: 1.0000 - val_loss: 0.1763 - val_accuracy: 0.9399\n",
            "Epoch 33/50\n",
            "49/49 [==============================] - 8s 155ms/step - loss: 0.0019 - accuracy: 1.0000 - val_loss: 0.1766 - val_accuracy: 0.9399\n",
            "Epoch 34/50\n",
            "49/49 [==============================] - 6s 130ms/step - loss: 0.0018 - accuracy: 1.0000 - val_loss: 0.1811 - val_accuracy: 0.9360\n",
            "Epoch 35/50\n",
            "49/49 [==============================] - 8s 155ms/step - loss: 0.0018 - accuracy: 1.0000 - val_loss: 0.1713 - val_accuracy: 0.9399\n",
            "Epoch 36/50\n",
            "49/49 [==============================] - 6s 131ms/step - loss: 0.0016 - accuracy: 1.0000 - val_loss: 0.1806 - val_accuracy: 0.9380\n",
            "Epoch 37/50\n",
            "49/49 [==============================] - 7s 154ms/step - loss: 0.0014 - accuracy: 1.0000 - val_loss: 0.1720 - val_accuracy: 0.9380\n",
            "Epoch 38/50\n",
            "49/49 [==============================] - 7s 152ms/step - loss: 0.0014 - accuracy: 1.0000 - val_loss: 0.1691 - val_accuracy: 0.9380\n",
            "Epoch 39/50\n",
            "49/49 [==============================] - 8s 155ms/step - loss: 0.0013 - accuracy: 1.0000 - val_loss: 0.1744 - val_accuracy: 0.9419\n",
            "Epoch 40/50\n",
            "49/49 [==============================] - 7s 152ms/step - loss: 0.0013 - accuracy: 1.0000 - val_loss: 0.1751 - val_accuracy: 0.9360\n",
            "Epoch 41/50\n",
            "49/49 [==============================] - 6s 133ms/step - loss: 0.0011 - accuracy: 1.0000 - val_loss: 0.1774 - val_accuracy: 0.9419\n",
            "Epoch 42/50\n",
            "49/49 [==============================] - 7s 152ms/step - loss: 0.0011 - accuracy: 1.0000 - val_loss: 0.1684 - val_accuracy: 0.9380\n",
            "Epoch 43/50\n",
            "49/49 [==============================] - 7s 154ms/step - loss: 0.0010 - accuracy: 1.0000 - val_loss: 0.1724 - val_accuracy: 0.9419\n",
            "Epoch 44/50\n",
            "49/49 [==============================] - 6s 132ms/step - loss: 0.0010 - accuracy: 1.0000 - val_loss: 0.1806 - val_accuracy: 0.9360\n",
            "Epoch 45/50\n",
            "49/49 [==============================] - 6s 132ms/step - loss: 9.5060e-04 - accuracy: 1.0000 - val_loss: 0.1698 - val_accuracy: 0.9419\n",
            "Epoch 46/50\n",
            "49/49 [==============================] - 6s 131ms/step - loss: 9.4808e-04 - accuracy: 1.0000 - val_loss: 0.1750 - val_accuracy: 0.9399\n",
            "Epoch 47/50\n",
            "49/49 [==============================] - 7s 154ms/step - loss: 9.2319e-04 - accuracy: 1.0000 - val_loss: 0.1718 - val_accuracy: 0.9399\n",
            "Epoch 48/50\n",
            "49/49 [==============================] - 6s 131ms/step - loss: 8.1054e-04 - accuracy: 1.0000 - val_loss: 0.1747 - val_accuracy: 0.9419\n",
            "Epoch 49/50\n",
            "49/49 [==============================] - 6s 133ms/step - loss: 7.5725e-04 - accuracy: 1.0000 - val_loss: 0.1725 - val_accuracy: 0.9438\n",
            "Epoch 50/50\n",
            "49/49 [==============================] - 6s 131ms/step - loss: 7.4085e-04 - accuracy: 1.0000 - val_loss: 0.1770 - val_accuracy: 0.9438\n"
          ]
        }
      ],
      "source": [
        "history = model.fit(train_images,train_labels, epochs=50, batch_size=32,validation_data=(test_images, test_labels))"
      ]
    },
    {
      "cell_type": "code",
      "execution_count": 11,
      "metadata": {
        "colab": {
          "base_uri": "https://localhost:8080/"
        },
        "id": "kkN3XRxRcLTR",
        "outputId": "9ca19092-0396-4709-9435-8f1e7aa0976c"
      },
      "outputs": [
        {
          "output_type": "stream",
          "name": "stdout",
          "text": [
            "17/17 [==============================] - 2s 95ms/step\n",
            "Accuracy: 0.9437984496124031\n"
          ]
        }
      ],
      "source": [
        "from sklearn.metrics import accuracy_score\n",
        "\n",
        "# Make predictions on the test data\n",
        "predictions = model.predict(test_images)\n",
        "\n",
        "# Convert the predictions to the class labels\n",
        "predicted_labels = np.argmax(predictions, axis=1)\n",
        "\n",
        "# Compute the accuracy score\n",
        "accuracy = accuracy_score(test_labels, predicted_labels)\n",
        "\n",
        "print('Accuracy:', accuracy)"
      ]
    },
    {
      "cell_type": "code",
      "execution_count": 12,
      "metadata": {
        "colab": {
          "base_uri": "https://localhost:8080/"
        },
        "id": "c_vdgbdHcM9x",
        "outputId": "0b04abc5-ab6a-4998-c058-ed607f299fba"
      },
      "outputs": [
        {
          "output_type": "stream",
          "name": "stdout",
          "text": [
            "Precision: 94.37984496124031\n"
          ]
        }
      ],
      "source": [
        "from sklearn.metrics import precision_score\n",
        "\n",
        "precision = precision_score(test_labels, predicted_labels, average='micro')\n",
        "\n",
        "print('Precision:', precision*100)"
      ]
    },
    {
      "cell_type": "code",
      "execution_count": 13,
      "metadata": {
        "colab": {
          "base_uri": "https://localhost:8080/"
        },
        "id": "uzfAO9F_hXb5",
        "outputId": "34c9c984-c70a-49eb-ca53-550ad0175bca"
      },
      "outputs": [
        {
          "output_type": "stream",
          "name": "stderr",
          "text": [
            "WARNING:absl:Found untraced functions such as _jit_compiled_convolution_op, _jit_compiled_convolution_op, _jit_compiled_convolution_op, _jit_compiled_convolution_op, _jit_compiled_convolution_op while saving (showing 5 of 53). These functions will not be directly callable after loading.\n"
          ]
        }
      ],
      "source": [
        "converter = tf.lite.TFLiteConverter.from_keras_model(model)\n",
        "tflite_model = converter.convert()\n",
        "\n",
        "with open(\"model.tflite\", 'wb') as f:\n",
        "  f.write(tflite_model)"
      ]
    },
    {
      "cell_type": "code",
      "execution_count": 14,
      "metadata": {
        "colab": {
          "base_uri": "https://localhost:8080/",
          "height": 380
        },
        "id": "8Px1Yfh4h2nP",
        "outputId": "5fc44308-512d-4ca2-f0d7-48cf7438f5f8"
      },
      "outputs": [
        {
          "output_type": "execute_result",
          "data": {
            "text/plain": [
              "Text(0.5, 1.0, 'Accuracy Vs Epoch')"
            ]
          },
          "metadata": {},
          "execution_count": 14
        },
        {
          "output_type": "display_data",
          "data": {
            "text/plain": [
              "<Figure size 1200x800 with 2 Axes>"
            ],
            "image/png": "[encoded data removed]"
          },
          "metadata": {}
        }
      ],
      "source": [
        "plt.figure(figsize=(12, 8))\n",
        "\n",
        "plt.subplot(2, 2, 1)\n",
        "plt.plot(history.history['loss'], label='train loss')\n",
        "plt.plot(history.history['val_loss'], label='val loss')\n",
        "plt.legend()\n",
        "plt.title('Loss Vs Epoch')\n",
        "\n",
        "plt.subplot(2, 2, 2)\n",
        "plt.plot(history.history['accuracy'], label='accuracy')\n",
        "plt.plot(history.history['val_accuracy'], label='val accuracy')\n",
        "plt.legend()\n",
        "plt.title('Accuracy Vs Epoch')"
      ]
    },
    {
      "cell_type": "code",
      "execution_count": 16,
      "metadata": {
        "id": "uEBJaJQOlMfr",
        "colab": {
          "base_uri": "https://localhost:8080/"
        },
        "outputId": "d9cf1b2f-4b6a-413f-8efd-6b6ab985e510"
      },
      "outputs": [
        {
          "output_type": "stream",
          "name": "stdout",
          "text": [
            "Model: \"sequential\"\n",
            "_________________________________________________________________\n",
            " Layer (type)                Output Shape              Param #   \n",
            "=================================================================\n",
            " resnet50 (Functional)       (None, None, None, 2048)  23587712  \n",
            "                                                                 \n",
            " global_average_pooling2d (G  (None, 2048)             0         \n",
            " lobalAveragePooling2D)                                          \n",
            "                                                                 \n",
            " dense (Dense)               (None, 1024)              2098176   \n",
            "                                                                 \n",
            " dense_1 (Dense)             (None, 10)                10250     \n",
            "                                                                 \n",
            "=================================================================\n",
            "Total params: 25,696,138\n",
            "Trainable params: 2,108,426\n",
            "Non-trainable params: 23,587,712\n",
            "_________________________________________________________________\n"
          ]
        }
      ],
      "source": [
        "model.summary()"
      ]
    }
  ],
  "metadata": {
    "accelerator": "GPU",
    "colab": {
      "provenance": [],
      "mount_file_id": "1obi7UmxgSC3TG1yUEw3QF0ozCzjdZnsJ",
      "authorship_tag": "ABX9TyN+HoZ7gor9DIHQFUXJc6zI",
      "include_colab_link": true
    },
    "gpuClass": "standard",
    "kernelspec": {
      "display_name": "Python 3",
      "name": "python3"
    },
    "language_info": {
      "name": "python"
    }
  },
  "nbformat": 4,
  "nbformat_minor": 0
}