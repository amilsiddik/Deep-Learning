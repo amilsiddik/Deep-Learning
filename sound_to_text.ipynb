{
  "nbformat": 4,
  "nbformat_minor": 0,
  "metadata": {
    "colab": {
      "name": "sound to text.ipynb",
      "provenance": [],
      "authorship_tag": "ABX9TyMrmuATOwBtL2O/+qM8zfuz",
      "include_colab_link": true
    },
    "kernelspec": {
      "name": "python3",
      "display_name": "Python 3"
    },
    "language_info": {
      "name": "python"
    }
  },
  "cells": [
    {
      "cell_type": "markdown",
      "metadata": {
        "id": "view-in-github",
        "colab_type": "text"
      },
      "source": [
        "<a href=\"https://colab.research.google.com/github/amilsiddik/Deep-Learning/blob/main/sound_to_text.ipynb\" target=\"_parent\"><img src=\"https://colab.research.google.com/assets/colab-badge.svg\" alt=\"Open In Colab\"/></a>"
      ]
    },
    {
      "cell_type": "code",
      "execution_count": 2,
      "metadata": {
        "colab": {
          "base_uri": "https://localhost:8080/"
        },
        "id": "DKoJuZi5mcYN",
        "outputId": "150c152b-38bb-4640-df2f-52bef7ade7a7"
      },
      "outputs": [
        {
          "output_type": "stream",
          "name": "stdout",
          "text": [
            "Collecting speechrecognition\n",
            "  Downloading SpeechRecognition-3.8.1-py2.py3-none-any.whl (32.8 MB)\n",
            "\u001b[K     |████████████████████████████████| 32.8 MB 165 kB/s \n",
            "\u001b[?25hInstalling collected packages: speechrecognition\n",
            "Successfully installed speechrecognition-3.8.1\n"
          ]
        }
      ],
      "source": [
        "!pip install speechrecognition\n",
        "import speech_recognition as sr"
      ]
    },
    {
      "cell_type": "code",
      "source": [
        "r = sr.Recognizer()\n",
        "r"
      ],
      "metadata": {
        "colab": {
          "base_uri": "https://localhost:8080/"
        },
        "id": "B2i-WNnQm69q",
        "outputId": "6ef4afaf-ca43-4315-e847-76e2ae24475a"
      },
      "execution_count": 3,
      "outputs": [
        {
          "output_type": "execute_result",
          "data": {
            "text/plain": [
              "<speech_recognition.Recognizer at 0x7fa3ea52ec50>"
            ]
          },
          "metadata": {},
          "execution_count": 3
        }
      ]
    },
    {
      "cell_type": "code",
      "source": [
        "! gdown --id 1VYIvRrMLgzXlDyr9cDsT6OYQd_V9aJFh"
      ],
      "metadata": {
        "colab": {
          "base_uri": "https://localhost:8080/"
        },
        "id": "uieVuY24sAiC",
        "outputId": "b02b63f3-00e4-41a8-c3a4-8288570add31"
      },
      "execution_count": 4,
      "outputs": [
        {
          "output_type": "stream",
          "name": "stdout",
          "text": [
            "Downloading...\n",
            "From: https://drive.google.com/uc?id=1VYIvRrMLgzXlDyr9cDsT6OYQd_V9aJFh\n",
            "To: /content/speechtest.wav\n",
            "100% 8.10M/8.10M [00:00<00:00, 97.3MB/s]\n"
          ]
        }
      ]
    },
    {
      "cell_type": "code",
      "source": [
        "suaranya = sr.AudioFile('/content/speechtest.wav')\n",
        "with suaranya as source:\n",
        "  audio = r.record(source)"
      ],
      "metadata": {
        "id": "SVt3jUm_sJ5d"
      },
      "execution_count": 5,
      "outputs": []
    },
    {
      "cell_type": "code",
      "source": [
        "type(audio)"
      ],
      "metadata": {
        "colab": {
          "base_uri": "https://localhost:8080/"
        },
        "id": "kFgeuGRev5eW",
        "outputId": "596f8b93-9637-44dd-89d6-70ab0fb64104"
      },
      "execution_count": 6,
      "outputs": [
        {
          "output_type": "execute_result",
          "data": {
            "text/plain": [
              "speech_recognition.AudioData"
            ]
          },
          "metadata": {},
          "execution_count": 6
        }
      ]
    },
    {
      "cell_type": "code",
      "source": [
        "text = r.recognize_google(audio, language=\"id-ID\")\n",
        "text"
      ],
      "metadata": {
        "colab": {
          "base_uri": "https://localhost:8080/",
          "height": 87
        },
        "id": "d-azKR47v-sf",
        "outputId": "8ea51969-ab1c-4b46-dc5a-4c515b268581"
      },
      "execution_count": 7,
      "outputs": [
        {
          "output_type": "execute_result",
          "data": {
            "application/vnd.google.colaboratory.intrinsic+json": {
              "type": "string"
            },
            "text/plain": [
              "'Halo ini adalah suara untuk percobaan ya saya membaca berita dari website baru-baru ini seekor harimau hitam terlihat di sebuah taman Yogi odisha India Arie mahitam ini merupakan hewan langka di dunia di India sendiri hewan dengan loreng hitam ini tinggal tersisa 78 ekor harimau hitam di India sendiri pertama kali tertangkap kamera pada tahun 2007 di odisha'"
            ]
          },
          "metadata": {},
          "execution_count": 7
        }
      ]
    },
    {
      "cell_type": "code",
      "source": [
        "text_file = open(\"Hasil.txt\", \"w\")\n",
        "text_file.write(text)\n",
        "text_file.close()"
      ],
      "metadata": {
        "id": "JKWx9_mywLY2"
      },
      "execution_count": 10,
      "outputs": []
    }
  ]
}