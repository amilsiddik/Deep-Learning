{
  "cells": [
    {
      "cell_type": "markdown",
      "metadata": {
        "id": "view-in-github",
        "colab_type": "text"
      },
      "source": [
        "<a href=\"https://colab.research.google.com/github/amilsiddik/Deep-Learning/blob/main/Deteksi_Hand_Sign_Resnet_VGG16.ipynb\" target=\"_parent\"><img src=\"https://colab.research.google.com/assets/colab-badge.svg\" alt=\"Open In Colab\"/></a>"
      ]
    },
    {
      "cell_type": "code",
      "execution_count": 1,
      "metadata": {
        "id": "O9LHzlkEaWRC"
      },
      "outputs": [],
      "source": [
        "import pandas as pd\n",
        "import numpy as np\n",
        "import tensorflow as tf\n",
        "import os\n",
        "import cv2 as cv\n",
        "from tensorflow import keras\n",
        "from sklearn.model_selection import train_test_split\n",
        "from sklearn import preprocessing\n",
        "import matplotlib.pyplot as plt"
      ]
    },
    {
      "cell_type": "code",
      "execution_count": 2,
      "metadata": {
        "colab": {
          "base_uri": "https://localhost:8080/"
        },
        "id": "s9Pm1pJqahex",
        "outputId": "8acba522-c0f3-40b7-83ab-c36ce27c68fa"
      },
      "outputs": [
        {
          "output_type": "stream",
          "name": "stdout",
          "text": [
            "Drive already mounted at /content/drive; to attempt to forcibly remount, call drive.mount(\"/content/drive\", force_remount=True).\n"
          ]
        }
      ],
      "source": [
        "from google.colab import drive\n",
        "drive.mount('/content/drive')"
      ]
    },
    {
      "cell_type": "code",
      "execution_count": 3,
      "metadata": {
        "id": "JKAKLwf_asR4"
      },
      "outputs": [],
      "source": [
        "path = \"/content/drive/MyDrive/Penelitian/Deteksi hand sign/Dataset\"\n",
        "key_value= dict()\n",
        "for i in os.listdir(path):\n",
        "    key_value[i] = os.listdir(path+'/'+i)"
      ]
    },
    {
      "cell_type": "code",
      "execution_count": 4,
      "metadata": {
        "colab": {
          "base_uri": "https://localhost:8080/",
          "height": 424
        },
        "id": "aVUmD6DCa3OH",
        "outputId": "8b839f5c-dcf5-4409-a700-123092f9a448"
      },
      "outputs": [
        {
          "output_type": "execute_result",
          "data": {
            "text/plain": [
              "     label                                               path\n",
              "0        6  /content/drive/MyDrive/Penelitian/Deteksi hand...\n",
              "1        6  /content/drive/MyDrive/Penelitian/Deteksi hand...\n",
              "2        6  /content/drive/MyDrive/Penelitian/Deteksi hand...\n",
              "3        6  /content/drive/MyDrive/Penelitian/Deteksi hand...\n",
              "4        6  /content/drive/MyDrive/Penelitian/Deteksi hand...\n",
              "...    ...                                                ...\n",
              "2057     7  /content/drive/MyDrive/Penelitian/Deteksi hand...\n",
              "2058     7  /content/drive/MyDrive/Penelitian/Deteksi hand...\n",
              "2059     7  /content/drive/MyDrive/Penelitian/Deteksi hand...\n",
              "2060     7  /content/drive/MyDrive/Penelitian/Deteksi hand...\n",
              "2061     7  /content/drive/MyDrive/Penelitian/Deteksi hand...\n",
              "\n",
              "[2062 rows x 2 columns]"
            ],
            "text/html": [
              "\n",
              "  <div id=\"df-59e6860d-0ff5-4b15-8ab0-e869d246df67\">\n",
              "    <div class=\"colab-df-container\">\n",
              "      <div>\n",
              "<style scoped>\n",
              "    .dataframe tbody tr th:only-of-type {\n",
              "        vertical-align: middle;\n",
              "    }\n",
              "\n",
              "    .dataframe tbody tr th {\n",
              "        vertical-align: top;\n",
              "    }\n",
              "\n",
              "    .dataframe thead th {\n",
              "        text-align: right;\n",
              "    }\n",
              "</style>\n",
              "<table border=\"1\" class=\"dataframe\">\n",
              "  <thead>\n",
              "    <tr style=\"text-align: right;\">\n",
              "      <th></th>\n",
              "      <th>label</th>\n",
              "      <th>path</th>\n",
              "    </tr>\n",
              "  </thead>\n",
              "  <tbody>\n",
              "    <tr>\n",
              "      <th>0</th>\n",
              "      <td>6</td>\n",
              "      <td>/content/drive/MyDrive/Penelitian/Deteksi hand...</td>\n",
              "    </tr>\n",
              "    <tr>\n",
              "      <th>1</th>\n",
              "      <td>6</td>\n",
              "      <td>/content/drive/MyDrive/Penelitian/Deteksi hand...</td>\n",
              "    </tr>\n",
              "    <tr>\n",
              "      <th>2</th>\n",
              "      <td>6</td>\n",
              "      <td>/content/drive/MyDrive/Penelitian/Deteksi hand...</td>\n",
              "    </tr>\n",
              "    <tr>\n",
              "      <th>3</th>\n",
              "      <td>6</td>\n",
              "      <td>/content/drive/MyDrive/Penelitian/Deteksi hand...</td>\n",
              "    </tr>\n",
              "    <tr>\n",
              "      <th>4</th>\n",
              "      <td>6</td>\n",
              "      <td>/content/drive/MyDrive/Penelitian/Deteksi hand...</td>\n",
              "    </tr>\n",
              "    <tr>\n",
              "      <th>...</th>\n",
              "      <td>...</td>\n",
              "      <td>...</td>\n",
              "    </tr>\n",
              "    <tr>\n",
              "      <th>2057</th>\n",
              "      <td>7</td>\n",
              "      <td>/content/drive/MyDrive/Penelitian/Deteksi hand...</td>\n",
              "    </tr>\n",
              "    <tr>\n",
              "      <th>2058</th>\n",
              "      <td>7</td>\n",
              "      <td>/content/drive/MyDrive/Penelitian/Deteksi hand...</td>\n",
              "    </tr>\n",
              "    <tr>\n",
              "      <th>2059</th>\n",
              "      <td>7</td>\n",
              "      <td>/content/drive/MyDrive/Penelitian/Deteksi hand...</td>\n",
              "    </tr>\n",
              "    <tr>\n",
              "      <th>2060</th>\n",
              "      <td>7</td>\n",
              "      <td>/content/drive/MyDrive/Penelitian/Deteksi hand...</td>\n",
              "    </tr>\n",
              "    <tr>\n",
              "      <th>2061</th>\n",
              "      <td>7</td>\n",
              "      <td>/content/drive/MyDrive/Penelitian/Deteksi hand...</td>\n",
              "    </tr>\n",
              "  </tbody>\n",
              "</table>\n",
              "<p>2062 rows × 2 columns</p>\n",
              "</div>\n",
              "      <button class=\"colab-df-convert\" onclick=\"convertToInteractive('df-59e6860d-0ff5-4b15-8ab0-e869d246df67')\"\n",
              "              title=\"Convert this dataframe to an interactive table.\"\n",
              "              style=\"display:none;\">\n",
              "        \n",
              "  <svg xmlns=\"http://www.w3.org/2000/svg\" height=\"24px\"viewBox=\"0 0 24 24\"\n",
              "       width=\"24px\">\n",
              "    <path d=\"M0 0h24v24H0V0z\" fill=\"none\"/>\n",
              "    <path d=\"M18.56 5.44l.94 2.06.94-2.06 2.06-.94-2.06-.94-.94-2.06-.94 2.06-2.06.94zm-11 1L8.5 8.5l.94-2.06 2.06-.94-2.06-.94L8.5 2.5l-.94 2.06-2.06.94zm10 10l.94 2.06.94-2.06 2.06-.94-2.06-.94-.94-2.06-.94 2.06-2.06.94z\"/><path d=\"M17.41 7.96l-1.37-1.37c-.4-.4-.92-.59-1.43-.59-.52 0-1.04.2-1.43.59L10.3 9.45l-7.72 7.72c-.78.78-.78 2.05 0 2.83L4 21.41c.39.39.9.59 1.41.59.51 0 1.02-.2 1.41-.59l7.78-7.78 2.81-2.81c.8-.78.8-2.07 0-2.86zM5.41 20L4 18.59l7.72-7.72 1.47 1.35L5.41 20z\"/>\n",
              "  </svg>\n",
              "      </button>\n",
              "      \n",
              "  <style>\n",
              "    .colab-df-container {\n",
              "      display:flex;\n",
              "      flex-wrap:wrap;\n",
              "      gap: 12px;\n",
              "    }\n",
              "\n",
              "    .colab-df-convert {\n",
              "      background-color: #E8F0FE;\n",
              "      border: none;\n",
              "      border-radius: 50%;\n",
              "      cursor: pointer;\n",
              "      display: none;\n",
              "      fill: #1967D2;\n",
              "      height: 32px;\n",
              "      padding: 0 0 0 0;\n",
              "      width: 32px;\n",
              "    }\n",
              "\n",
              "    .colab-df-convert:hover {\n",
              "      background-color: #E2EBFA;\n",
              "      box-shadow: 0px 1px 2px rgba(60, 64, 67, 0.3), 0px 1px 3px 1px rgba(60, 64, 67, 0.15);\n",
              "      fill: #174EA6;\n",
              "    }\n",
              "\n",
              "    [theme=dark] .colab-df-convert {\n",
              "      background-color: #3B4455;\n",
              "      fill: #D2E3FC;\n",
              "    }\n",
              "\n",
              "    [theme=dark] .colab-df-convert:hover {\n",
              "      background-color: #434B5C;\n",
              "      box-shadow: 0px 1px 3px 1px rgba(0, 0, 0, 0.15);\n",
              "      filter: drop-shadow(0px 1px 2px rgba(0, 0, 0, 0.3));\n",
              "      fill: #FFFFFF;\n",
              "    }\n",
              "  </style>\n",
              "\n",
              "      <script>\n",
              "        const buttonEl =\n",
              "          document.querySelector('#df-59e6860d-0ff5-4b15-8ab0-e869d246df67 button.colab-df-convert');\n",
              "        buttonEl.style.display =\n",
              "          google.colab.kernel.accessAllowed ? 'block' : 'none';\n",
              "\n",
              "        async function convertToInteractive(key) {\n",
              "          const element = document.querySelector('#df-59e6860d-0ff5-4b15-8ab0-e869d246df67');\n",
              "          const dataTable =\n",
              "            await google.colab.kernel.invokeFunction('convertToInteractive',\n",
              "                                                     [key], {});\n",
              "          if (!dataTable) return;\n",
              "\n",
              "          const docLinkHtml = 'Like what you see? Visit the ' +\n",
              "            '<a target=\"_blank\" href=https://colab.research.google.com/notebooks/data_table.ipynb>data table notebook</a>'\n",
              "            + ' to learn more about interactive tables.';\n",
              "          element.innerHTML = '';\n",
              "          dataTable['output_type'] = 'display_data';\n",
              "          await google.colab.output.renderOutput(dataTable, element);\n",
              "          const docLink = document.createElement('div');\n",
              "          docLink.innerHTML = docLinkHtml;\n",
              "          element.appendChild(docLink);\n",
              "        }\n",
              "      </script>\n",
              "    </div>\n",
              "  </div>\n",
              "  "
            ]
          },
          "metadata": {},
          "execution_count": 4
        }
      ],
      "source": [
        "df = []\n",
        "for key in key_value.keys():\n",
        "    for j in key_value[key]:\n",
        "        df.append([key,path+'/'+key+'/'+j])\n",
        "df1 = pd.DataFrame(df,columns=('label','path'))\n",
        "df1"
      ]
    },
    {
      "cell_type": "code",
      "execution_count": 5,
      "metadata": {
        "id": "nsQiZhhwa5iR"
      },
      "outputs": [],
      "source": [
        "def readimg(path):\n",
        "    img= cv.imread(path)\n",
        "    img = cv.resize(img,(224,224))\n",
        "    return img"
      ]
    },
    {
      "cell_type": "code",
      "execution_count": 6,
      "metadata": {
        "id": "q_XPQTjia7zJ"
      },
      "outputs": [],
      "source": [
        "import multiprocessing\n",
        "\n",
        "# Create a Pool with 4 worker processes\n",
        "with multiprocessing.Pool(4) as p:\n",
        "    # Read in all of the images in parallel\n",
        "    images = p.map(readimg, df1['path'])"
      ]
    },
    {
      "cell_type": "code",
      "execution_count": 7,
      "metadata": {
        "id": "7GpgNP2la-DM",
        "colab": {
          "base_uri": "https://localhost:8080/"
        },
        "outputId": "f199e509-a7e9-48c7-a104-b785e451f448"
      },
      "outputs": [
        {
          "output_type": "execute_result",
          "data": {
            "text/plain": [
              "array([[[[169., 165., 164.],\n",
              "         [169., 165., 164.],\n",
              "         [170., 166., 165.],\n",
              "         ...,\n",
              "         [169., 164., 163.],\n",
              "         [168., 163., 162.],\n",
              "         [168., 163., 162.]],\n",
              "\n",
              "        [[169., 165., 164.],\n",
              "         [169., 165., 164.],\n",
              "         [170., 166., 165.],\n",
              "         ...,\n",
              "         [169., 164., 163.],\n",
              "         [168., 163., 162.],\n",
              "         [168., 163., 162.]],\n",
              "\n",
              "        [[170., 166., 164.],\n",
              "         [170., 166., 165.],\n",
              "         [170., 166., 165.],\n",
              "         ...,\n",
              "         [169., 164., 163.],\n",
              "         [168., 163., 162.],\n",
              "         [168., 163., 162.]],\n",
              "\n",
              "        ...,\n",
              "\n",
              "        [[120., 129., 132.],\n",
              "         [120., 129., 132.],\n",
              "         [120., 129., 131.],\n",
              "         ...,\n",
              "         [120., 128., 132.],\n",
              "         [120., 128., 132.],\n",
              "         [120., 128., 132.]],\n",
              "\n",
              "        [[119., 130., 132.],\n",
              "         [119., 130., 132.],\n",
              "         [119., 130., 132.],\n",
              "         ...,\n",
              "         [115., 125., 130.],\n",
              "         [115., 125., 129.],\n",
              "         [115., 125., 129.]],\n",
              "\n",
              "        [[119., 131., 133.],\n",
              "         [119., 131., 133.],\n",
              "         [119., 131., 133.],\n",
              "         ...,\n",
              "         [113., 124., 129.],\n",
              "         [113., 124., 128.],\n",
              "         [113., 124., 128.]]],\n",
              "\n",
              "\n",
              "       [[[167., 174., 177.],\n",
              "         [167., 174., 177.],\n",
              "         [166., 175., 177.],\n",
              "         ...,\n",
              "         [180., 175., 176.],\n",
              "         [179., 174., 175.],\n",
              "         [179., 174., 175.]],\n",
              "\n",
              "        [[167., 174., 177.],\n",
              "         [167., 174., 177.],\n",
              "         [166., 175., 177.],\n",
              "         ...,\n",
              "         [180., 175., 176.],\n",
              "         [179., 174., 175.],\n",
              "         [179., 174., 175.]],\n",
              "\n",
              "        [[166., 175., 177.],\n",
              "         [166., 174., 177.],\n",
              "         [165., 174., 177.],\n",
              "         ...,\n",
              "         [181., 175., 176.],\n",
              "         [180., 175., 176.],\n",
              "         [180., 175., 175.]],\n",
              "\n",
              "        ...,\n",
              "\n",
              "        [[132., 143., 147.],\n",
              "         [132., 143., 147.],\n",
              "         [132., 143., 147.],\n",
              "         ...,\n",
              "         [163., 158., 159.],\n",
              "         [163., 158., 159.],\n",
              "         [163., 158., 159.]],\n",
              "\n",
              "        [[131., 142., 146.],\n",
              "         [131., 142., 146.],\n",
              "         [131., 142., 146.],\n",
              "         ...,\n",
              "         [163., 158., 159.],\n",
              "         [163., 158., 159.],\n",
              "         [163., 158., 159.]],\n",
              "\n",
              "        [[131., 142., 146.],\n",
              "         [131., 142., 146.],\n",
              "         [131., 142., 146.],\n",
              "         ...,\n",
              "         [163., 158., 159.],\n",
              "         [163., 158., 159.],\n",
              "         [163., 158., 159.]]],\n",
              "\n",
              "\n",
              "       [[[167., 165., 164.],\n",
              "         [167., 165., 164.],\n",
              "         [168., 166., 165.],\n",
              "         ...,\n",
              "         [168., 162., 163.],\n",
              "         [166., 160., 161.],\n",
              "         [166., 160., 161.]],\n",
              "\n",
              "        [[168., 166., 165.],\n",
              "         [168., 166., 165.],\n",
              "         [169., 167., 166.],\n",
              "         ...,\n",
              "         [168., 162., 163.],\n",
              "         [167., 161., 162.],\n",
              "         [166., 160., 161.]],\n",
              "\n",
              "        [[171., 167., 168.],\n",
              "         [171., 167., 168.],\n",
              "         [172., 168., 168.],\n",
              "         ...,\n",
              "         [168., 162., 163.],\n",
              "         [167., 161., 162.],\n",
              "         [166., 160., 162.]],\n",
              "\n",
              "        ...,\n",
              "\n",
              "        [[142., 140., 142.],\n",
              "         [142., 140., 142.],\n",
              "         [142., 140., 142.],\n",
              "         ...,\n",
              "         [147., 142., 142.],\n",
              "         [147., 142., 142.],\n",
              "         [147., 142., 142.]],\n",
              "\n",
              "        [[142., 139., 141.],\n",
              "         [142., 139., 141.],\n",
              "         [142., 139., 141.],\n",
              "         ...,\n",
              "         [146., 141., 142.],\n",
              "         [146., 141., 142.],\n",
              "         [146., 141., 142.]],\n",
              "\n",
              "        [[142., 139., 141.],\n",
              "         [142., 139., 141.],\n",
              "         [142., 139., 141.],\n",
              "         ...,\n",
              "         [146., 141., 142.],\n",
              "         [146., 141., 142.],\n",
              "         [146., 141., 142.]]],\n",
              "\n",
              "\n",
              "       ...,\n",
              "\n",
              "\n",
              "       [[[114., 109., 110.],\n",
              "         [114., 109., 110.],\n",
              "         [115., 110., 111.],\n",
              "         ...,\n",
              "         [123., 111., 111.],\n",
              "         [123., 111., 111.],\n",
              "         [123., 111., 111.]],\n",
              "\n",
              "        [[114., 109., 110.],\n",
              "         [114., 109., 110.],\n",
              "         [115., 110., 111.],\n",
              "         ...,\n",
              "         [123., 111., 111.],\n",
              "         [123., 111., 111.],\n",
              "         [123., 111., 111.]],\n",
              "\n",
              "        [[114., 109., 110.],\n",
              "         [114., 109., 110.],\n",
              "         [115., 110., 111.],\n",
              "         ...,\n",
              "         [123., 112., 112.],\n",
              "         [123., 111., 111.],\n",
              "         [123., 111., 111.]],\n",
              "\n",
              "        ...,\n",
              "\n",
              "        [[ 96.,  94.,  94.],\n",
              "         [ 97.,  95.,  95.],\n",
              "         [ 98.,  96.,  96.],\n",
              "         ...,\n",
              "         [102.,  97.,  96.],\n",
              "         [102.,  97.,  96.],\n",
              "         [102.,  97.,  95.]],\n",
              "\n",
              "        [[ 95.,  93.,  93.],\n",
              "         [ 96.,  94.,  94.],\n",
              "         [ 97.,  95.,  95.],\n",
              "         ...,\n",
              "         [102.,  97.,  96.],\n",
              "         [101.,  96.,  95.],\n",
              "         [101.,  96.,  95.]],\n",
              "\n",
              "        [[ 95.,  93.,  93.],\n",
              "         [ 95.,  93.,  93.],\n",
              "         [ 97.,  95.,  95.],\n",
              "         ...,\n",
              "         [101.,  96.,  95.],\n",
              "         [101.,  96.,  95.],\n",
              "         [101.,  96.,  95.]]],\n",
              "\n",
              "\n",
              "       [[[128., 120., 120.],\n",
              "         [128., 120., 120.],\n",
              "         [129., 120., 120.],\n",
              "         ...,\n",
              "         [119., 110., 110.],\n",
              "         [118., 110., 110.],\n",
              "         [118., 110., 110.]],\n",
              "\n",
              "        [[128., 120., 120.],\n",
              "         [128., 120., 120.],\n",
              "         [129., 121., 121.],\n",
              "         ...,\n",
              "         [119., 110., 110.],\n",
              "         [118., 110., 110.],\n",
              "         [118., 110., 110.]],\n",
              "\n",
              "        [[128., 120., 120.],\n",
              "         [128., 120., 120.],\n",
              "         [129., 121., 121.],\n",
              "         ...,\n",
              "         [119., 110., 110.],\n",
              "         [118., 110., 110.],\n",
              "         [118., 110., 110.]],\n",
              "\n",
              "        ...,\n",
              "\n",
              "        [[117., 112., 112.],\n",
              "         [117., 112., 113.],\n",
              "         [117., 112., 113.],\n",
              "         ...,\n",
              "         [105., 100.,  99.],\n",
              "         [105., 100.,  99.],\n",
              "         [104.,  99.,  99.]],\n",
              "\n",
              "        [[116., 111., 112.],\n",
              "         [116., 111., 112.],\n",
              "         [117., 111., 113.],\n",
              "         ...,\n",
              "         [105., 100.,  99.],\n",
              "         [104.,  99.,  98.],\n",
              "         [104.,  99.,  98.]],\n",
              "\n",
              "        [[116., 111., 112.],\n",
              "         [116., 111., 112.],\n",
              "         [117., 111., 112.],\n",
              "         ...,\n",
              "         [104., 100.,  99.],\n",
              "         [104.,  99.,  98.],\n",
              "         [104.,  99.,  98.]]],\n",
              "\n",
              "\n",
              "       [[[129., 128., 130.],\n",
              "         [129., 128., 130.],\n",
              "         [131., 130., 132.],\n",
              "         ...,\n",
              "         [136., 135., 137.],\n",
              "         [135., 134., 136.],\n",
              "         [135., 134., 136.]],\n",
              "\n",
              "        [[129., 128., 130.],\n",
              "         [130., 128., 131.],\n",
              "         [131., 130., 132.],\n",
              "         ...,\n",
              "         [136., 135., 137.],\n",
              "         [135., 134., 136.],\n",
              "         [135., 134., 136.]],\n",
              "\n",
              "        [[130., 128., 130.],\n",
              "         [130., 129., 131.],\n",
              "         [131., 130., 132.],\n",
              "         ...,\n",
              "         [136., 135., 137.],\n",
              "         [136., 135., 137.],\n",
              "         [136., 134., 136.]],\n",
              "\n",
              "        ...,\n",
              "\n",
              "        [[ 99.,  97.,  99.],\n",
              "         [ 99.,  98., 100.],\n",
              "         [ 99.,  98., 100.],\n",
              "         ...,\n",
              "         [103., 105., 106.],\n",
              "         [102., 104., 106.],\n",
              "         [102., 104., 105.]],\n",
              "\n",
              "        [[ 98.,  97.,  99.],\n",
              "         [ 98.,  97.,  99.],\n",
              "         [ 99.,  98., 100.],\n",
              "         ...,\n",
              "         [102., 104., 105.],\n",
              "         [102., 104., 105.],\n",
              "         [101., 103., 104.]],\n",
              "\n",
              "        [[ 98.,  97.,  99.],\n",
              "         [ 98.,  97.,  99.],\n",
              "         [ 99.,  98., 100.],\n",
              "         ...,\n",
              "         [102., 104., 105.],\n",
              "         [101., 103., 104.],\n",
              "         [101., 103., 104.]]]])"
            ]
          },
          "metadata": {},
          "execution_count": 7
        }
      ],
      "source": [
        "images=np.array(images, dtype='float')\n",
        "# label encoder from sklearn\n",
        "le = preprocessing.LabelEncoder()\n",
        "y_labels = le.fit_transform(df1['label'])\n",
        "images"
      ]
    },
    {
      "cell_type": "code",
      "execution_count": 8,
      "metadata": {
        "id": "tgG7wEahbrIY"
      },
      "outputs": [],
      "source": [
        "# to split the data into training and testing data\n",
        "train_images,test_images,train_labels,test_labels = train_test_split(images,y_labels,test_size=0.25, random_state=42)"
      ]
    },
    {
      "cell_type": "code",
      "source": [
        "y_labels[1000]"
      ],
      "metadata": {
        "colab": {
          "base_uri": "https://localhost:8080/"
        },
        "id": "9b3F3ucSH9ee",
        "outputId": "ec356050-141f-4348-9a47-e8a6cfd3b970"
      },
      "execution_count": 22,
      "outputs": [
        {
          "output_type": "execute_result",
          "data": {
            "text/plain": [
              "0"
            ]
          },
          "metadata": {},
          "execution_count": 22
        }
      ]
    },
    {
      "cell_type": "code",
      "execution_count": 23,
      "metadata": {
        "id": "JASJ76AkbtWU",
        "colab": {
          "base_uri": "https://localhost:8080/"
        },
        "outputId": "72233e29-ae5d-4632-c80c-bae7934f4f76"
      },
      "outputs": [
        {
          "output_type": "stream",
          "name": "stdout",
          "text": [
            "Downloading data from https://storage.googleapis.com/tensorflow/keras-applications/vgg16/vgg16_weights_tf_dim_ordering_tf_kernels_notop.h5\n",
            "58889256/58889256 [==============================] - 2s 0us/step\n"
          ]
        }
      ],
      "source": [
        "## implementing trensfer learning\n",
        "base_model = keras.applications.VGG16(weights='imagenet', include_top=False)\n",
        "\n",
        "# freezing the base model so we donot have to train it again\n",
        "base_model.trainable = False\n",
        "\n",
        "\n",
        "model = keras.Sequential([\n",
        "  base_model,\n",
        "  keras.layers.GlobalAveragePooling2D(),\n",
        "  keras.layers.Dense(1024, activation='relu'),\n",
        "  keras.layers.Dense(10, activation='softmax')\n",
        "])\n",
        "model.compile(optimizer='adam', loss='SparseCategoricalCrossentropy', metrics=['accuracy'])"
      ]
    },
    {
      "cell_type": "code",
      "execution_count": 24,
      "metadata": {
        "colab": {
          "base_uri": "https://localhost:8080/"
        },
        "id": "wh52lAuSb5t8",
        "outputId": "bbcb4ed8-1ff7-4799-f438-8963d1a637b8"
      },
      "outputs": [
        {
          "output_type": "stream",
          "name": "stdout",
          "text": [
            "Epoch 1/50\n",
            "49/49 [==============================] - 29s 289ms/step - loss: 1.2681 - accuracy: 0.6475 - val_loss: 0.2766 - val_accuracy: 0.9031\n",
            "Epoch 2/50\n",
            "49/49 [==============================] - 8s 163ms/step - loss: 0.2128 - accuracy: 0.9301 - val_loss: 0.2374 - val_accuracy: 0.9089\n",
            "Epoch 3/50\n",
            "49/49 [==============================] - 9s 177ms/step - loss: 0.1208 - accuracy: 0.9683 - val_loss: 0.2450 - val_accuracy: 0.9205\n",
            "Epoch 4/50\n",
            "49/49 [==============================] - 9s 179ms/step - loss: 0.0720 - accuracy: 0.9832 - val_loss: 0.1189 - val_accuracy: 0.9690\n",
            "Epoch 5/50\n",
            "49/49 [==============================] - 9s 178ms/step - loss: 0.0475 - accuracy: 0.9916 - val_loss: 0.1350 - val_accuracy: 0.9554\n",
            "Epoch 6/50\n",
            "49/49 [==============================] - 9s 182ms/step - loss: 0.0271 - accuracy: 0.9974 - val_loss: 0.1105 - val_accuracy: 0.9651\n",
            "Epoch 7/50\n",
            "49/49 [==============================] - 9s 181ms/step - loss: 0.0203 - accuracy: 0.9974 - val_loss: 0.1794 - val_accuracy: 0.9322\n",
            "Epoch 8/50\n",
            "49/49 [==============================] - 9s 184ms/step - loss: 0.0210 - accuracy: 0.9981 - val_loss: 0.0979 - val_accuracy: 0.9671\n",
            "Epoch 9/50\n",
            "49/49 [==============================] - 9s 178ms/step - loss: 0.0088 - accuracy: 1.0000 - val_loss: 0.1065 - val_accuracy: 0.9671\n",
            "Epoch 10/50\n",
            "49/49 [==============================] - 9s 187ms/step - loss: 0.0064 - accuracy: 1.0000 - val_loss: 0.0973 - val_accuracy: 0.9709\n",
            "Epoch 11/50\n",
            "49/49 [==============================] - 9s 191ms/step - loss: 0.0047 - accuracy: 1.0000 - val_loss: 0.0902 - val_accuracy: 0.9748\n",
            "Epoch 12/50\n",
            "49/49 [==============================] - 9s 189ms/step - loss: 0.0039 - accuracy: 1.0000 - val_loss: 0.0899 - val_accuracy: 0.9767\n",
            "Epoch 13/50\n",
            "49/49 [==============================] - 9s 195ms/step - loss: 0.0034 - accuracy: 1.0000 - val_loss: 0.0883 - val_accuracy: 0.9748\n",
            "Epoch 14/50\n",
            "49/49 [==============================] - 9s 193ms/step - loss: 0.0029 - accuracy: 1.0000 - val_loss: 0.0878 - val_accuracy: 0.9767\n",
            "Epoch 15/50\n",
            "49/49 [==============================] - 9s 193ms/step - loss: 0.0028 - accuracy: 1.0000 - val_loss: 0.0854 - val_accuracy: 0.9748\n",
            "Epoch 16/50\n",
            "49/49 [==============================] - 9s 183ms/step - loss: 0.0024 - accuracy: 1.0000 - val_loss: 0.0845 - val_accuracy: 0.9748\n",
            "Epoch 17/50\n",
            "49/49 [==============================] - 9s 188ms/step - loss: 0.0021 - accuracy: 1.0000 - val_loss: 0.0852 - val_accuracy: 0.9729\n",
            "Epoch 18/50\n",
            "49/49 [==============================] - 9s 190ms/step - loss: 0.0019 - accuracy: 1.0000 - val_loss: 0.0858 - val_accuracy: 0.9729\n",
            "Epoch 19/50\n",
            "49/49 [==============================] - 9s 190ms/step - loss: 0.0017 - accuracy: 1.0000 - val_loss: 0.0858 - val_accuracy: 0.9748\n",
            "Epoch 20/50\n",
            "49/49 [==============================] - 9s 188ms/step - loss: 0.0016 - accuracy: 1.0000 - val_loss: 0.0864 - val_accuracy: 0.9748\n",
            "Epoch 21/50\n",
            "49/49 [==============================] - 9s 184ms/step - loss: 0.0015 - accuracy: 1.0000 - val_loss: 0.0833 - val_accuracy: 0.9748\n",
            "Epoch 22/50\n",
            "49/49 [==============================] - 9s 186ms/step - loss: 0.0013 - accuracy: 1.0000 - val_loss: 0.0848 - val_accuracy: 0.9748\n",
            "Epoch 23/50\n",
            "49/49 [==============================] - 9s 186ms/step - loss: 0.0013 - accuracy: 1.0000 - val_loss: 0.0854 - val_accuracy: 0.9748\n",
            "Epoch 24/50\n",
            "49/49 [==============================] - 9s 193ms/step - loss: 0.0011 - accuracy: 1.0000 - val_loss: 0.0827 - val_accuracy: 0.9748\n",
            "Epoch 25/50\n",
            "49/49 [==============================] - 9s 187ms/step - loss: 0.0010 - accuracy: 1.0000 - val_loss: 0.0819 - val_accuracy: 0.9767\n",
            "Epoch 26/50\n",
            "49/49 [==============================] - 9s 192ms/step - loss: 9.6320e-04 - accuracy: 1.0000 - val_loss: 0.0807 - val_accuracy: 0.9787\n",
            "Epoch 27/50\n",
            "49/49 [==============================] - 9s 192ms/step - loss: 9.0726e-04 - accuracy: 1.0000 - val_loss: 0.0837 - val_accuracy: 0.9787\n",
            "Epoch 28/50\n",
            "49/49 [==============================] - 9s 185ms/step - loss: 8.3939e-04 - accuracy: 1.0000 - val_loss: 0.0809 - val_accuracy: 0.9767\n",
            "Epoch 29/50\n",
            "49/49 [==============================] - 9s 184ms/step - loss: 7.8859e-04 - accuracy: 1.0000 - val_loss: 0.0816 - val_accuracy: 0.9767\n",
            "Epoch 30/50\n",
            "49/49 [==============================] - 9s 184ms/step - loss: 7.4696e-04 - accuracy: 1.0000 - val_loss: 0.0812 - val_accuracy: 0.9767\n",
            "Epoch 31/50\n",
            "49/49 [==============================] - 9s 192ms/step - loss: 6.9116e-04 - accuracy: 1.0000 - val_loss: 0.0826 - val_accuracy: 0.9748\n",
            "Epoch 32/50\n",
            "49/49 [==============================] - 9s 185ms/step - loss: 6.4497e-04 - accuracy: 1.0000 - val_loss: 0.0833 - val_accuracy: 0.9767\n",
            "Epoch 33/50\n",
            "49/49 [==============================] - 9s 187ms/step - loss: 6.0801e-04 - accuracy: 1.0000 - val_loss: 0.0834 - val_accuracy: 0.9748\n",
            "Epoch 34/50\n",
            "49/49 [==============================] - 9s 188ms/step - loss: 5.6154e-04 - accuracy: 1.0000 - val_loss: 0.0800 - val_accuracy: 0.9787\n",
            "Epoch 35/50\n",
            "49/49 [==============================] - 9s 186ms/step - loss: 5.2444e-04 - accuracy: 1.0000 - val_loss: 0.0802 - val_accuracy: 0.9787\n",
            "Epoch 36/50\n",
            "49/49 [==============================] - 9s 193ms/step - loss: 4.9941e-04 - accuracy: 1.0000 - val_loss: 0.0804 - val_accuracy: 0.9787\n",
            "Epoch 37/50\n",
            "49/49 [==============================] - 9s 186ms/step - loss: 4.6556e-04 - accuracy: 1.0000 - val_loss: 0.0811 - val_accuracy: 0.9787\n",
            "Epoch 38/50\n",
            "49/49 [==============================] - 9s 191ms/step - loss: 4.3915e-04 - accuracy: 1.0000 - val_loss: 0.0808 - val_accuracy: 0.9767\n",
            "Epoch 39/50\n",
            "49/49 [==============================] - 9s 186ms/step - loss: 4.1725e-04 - accuracy: 1.0000 - val_loss: 0.0798 - val_accuracy: 0.9767\n",
            "Epoch 40/50\n",
            "49/49 [==============================] - 9s 186ms/step - loss: 3.8976e-04 - accuracy: 1.0000 - val_loss: 0.0800 - val_accuracy: 0.9767\n",
            "Epoch 41/50\n",
            "49/49 [==============================] - 9s 185ms/step - loss: 3.7393e-04 - accuracy: 1.0000 - val_loss: 0.0796 - val_accuracy: 0.9787\n",
            "Epoch 42/50\n",
            "49/49 [==============================] - 9s 192ms/step - loss: 3.5202e-04 - accuracy: 1.0000 - val_loss: 0.0807 - val_accuracy: 0.9787\n",
            "Epoch 43/50\n",
            "49/49 [==============================] - 9s 193ms/step - loss: 3.3185e-04 - accuracy: 1.0000 - val_loss: 0.0805 - val_accuracy: 0.9787\n",
            "Epoch 44/50\n",
            "49/49 [==============================] - 9s 191ms/step - loss: 3.0892e-04 - accuracy: 1.0000 - val_loss: 0.0802 - val_accuracy: 0.9787\n",
            "Epoch 45/50\n",
            "49/49 [==============================] - 9s 185ms/step - loss: 2.9904e-04 - accuracy: 1.0000 - val_loss: 0.0803 - val_accuracy: 0.9787\n",
            "Epoch 46/50\n",
            "49/49 [==============================] - 9s 187ms/step - loss: 2.8252e-04 - accuracy: 1.0000 - val_loss: 0.0788 - val_accuracy: 0.9787\n",
            "Epoch 47/50\n",
            "49/49 [==============================] - 9s 187ms/step - loss: 2.6757e-04 - accuracy: 1.0000 - val_loss: 0.0805 - val_accuracy: 0.9767\n",
            "Epoch 48/50\n",
            "49/49 [==============================] - 9s 185ms/step - loss: 2.5635e-04 - accuracy: 1.0000 - val_loss: 0.0790 - val_accuracy: 0.9767\n",
            "Epoch 49/50\n",
            "49/49 [==============================] - 9s 186ms/step - loss: 2.3797e-04 - accuracy: 1.0000 - val_loss: 0.0788 - val_accuracy: 0.9767\n",
            "Epoch 50/50\n",
            "49/49 [==============================] - 9s 186ms/step - loss: 2.3981e-04 - accuracy: 1.0000 - val_loss: 0.0792 - val_accuracy: 0.9806\n"
          ]
        }
      ],
      "source": [
        "history = model.fit(train_images,train_labels, epochs=50, batch_size=32,validation_data=(test_images, test_labels))"
      ]
    },
    {
      "cell_type": "code",
      "execution_count": 25,
      "metadata": {
        "colab": {
          "base_uri": "https://localhost:8080/"
        },
        "id": "kkN3XRxRcLTR",
        "outputId": "ca0c6d04-0989-4c25-f904-dd8f33890677"
      },
      "outputs": [
        {
          "output_type": "stream",
          "name": "stdout",
          "text": [
            "17/17 [==============================] - 3s 138ms/step\n",
            "Accuracy: 0.9806201550387597\n"
          ]
        }
      ],
      "source": [
        "from sklearn.metrics import accuracy_score\n",
        "\n",
        "# Make predictions on the test data\n",
        "predictions = model.predict(test_images)\n",
        "\n",
        "# Convert the predictions to the class labels\n",
        "predicted_labels = np.argmax(predictions, axis=1)\n",
        "\n",
        "# Compute the accuracy score\n",
        "accuracy = accuracy_score(test_labels, predicted_labels)\n",
        "\n",
        "print('Accuracy:', accuracy)"
      ]
    },
    {
      "cell_type": "code",
      "execution_count": 26,
      "metadata": {
        "colab": {
          "base_uri": "https://localhost:8080/"
        },
        "id": "c_vdgbdHcM9x",
        "outputId": "ecb82128-934b-4c7b-f05a-c9cf254bcb4d"
      },
      "outputs": [
        {
          "output_type": "stream",
          "name": "stdout",
          "text": [
            "Precision: 98.06201550387597\n"
          ]
        }
      ],
      "source": [
        "from sklearn.metrics import precision_score\n",
        "\n",
        "precision = precision_score(test_labels, predicted_labels, average='micro')\n",
        "\n",
        "print('Precision:', precision*100)"
      ]
    },
    {
      "cell_type": "code",
      "execution_count": 27,
      "metadata": {
        "colab": {
          "base_uri": "https://localhost:8080/"
        },
        "id": "uzfAO9F_hXb5",
        "outputId": "368bc4a6-9c0b-45fc-b952-93d4354ea859"
      },
      "outputs": [
        {
          "output_type": "stream",
          "name": "stderr",
          "text": [
            "WARNING:absl:Found untraced functions such as _jit_compiled_convolution_op, _jit_compiled_convolution_op, _jit_compiled_convolution_op, _jit_compiled_convolution_op, _jit_compiled_convolution_op while saving (showing 5 of 13). These functions will not be directly callable after loading.\n"
          ]
        }
      ],
      "source": [
        "converter = tf.lite.TFLiteConverter.from_keras_model(model)\n",
        "tflite_model = converter.convert()\n",
        "\n",
        "with open(\"model.tflite\", 'wb') as f:\n",
        "  f.write(tflite_model)"
      ]
    },
    {
      "cell_type": "code",
      "execution_count": 28,
      "metadata": {
        "colab": {
          "base_uri": "https://localhost:8080/",
          "height": 380
        },
        "id": "8Px1Yfh4h2nP",
        "outputId": "1a9802cf-1cf5-4924-d617-01369f5f14a6"
      },
      "outputs": [
        {
          "output_type": "execute_result",
          "data": {
            "text/plain": [
              "Text(0.5, 1.0, 'Accuracy Vs Epoch')"
            ]
          },
          "metadata": {},
          "execution_count": 28
        },
        {
          "output_type": "display_data",
          "data": {
            "text/plain": [
              "<Figure size 1200x800 with 2 Axes>"
            ],
            "image/png": "[encoded data removed]"
          },
          "metadata": {}
        }
      ],
      "source": [
        "plt.figure(figsize=(12, 8))\n",
        "\n",
        "plt.subplot(2, 2, 1)\n",
        "plt.plot(history.history['loss'], label='train loss')\n",
        "plt.plot(history.history['val_loss'], label='val loss')\n",
        "plt.legend()\n",
        "plt.title('Loss Vs Epoch')\n",
        "\n",
        "plt.subplot(2, 2, 2)\n",
        "plt.plot(history.history['accuracy'], label='accuracy')\n",
        "plt.plot(history.history['val_accuracy'], label='val accuracy')\n",
        "plt.legend()\n",
        "plt.title('Accuracy Vs Epoch')"
      ]
    },
    {
      "cell_type": "code",
      "execution_count": 29,
      "metadata": {
        "id": "uEBJaJQOlMfr",
        "colab": {
          "base_uri": "https://localhost:8080/"
        },
        "outputId": "c869c500-1921-4f99-9677-5758e7965752"
      },
      "outputs": [
        {
          "output_type": "stream",
          "name": "stdout",
          "text": [
            "Model: \"sequential\"\n",
            "_________________________________________________________________\n",
            " Layer (type)                Output Shape              Param #   \n",
            "=================================================================\n",
            " vgg16 (Functional)          (None, None, None, 512)   14714688  \n",
            "                                                                 \n",
            " global_average_pooling2d (G  (None, 512)              0         \n",
            " lobalAveragePooling2D)                                          \n",
            "                                                                 \n",
            " dense (Dense)               (None, 1024)              525312    \n",
            "                                                                 \n",
            " dense_1 (Dense)             (None, 10)                10250     \n",
            "                                                                 \n",
            "=================================================================\n",
            "Total params: 15,250,250\n",
            "Trainable params: 535,562\n",
            "Non-trainable params: 14,714,688\n",
            "_________________________________________________________________\n"
          ]
        }
      ],
      "source": [
        "model.summary()"
      ]
    }
  ],
  "metadata": {
    "accelerator": "GPU",
    "colab": {
      "provenance": [],
      "mount_file_id": "1U4ORZtIxk6ugBD1YNVXY5QtVQz-VSRAw",
      "authorship_tag": "ABX9TyOeHZc+VmsXy+MQDQukcHTy",
      "include_colab_link": true
    },
    "gpuClass": "standard",
    "kernelspec": {
      "display_name": "Python 3",
      "name": "python3"
    },
    "language_info": {
      "name": "python"
    }
  },
  "nbformat": 4,
  "nbformat_minor": 0
}