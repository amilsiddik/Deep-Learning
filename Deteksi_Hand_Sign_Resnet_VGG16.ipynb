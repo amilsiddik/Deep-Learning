{
  "cells": [
    {
      "cell_type": "markdown",
      "metadata": {
        "id": "view-in-github",
        "colab_type": "text"
      },
      "source": [
        "<a href=\"https://colab.research.google.com/github/amilsiddik/Deep-Learning/blob/main/Deteksi_Hand_Sign_Resnet_VGG16.ipynb\" target=\"_parent\"><img src=\"https://colab.research.google.com/assets/colab-badge.svg\" alt=\"Open In Colab\"/></a>"
      ]
    },
    {
      "cell_type": "code",
      "execution_count": null,
      "metadata": {
        "id": "O9LHzlkEaWRC"
      },
      "outputs": [],
      "source": [
        "import pandas as pd\n",
        "import numpy as np\n",
        "import tensorflow as tf\n",
        "import os\n",
        "import cv2 as cv\n",
        "from tensorflow import keras\n",
        "from sklearn.model_selection import train_test_split\n",
        "from sklearn import preprocessing\n",
        "import matplotlib.pyplot as plt"
      ]
    },
    {
      "cell_type": "code",
      "execution_count": null,
      "metadata": {
        "colab": {
          "base_uri": "https://localhost:8080/"
        },
        "id": "s9Pm1pJqahex",
        "outputId": "3b0b7558-40d6-4ffb-ef2a-f230dee7b681"
      },
      "outputs": [
        {
          "output_type": "stream",
          "name": "stdout",
          "text": [
            "Drive already mounted at /content/drive; to attempt to forcibly remount, call drive.mount(\"/content/drive\", force_remount=True).\n"
          ]
        }
      ],
      "source": [
        "from google.colab import drive\n",
        "drive.mount('/content/drive')"
      ]
    },
    {
      "cell_type": "code",
      "execution_count": null,
      "metadata": {
        "id": "JKAKLwf_asR4"
      },
      "outputs": [],
      "source": [
        "path = \"/content/drive/MyDrive/Penelitian/Deteksi hand sign/Dataset\"\n",
        "key_value= dict()\n",
        "for i in os.listdir(path):\n",
        "    key_value[i] = os.listdir(path+'/'+i)"
      ]
    },
    {
      "cell_type": "code",
      "execution_count": null,
      "metadata": {
        "colab": {
          "base_uri": "https://localhost:8080/",
          "height": 424
        },
        "id": "aVUmD6DCa3OH",
        "outputId": "a53e81b0-404a-4144-e07d-885f4efde575"
      },
      "outputs": [
        {
          "output_type": "execute_result",
          "data": {
            "text/plain": [
              "     label                                               path\n",
              "0        6  /content/drive/MyDrive/Penelitian/Deteksi hand...\n",
              "1        6  /content/drive/MyDrive/Penelitian/Deteksi hand...\n",
              "2        6  /content/drive/MyDrive/Penelitian/Deteksi hand...\n",
              "3        6  /content/drive/MyDrive/Penelitian/Deteksi hand...\n",
              "4        6  /content/drive/MyDrive/Penelitian/Deteksi hand...\n",
              "...    ...                                                ...\n",
              "2057     7  /content/drive/MyDrive/Penelitian/Deteksi hand...\n",
              "2058     7  /content/drive/MyDrive/Penelitian/Deteksi hand...\n",
              "2059     7  /content/drive/MyDrive/Penelitian/Deteksi hand...\n",
              "2060     7  /content/drive/MyDrive/Penelitian/Deteksi hand...\n",
              "2061     7  /content/drive/MyDrive/Penelitian/Deteksi hand...\n",
              "\n",
              "[2062 rows x 2 columns]"
            ],
            "text/html": [
              "\n",
              "  <div id=\"df-b357ad43-fa5e-4262-88bf-5fd8e2b3f59d\">\n",
              "    <div class=\"colab-df-container\">\n",
              "      <div>\n",
              "<style scoped>\n",
              "    .dataframe tbody tr th:only-of-type {\n",
              "        vertical-align: middle;\n",
              "    }\n",
              "\n",
              "    .dataframe tbody tr th {\n",
              "        vertical-align: top;\n",
              "    }\n",
              "\n",
              "    .dataframe thead th {\n",
              "        text-align: right;\n",
              "    }\n",
              "</style>\n",
              "<table border=\"1\" class=\"dataframe\">\n",
              "  <thead>\n",
              "    <tr style=\"text-align: right;\">\n",
              "      <th></th>\n",
              "      <th>label</th>\n",
              "      <th>path</th>\n",
              "    </tr>\n",
              "  </thead>\n",
              "  <tbody>\n",
              "    <tr>\n",
              "      <th>0</th>\n",
              "      <td>6</td>\n",
              "      <td>/content/drive/MyDrive/Penelitian/Deteksi hand...</td>\n",
              "    </tr>\n",
              "    <tr>\n",
              "      <th>1</th>\n",
              "      <td>6</td>\n",
              "      <td>/content/drive/MyDrive/Penelitian/Deteksi hand...</td>\n",
              "    </tr>\n",
              "    <tr>\n",
              "      <th>2</th>\n",
              "      <td>6</td>\n",
              "      <td>/content/drive/MyDrive/Penelitian/Deteksi hand...</td>\n",
              "    </tr>\n",
              "    <tr>\n",
              "      <th>3</th>\n",
              "      <td>6</td>\n",
              "      <td>/content/drive/MyDrive/Penelitian/Deteksi hand...</td>\n",
              "    </tr>\n",
              "    <tr>\n",
              "      <th>4</th>\n",
              "      <td>6</td>\n",
              "      <td>/content/drive/MyDrive/Penelitian/Deteksi hand...</td>\n",
              "    </tr>\n",
              "    <tr>\n",
              "      <th>...</th>\n",
              "      <td>...</td>\n",
              "      <td>...</td>\n",
              "    </tr>\n",
              "    <tr>\n",
              "      <th>2057</th>\n",
              "      <td>7</td>\n",
              "      <td>/content/drive/MyDrive/Penelitian/Deteksi hand...</td>\n",
              "    </tr>\n",
              "    <tr>\n",
              "      <th>2058</th>\n",
              "      <td>7</td>\n",
              "      <td>/content/drive/MyDrive/Penelitian/Deteksi hand...</td>\n",
              "    </tr>\n",
              "    <tr>\n",
              "      <th>2059</th>\n",
              "      <td>7</td>\n",
              "      <td>/content/drive/MyDrive/Penelitian/Deteksi hand...</td>\n",
              "    </tr>\n",
              "    <tr>\n",
              "      <th>2060</th>\n",
              "      <td>7</td>\n",
              "      <td>/content/drive/MyDrive/Penelitian/Deteksi hand...</td>\n",
              "    </tr>\n",
              "    <tr>\n",
              "      <th>2061</th>\n",
              "      <td>7</td>\n",
              "      <td>/content/drive/MyDrive/Penelitian/Deteksi hand...</td>\n",
              "    </tr>\n",
              "  </tbody>\n",
              "</table>\n",
              "<p>2062 rows × 2 columns</p>\n",
              "</div>\n",
              "      <button class=\"colab-df-convert\" onclick=\"convertToInteractive('df-b357ad43-fa5e-4262-88bf-5fd8e2b3f59d')\"\n",
              "              title=\"Convert this dataframe to an interactive table.\"\n",
              "              style=\"display:none;\">\n",
              "        \n",
              "  <svg xmlns=\"http://www.w3.org/2000/svg\" height=\"24px\"viewBox=\"0 0 24 24\"\n",
              "       width=\"24px\">\n",
              "    <path d=\"M0 0h24v24H0V0z\" fill=\"none\"/>\n",
              "    <path d=\"M18.56 5.44l.94 2.06.94-2.06 2.06-.94-2.06-.94-.94-2.06-.94 2.06-2.06.94zm-11 1L8.5 8.5l.94-2.06 2.06-.94-2.06-.94L8.5 2.5l-.94 2.06-2.06.94zm10 10l.94 2.06.94-2.06 2.06-.94-2.06-.94-.94-2.06-.94 2.06-2.06.94z\"/><path d=\"M17.41 7.96l-1.37-1.37c-.4-.4-.92-.59-1.43-.59-.52 0-1.04.2-1.43.59L10.3 9.45l-7.72 7.72c-.78.78-.78 2.05 0 2.83L4 21.41c.39.39.9.59 1.41.59.51 0 1.02-.2 1.41-.59l7.78-7.78 2.81-2.81c.8-.78.8-2.07 0-2.86zM5.41 20L4 18.59l7.72-7.72 1.47 1.35L5.41 20z\"/>\n",
              "  </svg>\n",
              "      </button>\n",
              "      \n",
              "  <style>\n",
              "    .colab-df-container {\n",
              "      display:flex;\n",
              "      flex-wrap:wrap;\n",
              "      gap: 12px;\n",
              "    }\n",
              "\n",
              "    .colab-df-convert {\n",
              "      background-color: #E8F0FE;\n",
              "      border: none;\n",
              "      border-radius: 50%;\n",
              "      cursor: pointer;\n",
              "      display: none;\n",
              "      fill: #1967D2;\n",
              "      height: 32px;\n",
              "      padding: 0 0 0 0;\n",
              "      width: 32px;\n",
              "    }\n",
              "\n",
              "    .colab-df-convert:hover {\n",
              "      background-color: #E2EBFA;\n",
              "      box-shadow: 0px 1px 2px rgba(60, 64, 67, 0.3), 0px 1px 3px 1px rgba(60, 64, 67, 0.15);\n",
              "      fill: #174EA6;\n",
              "    }\n",
              "\n",
              "    [theme=dark] .colab-df-convert {\n",
              "      background-color: #3B4455;\n",
              "      fill: #D2E3FC;\n",
              "    }\n",
              "\n",
              "    [theme=dark] .colab-df-convert:hover {\n",
              "      background-color: #434B5C;\n",
              "      box-shadow: 0px 1px 3px 1px rgba(0, 0, 0, 0.15);\n",
              "      filter: drop-shadow(0px 1px 2px rgba(0, 0, 0, 0.3));\n",
              "      fill: #FFFFFF;\n",
              "    }\n",
              "  </style>\n",
              "\n",
              "      <script>\n",
              "        const buttonEl =\n",
              "          document.querySelector('#df-b357ad43-fa5e-4262-88bf-5fd8e2b3f59d button.colab-df-convert');\n",
              "        buttonEl.style.display =\n",
              "          google.colab.kernel.accessAllowed ? 'block' : 'none';\n",
              "\n",
              "        async function convertToInteractive(key) {\n",
              "          const element = document.querySelector('#df-b357ad43-fa5e-4262-88bf-5fd8e2b3f59d');\n",
              "          const dataTable =\n",
              "            await google.colab.kernel.invokeFunction('convertToInteractive',\n",
              "                                                     [key], {});\n",
              "          if (!dataTable) return;\n",
              "\n",
              "          const docLinkHtml = 'Like what you see? Visit the ' +\n",
              "            '<a target=\"_blank\" href=https://colab.research.google.com/notebooks/data_table.ipynb>data table notebook</a>'\n",
              "            + ' to learn more about interactive tables.';\n",
              "          element.innerHTML = '';\n",
              "          dataTable['output_type'] = 'display_data';\n",
              "          await google.colab.output.renderOutput(dataTable, element);\n",
              "          const docLink = document.createElement('div');\n",
              "          docLink.innerHTML = docLinkHtml;\n",
              "          element.appendChild(docLink);\n",
              "        }\n",
              "      </script>\n",
              "    </div>\n",
              "  </div>\n",
              "  "
            ]
          },
          "metadata": {},
          "execution_count": 4
        }
      ],
      "source": [
        "df = []\n",
        "for key in key_value.keys():\n",
        "    for j in key_value[key]:\n",
        "        df.append([key,path+'/'+key+'/'+j])\n",
        "df1 = pd.DataFrame(df,columns=('label','path'))\n",
        "df1"
      ]
    },
    {
      "cell_type": "code",
      "execution_count": null,
      "metadata": {
        "id": "nsQiZhhwa5iR"
      },
      "outputs": [],
      "source": [
        "def readimg(path):\n",
        "    img= cv.imread(path)\n",
        "    img = cv.resize(img,(224,224))\n",
        "    return img"
      ]
    },
    {
      "cell_type": "code",
      "execution_count": null,
      "metadata": {
        "id": "q_XPQTjia7zJ"
      },
      "outputs": [],
      "source": [
        "import multiprocessing\n",
        "\n",
        "# Create a Pool with 4 worker processes\n",
        "with multiprocessing.Pool(4) as p:\n",
        "    # Read in all of the images in parallel\n",
        "    images = p.map(readimg, df1['path'])"
      ]
    },
    {
      "cell_type": "code",
      "execution_count": null,
      "metadata": {
        "id": "7GpgNP2la-DM"
      },
      "outputs": [],
      "source": [
        "images=np.array(images, dtype='float')\n",
        "# label encoder from sklearn\n",
        "le = preprocessing.LabelEncoder()\n",
        "y_labels = le.fit_transform(df1['label'])"
      ]
    },
    {
      "cell_type": "code",
      "execution_count": null,
      "metadata": {
        "id": "tgG7wEahbrIY"
      },
      "outputs": [],
      "source": [
        "# to split the data into training and testing data\n",
        "train_images,test_images,train_labels,test_labels = train_test_split(images,y_labels,test_size=0.25, random_state=42)"
      ]
    },
    {
      "cell_type": "code",
      "execution_count": null,
      "metadata": {
        "id": "JASJ76AkbtWU",
        "colab": {
          "base_uri": "https://localhost:8080/"
        },
        "outputId": "ef28e168-77a5-45ab-9780-01f05c2d35f2"
      },
      "outputs": [
        {
          "output_type": "stream",
          "name": "stdout",
          "text": [
            "Downloading data from https://storage.googleapis.com/tensorflow/keras-applications/vgg16/vgg16_weights_tf_dim_ordering_tf_kernels_notop.h5\n",
            "58889256/58889256 [==============================] - 1s 0us/step\n"
          ]
        }
      ],
      "source": [
        "## implementing trensfer learning\n",
        "base_model = keras.applications.VGG16(weights='imagenet', include_top=False)\n",
        "\n",
        "# freezing the base model so we donot have to train it again\n",
        "base_model.trainable = False\n",
        "\n",
        "\n",
        "model = keras.Sequential([\n",
        "  base_model,\n",
        "  keras.layers.GlobalAveragePooling2D(),\n",
        "  keras.layers.Dense(1024, activation='relu'),\n",
        "  keras.layers.Dense(10, activation='softmax')\n",
        "])\n",
        "model.compile(optimizer='adam', loss='SparseCategoricalCrossentropy', metrics=['accuracy'])"
      ]
    },
    {
      "cell_type": "code",
      "execution_count": null,
      "metadata": {
        "colab": {
          "base_uri": "https://localhost:8080/"
        },
        "id": "wh52lAuSb5t8",
        "outputId": "d54acd6b-46b8-43d2-b251-8ff958ae3ce1"
      },
      "outputs": [
        {
          "output_type": "stream",
          "name": "stdout",
          "text": [
            "Epoch 1/50\n",
            "49/49 [==============================] - 27s 234ms/step - loss: 0.9987 - accuracy: 0.7225 - val_loss: 0.4010 - val_accuracy: 0.8663\n",
            "Epoch 2/50\n",
            "49/49 [==============================] - 8s 162ms/step - loss: 0.2167 - accuracy: 0.9301 - val_loss: 0.3171 - val_accuracy: 0.8876\n",
            "Epoch 3/50\n",
            "49/49 [==============================] - 8s 174ms/step - loss: 0.1280 - accuracy: 0.9631 - val_loss: 0.1390 - val_accuracy: 0.9632\n",
            "Epoch 4/50\n",
            "49/49 [==============================] - 9s 183ms/step - loss: 0.0704 - accuracy: 0.9819 - val_loss: 0.1385 - val_accuracy: 0.9535\n",
            "Epoch 5/50\n",
            "49/49 [==============================] - 8s 174ms/step - loss: 0.0369 - accuracy: 0.9922 - val_loss: 0.1306 - val_accuracy: 0.9632\n",
            "Epoch 6/50\n",
            "49/49 [==============================] - 8s 165ms/step - loss: 0.0201 - accuracy: 0.9974 - val_loss: 0.1464 - val_accuracy: 0.9574\n",
            "Epoch 7/50\n",
            "49/49 [==============================] - 9s 178ms/step - loss: 0.0124 - accuracy: 1.0000 - val_loss: 0.1219 - val_accuracy: 0.9651\n",
            "Epoch 8/50\n",
            "49/49 [==============================] - 9s 178ms/step - loss: 0.0094 - accuracy: 1.0000 - val_loss: 0.1036 - val_accuracy: 0.9632\n",
            "Epoch 9/50\n",
            "49/49 [==============================] - 8s 170ms/step - loss: 0.0059 - accuracy: 1.0000 - val_loss: 0.1037 - val_accuracy: 0.9671\n",
            "Epoch 10/50\n",
            "49/49 [==============================] - 9s 181ms/step - loss: 0.0051 - accuracy: 1.0000 - val_loss: 0.1005 - val_accuracy: 0.9690\n",
            "Epoch 11/50\n",
            "49/49 [==============================] - 8s 172ms/step - loss: 0.0041 - accuracy: 1.0000 - val_loss: 0.0972 - val_accuracy: 0.9709\n",
            "Epoch 12/50\n",
            "49/49 [==============================] - 9s 184ms/step - loss: 0.0035 - accuracy: 1.0000 - val_loss: 0.0974 - val_accuracy: 0.9690\n",
            "Epoch 13/50\n",
            "49/49 [==============================] - 9s 181ms/step - loss: 0.0032 - accuracy: 1.0000 - val_loss: 0.0918 - val_accuracy: 0.9748\n",
            "Epoch 14/50\n",
            "49/49 [==============================] - 8s 170ms/step - loss: 0.0028 - accuracy: 1.0000 - val_loss: 0.0938 - val_accuracy: 0.9709\n",
            "Epoch 15/50\n",
            "49/49 [==============================] - 8s 169ms/step - loss: 0.0025 - accuracy: 1.0000 - val_loss: 0.0926 - val_accuracy: 0.9690\n",
            "Epoch 16/50\n",
            "49/49 [==============================] - 8s 168ms/step - loss: 0.0022 - accuracy: 1.0000 - val_loss: 0.0899 - val_accuracy: 0.9709\n",
            "Epoch 17/50\n",
            "49/49 [==============================] - 8s 169ms/step - loss: 0.0020 - accuracy: 1.0000 - val_loss: 0.0897 - val_accuracy: 0.9709\n",
            "Epoch 18/50\n",
            "49/49 [==============================] - 9s 180ms/step - loss: 0.0019 - accuracy: 1.0000 - val_loss: 0.0891 - val_accuracy: 0.9709\n",
            "Epoch 19/50\n",
            "49/49 [==============================] - 8s 168ms/step - loss: 0.0017 - accuracy: 1.0000 - val_loss: 0.0862 - val_accuracy: 0.9767\n",
            "Epoch 20/50\n",
            "49/49 [==============================] - 9s 181ms/step - loss: 0.0016 - accuracy: 1.0000 - val_loss: 0.0880 - val_accuracy: 0.9729\n",
            "Epoch 21/50\n",
            "49/49 [==============================] - 8s 170ms/step - loss: 0.0014 - accuracy: 1.0000 - val_loss: 0.0864 - val_accuracy: 0.9729\n",
            "Epoch 22/50\n",
            "49/49 [==============================] - 8s 169ms/step - loss: 0.0013 - accuracy: 1.0000 - val_loss: 0.0858 - val_accuracy: 0.9729\n",
            "Epoch 23/50\n",
            "49/49 [==============================] - 9s 182ms/step - loss: 0.0012 - accuracy: 1.0000 - val_loss: 0.0839 - val_accuracy: 0.9729\n",
            "Epoch 24/50\n",
            "49/49 [==============================] - 9s 180ms/step - loss: 0.0011 - accuracy: 1.0000 - val_loss: 0.0851 - val_accuracy: 0.9748\n",
            "Epoch 25/50\n",
            "49/49 [==============================] - 8s 169ms/step - loss: 9.9101e-04 - accuracy: 1.0000 - val_loss: 0.0842 - val_accuracy: 0.9767\n",
            "Epoch 26/50\n",
            "49/49 [==============================] - 8s 171ms/step - loss: 9.7604e-04 - accuracy: 1.0000 - val_loss: 0.0842 - val_accuracy: 0.9806\n",
            "Epoch 27/50\n",
            "49/49 [==============================] - 8s 168ms/step - loss: 8.7624e-04 - accuracy: 1.0000 - val_loss: 0.0840 - val_accuracy: 0.9729\n",
            "Epoch 28/50\n",
            "49/49 [==============================] - 9s 180ms/step - loss: 8.1629e-04 - accuracy: 1.0000 - val_loss: 0.0835 - val_accuracy: 0.9767\n",
            "Epoch 29/50\n",
            "49/49 [==============================] - 9s 181ms/step - loss: 7.6673e-04 - accuracy: 1.0000 - val_loss: 0.0842 - val_accuracy: 0.9748\n",
            "Epoch 30/50\n",
            "49/49 [==============================] - 9s 180ms/step - loss: 7.0392e-04 - accuracy: 1.0000 - val_loss: 0.0855 - val_accuracy: 0.9709\n",
            "Epoch 31/50\n",
            "49/49 [==============================] - 8s 171ms/step - loss: 6.4873e-04 - accuracy: 1.0000 - val_loss: 0.0867 - val_accuracy: 0.9729\n",
            "Epoch 32/50\n",
            "49/49 [==============================] - 8s 172ms/step - loss: 6.1829e-04 - accuracy: 1.0000 - val_loss: 0.0832 - val_accuracy: 0.9767\n",
            "Epoch 33/50\n",
            "49/49 [==============================] - 8s 170ms/step - loss: 5.7663e-04 - accuracy: 1.0000 - val_loss: 0.0844 - val_accuracy: 0.9767\n",
            "Epoch 34/50\n",
            "49/49 [==============================] - 9s 183ms/step - loss: 5.3856e-04 - accuracy: 1.0000 - val_loss: 0.0843 - val_accuracy: 0.9767\n",
            "Epoch 35/50\n",
            "49/49 [==============================] - 9s 181ms/step - loss: 5.0243e-04 - accuracy: 1.0000 - val_loss: 0.0832 - val_accuracy: 0.9748\n",
            "Epoch 36/50\n",
            "49/49 [==============================] - 8s 168ms/step - loss: 4.8439e-04 - accuracy: 1.0000 - val_loss: 0.0845 - val_accuracy: 0.9729\n",
            "Epoch 37/50\n",
            "49/49 [==============================] - 9s 182ms/step - loss: 4.4466e-04 - accuracy: 1.0000 - val_loss: 0.0856 - val_accuracy: 0.9748\n",
            "Epoch 38/50\n",
            "49/49 [==============================] - 8s 170ms/step - loss: 4.2517e-04 - accuracy: 1.0000 - val_loss: 0.0833 - val_accuracy: 0.9748\n",
            "Epoch 39/50\n",
            "49/49 [==============================] - 9s 181ms/step - loss: 3.9889e-04 - accuracy: 1.0000 - val_loss: 0.0838 - val_accuracy: 0.9729\n",
            "Epoch 40/50\n",
            "49/49 [==============================] - 9s 182ms/step - loss: 3.7549e-04 - accuracy: 1.0000 - val_loss: 0.0839 - val_accuracy: 0.9748\n",
            "Epoch 41/50\n",
            "49/49 [==============================] - 9s 180ms/step - loss: 3.6303e-04 - accuracy: 1.0000 - val_loss: 0.0836 - val_accuracy: 0.9748\n",
            "Epoch 42/50\n",
            "49/49 [==============================] - 9s 180ms/step - loss: 3.3463e-04 - accuracy: 1.0000 - val_loss: 0.0839 - val_accuracy: 0.9787\n",
            "Epoch 43/50\n",
            "49/49 [==============================] - 8s 171ms/step - loss: 3.2169e-04 - accuracy: 1.0000 - val_loss: 0.0836 - val_accuracy: 0.9729\n",
            "Epoch 44/50\n",
            "49/49 [==============================] - 9s 180ms/step - loss: 3.0095e-04 - accuracy: 1.0000 - val_loss: 0.0841 - val_accuracy: 0.9729\n",
            "Epoch 45/50\n",
            "49/49 [==============================] - 8s 170ms/step - loss: 2.8345e-04 - accuracy: 1.0000 - val_loss: 0.0841 - val_accuracy: 0.9767\n",
            "Epoch 46/50\n",
            "49/49 [==============================] - 9s 182ms/step - loss: 2.6790e-04 - accuracy: 1.0000 - val_loss: 0.0839 - val_accuracy: 0.9767\n",
            "Epoch 47/50\n",
            "49/49 [==============================] - 8s 169ms/step - loss: 2.5919e-04 - accuracy: 1.0000 - val_loss: 0.0844 - val_accuracy: 0.9748\n",
            "Epoch 48/50\n",
            "49/49 [==============================] - 8s 170ms/step - loss: 2.4063e-04 - accuracy: 1.0000 - val_loss: 0.0836 - val_accuracy: 0.9729\n",
            "Epoch 49/50\n",
            "49/49 [==============================] - 8s 171ms/step - loss: 2.3008e-04 - accuracy: 1.0000 - val_loss: 0.0852 - val_accuracy: 0.9748\n",
            "Epoch 50/50\n",
            "49/49 [==============================] - 8s 169ms/step - loss: 2.2165e-04 - accuracy: 1.0000 - val_loss: 0.0839 - val_accuracy: 0.9767\n"
          ]
        }
      ],
      "source": [
        "history = model.fit(train_images,train_labels, epochs=50, batch_size=32,validation_data=(test_images, test_labels))"
      ]
    },
    {
      "cell_type": "code",
      "execution_count": null,
      "metadata": {
        "colab": {
          "base_uri": "https://localhost:8080/"
        },
        "id": "kkN3XRxRcLTR",
        "outputId": "9082c97c-95ff-405d-d385-199e7f5b50bf"
      },
      "outputs": [
        {
          "output_type": "stream",
          "name": "stdout",
          "text": [
            "17/17 [==============================] - 2s 124ms/step\n",
            "Accuracy: 0.9767441860465116\n"
          ]
        }
      ],
      "source": [
        "from sklearn.metrics import accuracy_score\n",
        "\n",
        "# Make predictions on the test data\n",
        "predictions = model.predict(test_images)\n",
        "\n",
        "# Convert the predictions to the class labels\n",
        "predicted_labels = np.argmax(predictions, axis=1)\n",
        "\n",
        "# Compute the accuracy score\n",
        "accuracy = accuracy_score(test_labels, predicted_labels)\n",
        "\n",
        "print('Accuracy:', accuracy)"
      ]
    },
    {
      "cell_type": "code",
      "execution_count": null,
      "metadata": {
        "colab": {
          "base_uri": "https://localhost:8080/"
        },
        "id": "c_vdgbdHcM9x",
        "outputId": "da44c82a-1a83-497c-c17e-3df862cafe7b"
      },
      "outputs": [
        {
          "output_type": "stream",
          "name": "stdout",
          "text": [
            "Precision: 97.67441860465115\n"
          ]
        }
      ],
      "source": [
        "from sklearn.metrics import precision_score\n",
        "\n",
        "precision = precision_score(test_labels, predicted_labels, average='micro')\n",
        "\n",
        "print('Precision:', precision*100)"
      ]
    },
    {
      "cell_type": "code",
      "execution_count": null,
      "metadata": {
        "colab": {
          "base_uri": "https://localhost:8080/"
        },
        "id": "uzfAO9F_hXb5",
        "outputId": "981cf9b8-62bc-4352-9d25-d25478332530"
      },
      "outputs": [
        {
          "output_type": "stream",
          "name": "stderr",
          "text": [
            "WARNING:absl:Found untraced functions such as _jit_compiled_convolution_op, _jit_compiled_convolution_op, _jit_compiled_convolution_op, _jit_compiled_convolution_op, _jit_compiled_convolution_op while saving (showing 5 of 13). These functions will not be directly callable after loading.\n"
          ]
        }
      ],
      "source": [
        "converter = tf.lite.TFLiteConverter.from_keras_model(model)\n",
        "tflite_model = converter.convert()\n",
        "\n",
        "with open(\"model.tflite\", 'wb') as f:\n",
        "  f.write(tflite_model)"
      ]
    },
    {
      "cell_type": "code",
      "execution_count": null,
      "metadata": {
        "colab": {
          "base_uri": "https://localhost:8080/",
          "height": 380
        },
        "id": "8Px1Yfh4h2nP",
        "outputId": "e829aaa5-0463-473e-9bb0-472c5ac399e8"
      },
      "outputs": [
        {
          "output_type": "execute_result",
          "data": {
            "text/plain": [
              "Text(0.5, 1.0, 'Accuracy Vs Epoch')"
            ]
          },
          "metadata": {},
          "execution_count": 14
        },
        {
          "output_type": "display_data",
          "data": {
            "text/plain": [
              "<Figure size 1200x800 with 2 Axes>"
            ],
            "image/png": "[encoded data removed]"
          },
          "metadata": {}
        }
      ],
      "source": [
        "plt.figure(figsize=(12, 8))\n",
        "\n",
        "plt.subplot(2, 2, 1)\n",
        "plt.plot(history.history['loss'], label='train loss')\n",
        "plt.plot(history.history['val_loss'], label='val loss')\n",
        "plt.legend()\n",
        "plt.title('Loss Vs Epoch')\n",
        "\n",
        "plt.subplot(2, 2, 2)\n",
        "plt.plot(history.history['accuracy'], label='accuracy')\n",
        "plt.plot(history.history['val_accuracy'], label='val accuracy')\n",
        "plt.legend()\n",
        "plt.title('Accuracy Vs Epoch')"
      ]
    },
    {
      "cell_type": "code",
      "execution_count": null,
      "metadata": {
        "id": "uEBJaJQOlMfr",
        "colab": {
          "base_uri": "https://localhost:8080/"
        },
        "outputId": "6aedf206-2951-478e-8027-6edb7ce5d337"
      },
      "outputs": [
        {
          "output_type": "stream",
          "name": "stdout",
          "text": [
            "Model: \"sequential\"\n",
            "_________________________________________________________________\n",
            " Layer (type)                Output Shape              Param #   \n",
            "=================================================================\n",
            " vgg16 (Functional)          (None, None, None, 512)   14714688  \n",
            "                                                                 \n",
            " global_average_pooling2d (G  (None, 512)              0         \n",
            " lobalAveragePooling2D)                                          \n",
            "                                                                 \n",
            " dense (Dense)               (None, 1024)              525312    \n",
            "                                                                 \n",
            " dense_1 (Dense)             (None, 10)                10250     \n",
            "                                                                 \n",
            "=================================================================\n",
            "Total params: 15,250,250\n",
            "Trainable params: 535,562\n",
            "Non-trainable params: 14,714,688\n",
            "_________________________________________________________________\n"
          ]
        }
      ],
      "source": [
        "model.summary()"
      ]
    }
  ],
  "metadata": {
    "accelerator": "GPU",
    "colab": {
      "provenance": [],
      "mount_file_id": "1obi7UmxgSC3TG1yUEw3QF0ozCzjdZnsJ",
      "authorship_tag": "ABX9TyMNiUAH3RpAZP2iLpBuMJ1A",
      "include_colab_link": true
    },
    "gpuClass": "standard",
    "kernelspec": {
      "display_name": "Python 3",
      "name": "python3"
    },
    "language_info": {
      "name": "python"
    }
  },
  "nbformat": 4,
  "nbformat_minor": 0
}